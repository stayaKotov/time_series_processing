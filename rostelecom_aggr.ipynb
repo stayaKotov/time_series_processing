{
 "cells": [
  {
   "cell_type": "code",
   "execution_count": 1,
   "metadata": {},
   "outputs": [
    {
     "name": "stderr",
     "output_type": "stream",
     "text": [
      "/anaconda3/lib/python3.6/site-packages/statsmodels/compat/pandas.py:56: FutureWarning: The pandas.core.datetools module is deprecated and will be removed in a future version. Please use the pandas.tseries module instead.\n",
      "  from pandas.core import datetools\n"
     ]
    },
    {
     "data": {
      "text/html": [
       "<script>requirejs.config({paths: { 'plotly': ['https://cdn.plot.ly/plotly-latest.min']},});if(!window.Plotly) {{require(['plotly'],function(plotly) {window.Plotly=plotly;});}}</script>"
      ],
      "text/vnd.plotly.v1+html": [
       "<script>requirejs.config({paths: { 'plotly': ['https://cdn.plot.ly/plotly-latest.min']},});if(!window.Plotly) {{require(['plotly'],function(plotly) {window.Plotly=plotly;});}}</script>"
      ]
     },
     "metadata": {},
     "output_type": "display_data"
    }
   ],
   "source": [
    "%matplotlib inline\n",
    "import pandas as pd\n",
    "import numpy as np\n",
    "import matplotlib as mpl\n",
    "import matplotlib.pyplot as plt\n",
    "import seaborn as sns\n",
    "import matplotlib.pylab as pylab\n",
    "from datetime import datetime\n",
    "import os\n",
    "import sys\n",
    "from pandas.plotting import autocorrelation_plot\n",
    "from statsmodels.tsa.stattools import adfuller\n",
    "\n",
    "import astropy.stats as ast_stats\n",
    "\n",
    "import pyflux as pf\n",
    "\n",
    "import traces\n",
    "\n",
    "import warnings\n",
    "warnings.filterwarnings('ignore')\n",
    "import tqdm\n",
    "\n",
    "from sklearn.metrics import mean_absolute_error, mean_squared_error\n",
    "\n",
    "import statsmodels.formula.api as smf\n",
    "import statsmodels.tsa.api as smt\n",
    "import statsmodels.api as sm\n",
    "import scipy.stats as scs\n",
    "from scipy.optimize import minimize\n",
    "\n",
    "from plotly.offline import download_plotlyjs, init_notebook_mode, plot, iplot\n",
    "from plotly import graph_objs as go\n",
    "init_notebook_mode(connected = True)\n",
    "\n",
    "from sklearn.model_selection import TimeSeriesSplit\n",
    "\n",
    "from scipy import integrate\n",
    "\n",
    "from numpy import array, arange, abs as np_abs\n",
    "from numpy.fft import rfft, rfftfreq\n",
    "\n",
    "import stldecompose\n",
    "\n",
    "from sklearn.manifold import TSNE,MDS\n",
    "\n",
    "from sklearn.ensemble import RandomForestRegressor"
   ]
  },
  {
   "cell_type": "code",
   "execution_count": 2,
   "metadata": {
    "collapsed": true
   },
   "outputs": [],
   "source": [
    "def plotly_df(df, title = ''):\n",
    "    data = []\n",
    "    column = 'cpu'\n",
    "    trace = go.Scatter(\n",
    "        x = df.index,\n",
    "        y = df.values,\n",
    "        mode = 'lines',\n",
    "        name = column\n",
    "    )\n",
    "    data.append(trace)\n",
    "\n",
    "    layout = dict(title = title)\n",
    "    fig = dict(data = data, layout = layout)\n",
    "    iplot(fig, show_link=False)"
   ]
  },
  {
   "cell_type": "code",
   "execution_count": 3,
   "metadata": {
    "collapsed": true
   },
   "outputs": [],
   "source": [
    "def load_files_from_folder(files_name, col_name, root):\n",
    "    datas = []\n",
    "    for file in os.listdir(root):\n",
    "        if os.path.isdir(os.path.join(root, file)):\n",
    "            ip = file\n",
    "            for fl in os.listdir(os.path.join(root, file)):\n",
    "                cols = ['timestamp', col_name]\n",
    "                if files_name in fl:\n",
    "                    df = pd.read_csv(\n",
    "                        os.path.join(root,file,fl),\n",
    "                        sep=',',\n",
    "                        encoding='utf-8',\n",
    "                        dtype='str',\n",
    "                        names=cols\n",
    "                    )\n",
    "                    df['ip'] = ip\n",
    "                    datas.append(df)\n",
    "    return pd.concat(datas, ignore_index=True, axis=0)"
   ]
  },
  {
   "cell_type": "code",
   "execution_count": 4,
   "metadata": {
    "collapsed": true
   },
   "outputs": [],
   "source": [
    "def split_date_and_set_week(df, col_name):\n",
    "    mapping = {0:'mon', 1:'tue', 2:'wed', 3:'thu', 4:'fri', 5:'sat', 6:'sun'}\n",
    "    weeknum_mapping = {\n",
    "        range(1,8):'0',\n",
    "        range(8,15):'1',\n",
    "        range(15,22):'2',\n",
    "        range(22,29):'3',\n",
    "        range(29,33):'4'\n",
    "    }\n",
    "    \n",
    "    def set_weeknum(day):\n",
    "        for k,v in weeknum_mapping.items():\n",
    "            if day in k:\n",
    "                return v\n",
    "    \n",
    "    df.timestamp = df.timestamp.astype(int)\n",
    "    df['date'] = df.timestamp.apply(lambda x: datetime.fromtimestamp(x/1000000))\n",
    "    df['year'] = df.date.apply(lambda x: x.year)\n",
    "    df['month'] = df.date.apply(lambda x: x.month)\n",
    "    df['day'] = df.date.apply(lambda x: x.day)\n",
    "    df['hour'] = df.date.apply(lambda x: x.hour)\n",
    "    df['minute'] = df.date.apply(lambda x: x.minute)\n",
    "    df['second'] = df.date.apply(lambda x: x.second)\n",
    "    df['weekday'] = df.date.apply(lambda x: mapping[x.weekday()])\n",
    "    df['weeknum'] = df.day.apply(set_weeknum)\n",
    "    df['weekend'] = df.weekday.apply(lambda x: 1 if x == 'sat' or x == 'sun' else 0)\n",
    "    df['busy'] = df.hour.apply(lambda x: 1 if 9<=x<18 else 0)\n",
    "    try:\n",
    "        df[col_name] = df[col_name].astype(int)\n",
    "    except:\n",
    "        df[col_name] = df[col_name].astype(float)\n",
    "    return df"
   ]
  },
  {
   "cell_type": "code",
   "execution_count": 5,
   "metadata": {
    "collapsed": true
   },
   "outputs": [],
   "source": [
    "def select_data(files_name, col_name, root='./../../Downloads/ciscoSwitch/attributes/'):\n",
    "    df = load_files_from_folder(files_name=files_name, col_name=col_name, root=root)\n",
    "    df = split_date_and_set_week(df, col_name)\n",
    "    return df"
   ]
  },
  {
   "cell_type": "code",
   "execution_count": 6,
   "metadata": {
    "collapsed": true
   },
   "outputs": [],
   "source": [
    "df = select_data('cpuUtil', 'cpu')"
   ]
  },
  {
   "cell_type": "code",
   "execution_count": null,
   "metadata": {
    "collapsed": true
   },
   "outputs": [],
   "source": [
    "df.head(2)"
   ]
  },
  {
   "cell_type": "code",
   "execution_count": null,
   "metadata": {
    "collapsed": true
   },
   "outputs": [],
   "source": [
    "# df_mem = select_data('memUtil', 'mem')"
   ]
  },
  {
   "cell_type": "code",
   "execution_count": null,
   "metadata": {},
   "outputs": [],
   "source": [
    "df_mem.head(2)"
   ]
  },
  {
   "cell_type": "code",
   "execution_count": 7,
   "metadata": {
    "collapsed": true
   },
   "outputs": [],
   "source": [
    "df_in = select_data('inUtil', 'in', './../../Downloads/ciscoSwitch/interfacesSamples/')"
   ]
  },
  {
   "cell_type": "code",
   "execution_count": null,
   "metadata": {},
   "outputs": [],
   "source": [
    "df_in.head(2)"
   ]
  },
  {
   "cell_type": "code",
   "execution_count": null,
   "metadata": {
    "collapsed": true
   },
   "outputs": [],
   "source": [
    "df_out = select_data('outUtil', 'out', './../../Downloads/ciscoSwitch/interfacesSamples/')"
   ]
  },
  {
   "cell_type": "code",
   "execution_count": null,
   "metadata": {},
   "outputs": [],
   "source": [
    "df_out.head(2)"
   ]
  },
  {
   "cell_type": "code",
   "execution_count": null,
   "metadata": {
    "collapsed": true
   },
   "outputs": [],
   "source": [
    "intersect_ip = list( \n",
    "                    set(df['ip'].unique()) & \n",
    "                    set(df_mem['ip'].unique()) &  \n",
    "                    set(df_out['ip'].unique()) & \n",
    "                    set(df_in['ip'].unique()) \n",
    "                   )"
   ]
  },
  {
   "cell_type": "markdown",
   "metadata": {},
   "source": [
    "## Wavelet"
   ]
  },
  {
   "cell_type": "code",
   "execution_count": 11,
   "metadata": {},
   "outputs": [
    {
     "data": {
      "text/html": [
       "<div>\n",
       "<style scoped>\n",
       "    .dataframe tbody tr th:only-of-type {\n",
       "        vertical-align: middle;\n",
       "    }\n",
       "\n",
       "    .dataframe tbody tr th {\n",
       "        vertical-align: top;\n",
       "    }\n",
       "\n",
       "    .dataframe thead th {\n",
       "        text-align: right;\n",
       "    }\n",
       "</style>\n",
       "<table border=\"1\" class=\"dataframe\">\n",
       "  <thead>\n",
       "    <tr style=\"text-align: right;\">\n",
       "      <th></th>\n",
       "      <th>timestamp</th>\n",
       "      <th>in</th>\n",
       "      <th>ip</th>\n",
       "      <th>date</th>\n",
       "      <th>year</th>\n",
       "      <th>month</th>\n",
       "      <th>day</th>\n",
       "      <th>hour</th>\n",
       "      <th>minute</th>\n",
       "      <th>second</th>\n",
       "      <th>weekday</th>\n",
       "      <th>weeknum</th>\n",
       "      <th>weekend</th>\n",
       "      <th>busy</th>\n",
       "    </tr>\n",
       "  </thead>\n",
       "  <tbody>\n",
       "    <tr>\n",
       "      <th>0</th>\n",
       "      <td>1506805302848497</td>\n",
       "      <td>3.37</td>\n",
       "      <td>10.10.245.12</td>\n",
       "      <td>2017-10-01 00:01:42.848497</td>\n",
       "      <td>2017</td>\n",
       "      <td>10</td>\n",
       "      <td>1</td>\n",
       "      <td>0</td>\n",
       "      <td>1</td>\n",
       "      <td>42</td>\n",
       "      <td>sun</td>\n",
       "      <td>0</td>\n",
       "      <td>1</td>\n",
       "      <td>0</td>\n",
       "    </tr>\n",
       "    <tr>\n",
       "      <th>1</th>\n",
       "      <td>1506805604560347</td>\n",
       "      <td>2.98</td>\n",
       "      <td>10.10.245.12</td>\n",
       "      <td>2017-10-01 00:06:44.560347</td>\n",
       "      <td>2017</td>\n",
       "      <td>10</td>\n",
       "      <td>1</td>\n",
       "      <td>0</td>\n",
       "      <td>6</td>\n",
       "      <td>44</td>\n",
       "      <td>sun</td>\n",
       "      <td>0</td>\n",
       "      <td>1</td>\n",
       "      <td>0</td>\n",
       "    </tr>\n",
       "    <tr>\n",
       "      <th>2</th>\n",
       "      <td>1506805902877354</td>\n",
       "      <td>3.06</td>\n",
       "      <td>10.10.245.12</td>\n",
       "      <td>2017-10-01 00:11:42.877354</td>\n",
       "      <td>2017</td>\n",
       "      <td>10</td>\n",
       "      <td>1</td>\n",
       "      <td>0</td>\n",
       "      <td>11</td>\n",
       "      <td>42</td>\n",
       "      <td>sun</td>\n",
       "      <td>0</td>\n",
       "      <td>1</td>\n",
       "      <td>0</td>\n",
       "    </tr>\n",
       "    <tr>\n",
       "      <th>3</th>\n",
       "      <td>1506806208656659</td>\n",
       "      <td>2.93</td>\n",
       "      <td>10.10.245.12</td>\n",
       "      <td>2017-10-01 00:16:48.656659</td>\n",
       "      <td>2017</td>\n",
       "      <td>10</td>\n",
       "      <td>1</td>\n",
       "      <td>0</td>\n",
       "      <td>16</td>\n",
       "      <td>48</td>\n",
       "      <td>sun</td>\n",
       "      <td>0</td>\n",
       "      <td>1</td>\n",
       "      <td>0</td>\n",
       "    </tr>\n",
       "    <tr>\n",
       "      <th>4</th>\n",
       "      <td>1506806502909640</td>\n",
       "      <td>2.77</td>\n",
       "      <td>10.10.245.12</td>\n",
       "      <td>2017-10-01 00:21:42.909640</td>\n",
       "      <td>2017</td>\n",
       "      <td>10</td>\n",
       "      <td>1</td>\n",
       "      <td>0</td>\n",
       "      <td>21</td>\n",
       "      <td>42</td>\n",
       "      <td>sun</td>\n",
       "      <td>0</td>\n",
       "      <td>1</td>\n",
       "      <td>0</td>\n",
       "    </tr>\n",
       "  </tbody>\n",
       "</table>\n",
       "</div>"
      ],
      "text/plain": [
       "          timestamp    in            ip                       date  year  \\\n",
       "0  1506805302848497  3.37  10.10.245.12 2017-10-01 00:01:42.848497  2017   \n",
       "1  1506805604560347  2.98  10.10.245.12 2017-10-01 00:06:44.560347  2017   \n",
       "2  1506805902877354  3.06  10.10.245.12 2017-10-01 00:11:42.877354  2017   \n",
       "3  1506806208656659  2.93  10.10.245.12 2017-10-01 00:16:48.656659  2017   \n",
       "4  1506806502909640  2.77  10.10.245.12 2017-10-01 00:21:42.909640  2017   \n",
       "\n",
       "   month  day  hour  minute  second weekday weeknum  weekend  busy  \n",
       "0     10    1     0       1      42     sun       0        1     0  \n",
       "1     10    1     0       6      44     sun       0        1     0  \n",
       "2     10    1     0      11      42     sun       0        1     0  \n",
       "3     10    1     0      16      48     sun       0        1     0  \n",
       "4     10    1     0      21      42     sun       0        1     0  "
      ]
     },
     "execution_count": 11,
     "metadata": {},
     "output_type": "execute_result"
    }
   ],
   "source": [
    "df_in.head()"
   ]
  },
  {
   "cell_type": "code",
   "execution_count": 9,
   "metadata": {},
   "outputs": [
    {
     "data": {
      "text/plain": [
       "array(['10.10.245.12', '10.10.246.8', '10.21.7.42'], dtype=object)"
      ]
     },
     "execution_count": 9,
     "metadata": {},
     "output_type": "execute_result"
    }
   ],
   "source": [
    "df_in.ip.unique()[:3]"
   ]
  },
  {
   "cell_type": "code",
   "execution_count": 14,
   "metadata": {},
   "outputs": [],
   "source": [
    "t = df_in[df_in.ip == df_in.ip.unique()[0]][['timestamp', 'in']]"
   ]
  },
  {
   "cell_type": "code",
   "execution_count": 16,
   "metadata": {},
   "outputs": [
    {
     "data": {
      "text/plain": [
       "0    3.37\n",
       "1    2.98\n",
       "2    3.06\n",
       "3    2.93\n",
       "4    2.77\n",
       "Name: in, dtype: float64"
      ]
     },
     "execution_count": 16,
     "metadata": {},
     "output_type": "execute_result"
    }
   ],
   "source": [
    "t['in'].head()"
   ]
  },
  {
   "cell_type": "markdown",
   "metadata": {},
   "source": [
    "### Сколько ip мы вообще не будем рассматривать?"
   ]
  },
  {
   "cell_type": "code",
   "execution_count": null,
   "metadata": {},
   "outputs": [],
   "source": [
    "print(df['ip'].unique().shape[0] - len(intersect_ip))\n",
    "print(df_mem['ip'].unique().shape[0] - len(intersect_ip))\n",
    "print(df_out['ip'].unique().shape[0] - len(intersect_ip))\n",
    "print(df_in['ip'].unique().shape[0] - len(intersect_ip))"
   ]
  },
  {
   "cell_type": "code",
   "execution_count": null,
   "metadata": {
    "collapsed": true
   },
   "outputs": [],
   "source": [
    "df = df[df.ip.isin(intersect_ip)]\n",
    "df_mem = df_mem[df_mem.ip.isin(intersect_ip)]\n",
    "df_out = df_out[df_out.ip.isin(intersect_ip)]\n",
    "df_in = df_in[df_in.ip.isin(intersect_ip)]"
   ]
  },
  {
   "cell_type": "code",
   "execution_count": null,
   "metadata": {
    "collapsed": true
   },
   "outputs": [],
   "source": [
    "def get_unique_stat(df, col_name):\n",
    "    ip = []\n",
    "    n = []\n",
    "    nunique = []\n",
    "    for k,v in df.groupby(['ip']):\n",
    "        ip.append(k)\n",
    "        n.append(v['timestamp'].count())\n",
    "        nunique.append(v[col_name].unique().shape[0])\n",
    "\n",
    "    unique_stat = pd.DataFrame()\n",
    "    unique_stat['ip'] = ip\n",
    "    unique_stat['n'] = n\n",
    "    unique_stat['nunique'] = nunique\n",
    "    unique_stat['ratio'] = unique_stat['nunique']/unique_stat['n']\n",
    "    return unique_stat"
   ]
  },
  {
   "cell_type": "code",
   "execution_count": null,
   "metadata": {
    "collapsed": true
   },
   "outputs": [],
   "source": [
    "un_cpu = get_unique_stat(df, 'cpu')"
   ]
  },
  {
   "cell_type": "code",
   "execution_count": null,
   "metadata": {
    "collapsed": true
   },
   "outputs": [],
   "source": [
    "un_mem = get_unique_stat(df_mem, 'mem')"
   ]
  },
  {
   "cell_type": "code",
   "execution_count": null,
   "metadata": {
    "collapsed": true
   },
   "outputs": [],
   "source": [
    "un_in = get_unique_stat(df_in, 'in')"
   ]
  },
  {
   "cell_type": "code",
   "execution_count": null,
   "metadata": {
    "collapsed": true
   },
   "outputs": [],
   "source": [
    "un_out = get_unique_stat(df_out, 'out')"
   ]
  },
  {
   "cell_type": "code",
   "execution_count": null,
   "metadata": {
    "collapsed": true
   },
   "outputs": [],
   "source": [
    "un_cpu.head()"
   ]
  },
  {
   "cell_type": "code",
   "execution_count": null,
   "metadata": {
    "collapsed": true
   },
   "outputs": [],
   "source": [
    "un_mem.head()"
   ]
  },
  {
   "cell_type": "code",
   "execution_count": null,
   "metadata": {
    "collapsed": true
   },
   "outputs": [],
   "source": [
    "un_in.head()"
   ]
  },
  {
   "cell_type": "code",
   "execution_count": null,
   "metadata": {
    "collapsed": true
   },
   "outputs": [],
   "source": [
    "un_out.head()"
   ]
  },
  {
   "cell_type": "code",
   "execution_count": null,
   "metadata": {
    "collapsed": true
   },
   "outputs": [],
   "source": [
    "f = plt.figure(figsize=(17,8))\n",
    "pylab.subplot(4,2,1)\n",
    "sns.distplot(un_cpu['n'])\n",
    "pylab.subplot(4,2,2)\n",
    "sns.distplot(un_cpu['nunique'])\n",
    "\n",
    "pylab.subplot(4,2,3)\n",
    "sns.distplot(un_mem['n'])\n",
    "pylab.subplot(4,2,4)\n",
    "sns.distplot(un_mem['nunique'])\n",
    "\n",
    "pylab.subplot(4,2,5)\n",
    "sns.distplot(un_in['n'])\n",
    "pylab.subplot(4,2,6)\n",
    "sns.distplot(un_in['nunique'])\n",
    "\n",
    "pylab.subplot(4,2,7)\n",
    "sns.distplot(un_out['n'])\n",
    "pylab.subplot(4,2,8)\n",
    "sns.distplot(un_out['nunique'])\n",
    "\n",
    "f.savefig('./../Desktop/multi_distr.png')"
   ]
  },
  {
   "cell_type": "code",
   "execution_count": null,
   "metadata": {
    "collapsed": true
   },
   "outputs": [],
   "source": [
    "def plot_valid_invalid(un, is_mem=False):\n",
    "    print(un['nunique'].median())\n",
    "    print(un['nunique'].mean())\n",
    "    print()\n",
    "    print(un['n'].median())\n",
    "    print(un['n'].mean())\n",
    "\n",
    "    if is_mem:\n",
    "            clazz = (un['n'] >= un['n'].quantile(.01)) & \\\n",
    "            (un['nunique'] >= un['nunique'].quantile(.01)) & \\\n",
    "            (un['n'] <= un['n'].quantile(.99)) & \\\n",
    "            (un['nunique'] <= un['nunique'].quantile(.99))\n",
    "    else:    \n",
    "        clazz = (un['n'] >= un['n'].quantile(.25)) & \\\n",
    "                (un['nunique'] >= un['nunique'].quantile(.25)) & \\\n",
    "                (un['n'] <= un['n'].quantile(.75)) & \\\n",
    "                (un['nunique'] <= un['nunique'].quantile(.75))\n",
    "    unn = un.copy(deep=True)\n",
    "    unn['class'] = clazz.astype(int).values\n",
    "\n",
    "    sns.lmplot(data=unn, x='n', y='nunique', hue='class', size=8, aspect=2, legend=False, scatter=True, logistic=False)\n",
    "    plt.xlabel(u'Количество измерений')\n",
    "    plt.ylabel(u'Количество уникальных значений в измерениях')\n",
    "    plt.axvline(un['n'].quantile(.25), color='g', linestyle='--', label='n quantile(.25)')\n",
    "    plt.axvline(un['n'].quantile(.75), color='g', linestyle='--', label='n quantile(.75)')\n",
    "    plt.axhline(un['nunique'].quantile(.25), color='r', linestyle='--', label='nunique quantile(.25)')\n",
    "    plt.axhline(un['nunique'].quantile(.75), color='r', linestyle='--', label='nunique quantile(.75)')\n",
    "    plt.legend()\n",
    "    \n",
    "    return unn"
   ]
  },
  {
   "cell_type": "code",
   "execution_count": null,
   "metadata": {
    "collapsed": true
   },
   "outputs": [],
   "source": [
    "unn_cpu = plot_valid_invalid(un_cpu)"
   ]
  },
  {
   "cell_type": "code",
   "execution_count": null,
   "metadata": {
    "collapsed": true
   },
   "outputs": [],
   "source": [
    "unn_mem = plot_valid_invalid(un_mem, True)"
   ]
  },
  {
   "cell_type": "code",
   "execution_count": null,
   "metadata": {
    "collapsed": true
   },
   "outputs": [],
   "source": [
    "unn_in = plot_valid_invalid(un_in)"
   ]
  },
  {
   "cell_type": "code",
   "execution_count": null,
   "metadata": {
    "collapsed": true
   },
   "outputs": [],
   "source": [
    "unn_out = plot_valid_invalid(un_out)"
   ]
  },
  {
   "cell_type": "code",
   "execution_count": null,
   "metadata": {
    "collapsed": true
   },
   "outputs": [],
   "source": [
    "valid_ip_cpu = unn_cpu.loc[unn_cpu['class']==1, 'ip']\n",
    "invalid_ip_cpu = unn_cpu.loc[unn_cpu['class']!=1, 'ip']\n",
    "\n",
    "valid_ip_mem = unn_cpu.loc[unn_mem['class']==1, 'ip']\n",
    "invalid_ip_mem = unn_cpu.loc[unn_mem['class']!=1, 'ip']\n",
    "\n",
    "valid_ip_in = unn_in.loc[unn_in['class']==1, 'ip']\n",
    "invalid_ip_in = unn_in.loc[unn_in['class']!=1, 'ip']\n",
    "\n",
    "valid_ip_out = unn_out.loc[unn_out['class']==1, 'ip']\n",
    "invalid_ip_out = unn_out.loc[unn_out['class']!=1, 'ip']"
   ]
  },
  {
   "cell_type": "code",
   "execution_count": null,
   "metadata": {
    "collapsed": true
   },
   "outputs": [],
   "source": [
    "valid_ips = list(\n",
    "    set(valid_ip_cpu.unique()) & \n",
    "    set(valid_ip_mem.unique()) #& \n",
    "    #set(valid_ip_in.unique()) &\n",
    "    #set(valid_ip_out.unique())\n",
    ")\n",
    "\n",
    "invalid_ips = list(\n",
    "    set(invalid_ip_cpu.unique()) & \n",
    "    set(invalid_ip_mem.unique()) #& \n",
    "    #set(invalid_ip_in.unique()) &\n",
    "    #set(invalid_ip_out.unique())\n",
    ")"
   ]
  },
  {
   "cell_type": "code",
   "execution_count": null,
   "metadata": {
    "collapsed": true
   },
   "outputs": [],
   "source": [
    "len(valid_ips)"
   ]
  },
  {
   "cell_type": "code",
   "execution_count": null,
   "metadata": {
    "collapsed": true
   },
   "outputs": [],
   "source": [
    "df = df[df['ip'].isin(valid_ips)]\n",
    "df_mem = df_mem[df_mem['ip'].isin(valid_ips)]\n",
    "df_in = df_in[df_in['ip'].isin(valid_ips)]\n",
    "df_out = df_out[df_out['ip'].isin(valid_ips)]"
   ]
  },
  {
   "cell_type": "markdown",
   "metadata": {},
   "source": [
    "### Попробуем нагенерить фич и снизить размерность. Мб что в кластеры и свернется"
   ]
  },
  {
   "cell_type": "code",
   "execution_count": null,
   "metadata": {
    "collapsed": true
   },
   "outputs": [],
   "source": [
    "def get_freq(v, col, freq):\n",
    "    try:\n",
    "        frequency, power = ast_stats.LombScargle(v['timestamp'][:24*2].astype(int), v[col][:24*2]).autopower()\n",
    "        frequency = np.sort(frequency)\n",
    "        return frequency[-freq]\n",
    "    except:\n",
    "        return 0\n",
    "    \n",
    "def get_amp(v, col, freq):\n",
    "    try:\n",
    "        frequency, power = ast_stats.LombScargle(v['timestamp'][:24*2].astype(int), v[col][:24*2]).autopower()\n",
    "        power = np.sort(power)\n",
    "        return power[-freq]\n",
    "    except:\n",
    "        return 0\n",
    "    \n",
    "def get_weeked_day_high(vv,col):\n",
    "    mapping = {'sat':5, 'sun':6, 'mon':0, 'tue':1, 'wed':2, 'thu':3, 'fri':4}\n",
    "    rev_map = {v:k for k,v in mapping.items()}\n",
    "    \n",
    "    mask = vv[col] > vv[col].quantile(0.75)\n",
    "    try:\n",
    "        return rev_map[np.argmax(np.bincount(vv.loc[mask, 'weekday'].map(mapping)))]\n",
    "    except:\n",
    "        return 'no_day'\n",
    "\n",
    "def set_moda(v: pd.Series):\n",
    "    try:\n",
    "        return np.argmax(np.bincount(v))\n",
    "    except:\n",
    "        vals = v.unique()\n",
    "        m = None\n",
    "        i = None\n",
    "        for val in vals:\n",
    "            s = (vals == val).sum()\n",
    "            if i is None:\n",
    "                m = s\n",
    "                i = val\n",
    "            else:\n",
    "                if s > m:\n",
    "                    m = s\n",
    "                    i = val\n",
    "        return i\n",
    "            \n",
    "    \n",
    "    \n",
    "def get_weeked_day_low(vv, col):\n",
    "    mapping = {'sat':5, 'sun':6, 'mon':0, 'tue':1, 'wed':2, 'thu':3, 'fri':4}\n",
    "    rev_map = {v:k for k,v in mapping.items()}\n",
    "    \n",
    "    mask = vv[col] < vv[col].quantile(0.25)\n",
    "    try:\n",
    "        return rev_map[np.argmax(np.bincount(vv.loc[mask, 'weekday'].map(mapping)))]\n",
    "    except:\n",
    "        return 'no_day'\n",
    "    \n",
    "def ftrs_engine(df, preffix):\n",
    "    ips = []\n",
    "    for ip, i in df.groupby('ip'):\n",
    "        ips.append(ip)\n",
    "    clust_data = pd.DataFrame()\n",
    "    clust_data['{}_week_day_high'.format(preffix)] = df.groupby('ip').apply(lambda v: get_weeked_day_high(v,preffix))\n",
    "    clust_data['{}_week_day_low'.format(preffix)] = df.groupby('ip').apply(lambda v: get_weeked_day_low(v, preffix))\n",
    "\n",
    "    clust_data['{}_mean'.format(preffix)] = df.groupby('ip')[[preffix]].mean()\n",
    "    clust_data['{}_median'.format(preffix)] = df.groupby('ip')[[preffix]].median()\n",
    "    clust_data['{}_std'.format(preffix)] = df.groupby('ip')[[preffix]].std()\n",
    "    clust_data['{}_moda'.format(preffix)] = df.groupby('ip').apply(lambda v: set_moda(v[preffix]))\n",
    "    clust_data['{}_q25'.format(preffix)] = df.groupby('ip').apply(lambda v: v[preffix].quantile(.25))\n",
    "    clust_data['{}_q75'.format(preffix)] = df.groupby('ip').apply(lambda v: v[preffix].quantile(.75))\n",
    "    clust_data['{}_min'.format(preffix)] = df.groupby('ip')[[preffix]].min()\n",
    "    clust_data['{}_max'.format(preffix)] = df.groupby('ip')[[preffix]].max()\n",
    "    clust_data['{}_integ'.format(preffix)] = df.groupby('ip').apply(lambda v: integrate.simps(y=v[preffix].values)/v[preffix].count())\n",
    "    for lag in range(1,10):\n",
    "        clust_data['{}_lag{}'.format(preffix,lag)] = df.groupby('ip').apply(lambda v: v[preffix].autocorr(lag=lag))\n",
    "\n",
    "    clust_data['{}_ratio'.format(preffix)] = df.groupby('ip').apply(lambda v: v[preffix].count()/df[preffix].count())\n",
    "    \n",
    "    clust_data['{}_unique'.format(preffix)] = df.groupby('ip').apply(lambda x: x[preffix].unique().shape[0])\n",
    "\n",
    "\n",
    "#     for freq in range(1,5):\n",
    "#         clust_data['{}_freq{}'.format(preffix,freq)] = cpu.groupby('ip').apply(lambda v: get_freq(v, preffix, freq))\n",
    "#         clust_data['{}_freq{}_amp{}'.format(preffix,freq, freq)] = cpu.groupby('ip').apply(lambda v: get_amp(v, preffix, freq))\n",
    "    return clust_data, ips"
   ]
  },
  {
   "cell_type": "code",
   "execution_count": null,
   "metadata": {
    "collapsed": true
   },
   "outputs": [],
   "source": [
    "from sklearn.decomposition import PCA"
   ]
  },
  {
   "cell_type": "code",
   "execution_count": null,
   "metadata": {
    "collapsed": true
   },
   "outputs": [],
   "source": [
    "def prepare_data_for_clustering(df, col):\n",
    "    from sklearn.preprocessing import MinMaxScaler\n",
    "    sclr = MinMaxScaler(feature_range=(0,1))\n",
    "    cpu_clust, ips = ftrs_engine(df, col)\n",
    "    tt = pd.get_dummies(cpu_clust.select_dtypes(include='object'))\n",
    "    cpu_clust = pd.concat([cpu_clust, tt],axis=1)\n",
    "    cpu_clust.drop(cpu_clust.select_dtypes(include='object').columns.tolist(),axis=1,inplace=True)\n",
    "    \n",
    "    cpu_clust.fillna(10, inplace=True)\n",
    "    \n",
    "    prepared = sclr.fit_transform(cpu_clust)\n",
    "    for i, col in enumerate(cpu_clust.columns):\n",
    "        cpu_clust[col] = prepared[:,i]\n",
    "\n",
    "    corr = cpu_clust.corr()\n",
    "    mask = np.zeros_like(corr)\n",
    "    mask[np.triu_indices_from(mask)] = True\n",
    "    plt.figure(figsize=(20,10))\n",
    "    sns.heatmap(corr, annot=False, cmap=\"YlGnBu\", mask=mask)\n",
    "    \n",
    "    pca_red = PCA(n_components=2)\n",
    "    reducer = TSNE(n_components=2)\n",
    "    res = reducer.fit_transform(cpu_clust)\n",
    "    res2 = pca_red.fit_transform(cpu_clust)\n",
    "    return cpu_clust, res, res2, ips"
   ]
  },
  {
   "cell_type": "code",
   "execution_count": null,
   "metadata": {
    "collapsed": true
   },
   "outputs": [],
   "source": [
    "from sklearn.cluster import KMeans, AgglomerativeClustering"
   ]
  },
  {
   "cell_type": "code",
   "execution_count": null,
   "metadata": {},
   "outputs": [],
   "source": [
    "cpu_clust, res_cpu, res_cpu_pca, ips = prepare_data_for_clustering(df, 'cpu')"
   ]
  },
  {
   "cell_type": "code",
   "execution_count": null,
   "metadata": {},
   "outputs": [],
   "source": [
    "f = plt.figure(figsize=(17,10))\n",
    "plt.title(u'Проекция устройств на плоскость после снижения размерности по атрибуту cpuUtil')\n",
    "plt.xlabel('ftr1')\n",
    "plt.ylabel('ftr2')\n",
    "plt.scatter(res_cpu[:,0],res_cpu[:,1])\n",
    "# f.savefig('./../Desktop/cpu_red.png')"
   ]
  },
  {
   "cell_type": "code",
   "execution_count": null,
   "metadata": {},
   "outputs": [],
   "source": [
    "f = plt.figure(figsize=(17,10))\n",
    "plt.title(u'Проекция устройств на плоскость после снижения размерности по атрибуту cpuUtil PCA')\n",
    "plt.xlabel('ftr1')\n",
    "plt.ylabel('ftr2')\n",
    "plt.scatter(res_cpu_pca[:,0],res_cpu_pca[:,1])"
   ]
  },
  {
   "cell_type": "code",
   "execution_count": null,
   "metadata": {
    "collapsed": true
   },
   "outputs": [],
   "source": [
    "clstr = KMeans(n_clusters=4).fit(res_cpu_pca)"
   ]
  },
  {
   "cell_type": "code",
   "execution_count": null,
   "metadata": {
    "collapsed": true
   },
   "outputs": [],
   "source": [
    "# clstr = clusterer.predict(res_cpu)"
   ]
  },
  {
   "cell_type": "code",
   "execution_count": null,
   "metadata": {},
   "outputs": [],
   "source": [
    "e = pd.DataFrame()\n",
    "e['x'] = res_cpu_pca[:,0]\n",
    "e['y'] = res_cpu_pca[:,1]\n",
    "e['cls'] = clstr.predict(res_cpu_pca)\n",
    "e['ip'] = ips\n",
    "\n",
    "# f = plt.figure(figsize=(17,10))\n",
    "sns.lmplot(data=e, x='x', y='y', hue='cls', scatter=True, fit_reg=False)\n",
    "plt.title(u'Проекция устройств на плоскость после снижения размерности по атрибуту cpuUtil')\n",
    "# plt.xlabel('ftr1')\n",
    "# plt.ylabel('ftr2')\n",
    "# plt.scatter(res_cpu[:,0],res_cpu[:,1])"
   ]
  },
  {
   "cell_type": "code",
   "execution_count": null,
   "metadata": {
    "scrolled": true
   },
   "outputs": [],
   "source": [
    "# f = plt.figure(figsize=(17,10))\n",
    "sns.lmplot(data=e, x='x', y='y', hue='cls', scatter=True, fit_reg=False)\n",
    "plt.title(u'Проекция устройств на плоскость после снижения размерности по атрибуту cpuUtil')\n",
    "# plt.xlabel('ftr1')\n",
    "# plt.ylabel('ftr2')\n",
    "# plt.scatter(res_cpu[:,0],res_cpu[:,1])\n",
    "\n",
    "for cls in e.cls.unique():\n",
    "    ips = e.loc[e['cls'] == cls,'ip'].values\n",
    "    i = 0\n",
    "    for ip in ips:\n",
    "        if i == 4:\n",
    "            break\n",
    "        plt.figure()\n",
    "        plt.title('{} - {}'.format(cls, ip))\n",
    "        y = df.loc[df['ip']==ip,'cpu'].values\n",
    "        plt.scatter(range(y.shape[0]),y)\n",
    "        i +=1\n",
    "    "
   ]
  },
  {
   "cell_type": "code",
   "execution_count": null,
   "metadata": {},
   "outputs": [],
   "source": [
    "cpu_clust"
   ]
  },
  {
   "cell_type": "code",
   "execution_count": null,
   "metadata": {
    "collapsed": true
   },
   "outputs": [],
   "source": []
  },
  {
   "cell_type": "code",
   "execution_count": null,
   "metadata": {
    "collapsed": true
   },
   "outputs": [],
   "source": []
  },
  {
   "cell_type": "code",
   "execution_count": null,
   "metadata": {
    "collapsed": true
   },
   "outputs": [],
   "source": []
  },
  {
   "cell_type": "code",
   "execution_count": null,
   "metadata": {},
   "outputs": [],
   "source": [
    "mem_clust, res_mem, res_mem_pca, ips = prepare_data_for_clustering(df_mem, 'mem')"
   ]
  },
  {
   "cell_type": "code",
   "execution_count": null,
   "metadata": {},
   "outputs": [],
   "source": [
    "f = plt.figure(figsize=(17,10))\n",
    "plt.title(u'Проекция устройств на плоскость после снижения размерности по атрибуту memUtil')\n",
    "plt.xlabel('ftr1')\n",
    "plt.ylabel('ftr2')\n",
    "plt.scatter(res_mem[:,0],res_mem[:,1])\n",
    "# f.savefig('./../Desktop/mem_red.png')"
   ]
  },
  {
   "cell_type": "code",
   "execution_count": null,
   "metadata": {},
   "outputs": [],
   "source": [
    "f = plt.figure(figsize=(17,10))\n",
    "plt.title(u'Проекция устройств на плоскость после снижения размерности по атрибуту memUtil')\n",
    "plt.xlabel('ftr1')\n",
    "plt.ylabel('ftr2')\n",
    "plt.scatter(res_mem_pca[:,0],res_mem_pca[:,1])\n",
    "# f.savefig('./../Desktop/mem_red.png')"
   ]
  },
  {
   "cell_type": "code",
   "execution_count": null,
   "metadata": {
    "collapsed": true
   },
   "outputs": [],
   "source": [
    "clusterer = KMeans(n_clusters=7, max_iter=600).fit(res_mem)\n",
    "clstr = clusterer.predict(res_mem)\n",
    "# clstr = AgglomerativeClustering(n_clusters=15).fit_predict(res_mem)\n",
    "\n",
    "e = pd.DataFrame()\n",
    "e['x'] = res_mem[:,0]\n",
    "e['y'] = res_mem[:,1]\n",
    "e['cls'] = clstr\n",
    "\n",
    "# f = plt.figure(figsize=(17,10))\n",
    "sns.lmplot(data=e, x='x', y='y', hue='cls', scatter=True, fit_reg=False, size=8, aspect=1)\n",
    "plt.title(u'Проекция устройств на плоскость после снижения размерности по атрибуту cpuMem')\n",
    "# plt.xlabel('ftr1')\n",
    "# plt.ylabel('ftr2')\n",
    "# plt.scatter(res_cpu[:,0],res_cpu[:,1])"
   ]
  },
  {
   "cell_type": "code",
   "execution_count": null,
   "metadata": {},
   "outputs": [],
   "source": [
    "in_clust, res_in, res_in_pca, ips = prepare_data_for_clustering(df_in, 'in')"
   ]
  },
  {
   "cell_type": "code",
   "execution_count": null,
   "metadata": {},
   "outputs": [],
   "source": [
    "f = plt.figure(figsize=(17,10))\n",
    "plt.title(u'Проекция устройств на плоскость после снижения размерности по атрибуту inUtil')\n",
    "plt.xlabel('ftr1')\n",
    "plt.ylabel('ftr2')\n",
    "plt.scatter(res_in[:,0],res_in[:,1])\n",
    "# f.savefig('./../Desktop/in_red.png')"
   ]
  },
  {
   "cell_type": "code",
   "execution_count": null,
   "metadata": {},
   "outputs": [],
   "source": [
    "f = plt.figure(figsize=(17,10))\n",
    "plt.title(u'Проекция устройств на плоскость после снижения размерности по атрибуту inUtil')\n",
    "plt.xlabel('ftr1')\n",
    "plt.ylabel('ftr2')\n",
    "plt.scatter(res_in_pca[:,0],res_in_pca[:,1])\n",
    "# f.savefig('./../Desktop/in_red.png')"
   ]
  },
  {
   "cell_type": "code",
   "execution_count": null,
   "metadata": {
    "collapsed": true
   },
   "outputs": [],
   "source": [
    "clusterer = KMeans(n_clusters=25, max_iter=600).fit(res_in)\n",
    "clstr = clusterer.predict(res_in)\n",
    "# clstr = AgglomerativeClustering(n_clusters=15).fit_predict(res_mem)\n",
    "\n",
    "e = pd.DataFrame()\n",
    "e['x'] = res_in[:,0]\n",
    "e['y'] = res_in[:,1]\n",
    "e['cls'] = clstr\n",
    "\n",
    "# f = plt.figure(figsize=(17,10))\n",
    "sns.lmplot(data=e, x='x', y='y', hue='cls', scatter=True, fit_reg=False, size=8, aspect=1)\n",
    "plt.title(u'Проекция устройств на плоскость после снижения размерности по атрибуту cpuMem')\n",
    "# plt.xlabel('ftr1')\n",
    "# plt.ylabel('ftr2')\n",
    "# plt.scatter(res_cpu[:,0],res_cpu[:,1])"
   ]
  },
  {
   "cell_type": "code",
   "execution_count": null,
   "metadata": {},
   "outputs": [],
   "source": [
    "out_clust, res_out, res_out_pca, ips = prepare_data_for_clustering(df_out, 'out')"
   ]
  },
  {
   "cell_type": "code",
   "execution_count": null,
   "metadata": {},
   "outputs": [],
   "source": [
    "f = plt.figure(figsize=(17,10))\n",
    "plt.title(u'Проекция устройств на плоскость после снижения размерности по атрибуту outUtil')\n",
    "plt.xlabel('ftr1')\n",
    "plt.ylabel('ftr2')\n",
    "plt.scatter(res_out[:,0],res_out[:,1])\n",
    "# f.savefig('./../Desktop/out_red.png')"
   ]
  },
  {
   "cell_type": "code",
   "execution_count": null,
   "metadata": {},
   "outputs": [],
   "source": [
    "f = plt.figure(figsize=(17,10))\n",
    "plt.title(u'Проекция устройств на плоскость после снижения размерности по атрибуту outUtil')\n",
    "plt.xlabel('ftr1')\n",
    "plt.ylabel('ftr2')\n",
    "plt.scatter(res_out_pca[:,0],res_out_pca[:,1])"
   ]
  },
  {
   "cell_type": "code",
   "execution_count": null,
   "metadata": {
    "collapsed": true
   },
   "outputs": [],
   "source": [
    "from sklearn.cluster import DBSCAN"
   ]
  },
  {
   "cell_type": "code",
   "execution_count": null,
   "metadata": {},
   "outputs": [],
   "source": [
    "clusterer = DBSCAN(p=2)\n",
    "clstr = clusterer.fit_predict(res_out_pca**2)\n",
    "# clstr = AgglomerativeClustering(n_clusters=15).fit_predict(res_mem)\n",
    "\n",
    "e = pd.DataFrame()\n",
    "e['x'] = res_out_pca[:,0]\n",
    "e['y'] = res_out_pca[:,1]\n",
    "e['cls'] = clstr\n",
    "\n",
    "# f = plt.figure(figsize=(17,10))\n",
    "sns.lmplot(data=e, x='x', y='y', hue='cls', scatter=True, fit_reg=False, size=8, aspect=1)\n",
    "plt.title(u'Проекция устройств на плоскость после снижения размерности по атрибуту cpuMem')\n",
    "# plt.xlabel('ftr1')\n",
    "# plt.ylabel('ftr2')\n",
    "# plt.scatter(res_cpu[:,0],res_cpu[:,1])"
   ]
  },
  {
   "cell_type": "code",
   "execution_count": null,
   "metadata": {
    "collapsed": true
   },
   "outputs": [],
   "source": [
    "clust_df = pd.concat([cpu_clust, mem_clust, in_clust, out_clust], axis=1)"
   ]
  },
  {
   "cell_type": "code",
   "execution_count": null,
   "metadata": {},
   "outputs": [],
   "source": [
    "clust_df.shape"
   ]
  },
  {
   "cell_type": "code",
   "execution_count": null,
   "metadata": {
    "collapsed": true
   },
   "outputs": [],
   "source": [
    "clust_df.head()"
   ]
  },
  {
   "cell_type": "code",
   "execution_count": null,
   "metadata": {
    "collapsed": true
   },
   "outputs": [],
   "source": [
    "clust_df = clust_df.dropna()"
   ]
  },
  {
   "cell_type": "code",
   "execution_count": null,
   "metadata": {
    "collapsed": true
   },
   "outputs": [],
   "source": [
    "corr = clust_df.corr()\n",
    "mask = np.zeros_like(corr)\n",
    "mask[np.triu_indices_from(mask)] = True\n",
    "f = plt.figure(figsize=(15,10))\n",
    "sns.heatmap(corr, annot=False, cmap=\"YlGnBu\", mask=mask)\n",
    "# f.savefig('./../Desktop/corr.png')"
   ]
  },
  {
   "cell_type": "code",
   "execution_count": null,
   "metadata": {
    "collapsed": true
   },
   "outputs": [],
   "source": [
    "reducer = TSNE(n_components=2)"
   ]
  },
  {
   "cell_type": "code",
   "execution_count": null,
   "metadata": {
    "collapsed": true
   },
   "outputs": [],
   "source": [
    "res = reducer.fit_transform(clust_df)"
   ]
  },
  {
   "cell_type": "code",
   "execution_count": null,
   "metadata": {},
   "outputs": [],
   "source": [
    "f = plt.figure(figsize=(17,10))\n",
    "plt.title(u'Проекция устройств на плоскость после снижения размерности по 4м атрибутам в совокупности')\n",
    "plt.xlabel('ftr1')\n",
    "plt.ylabel('ftr2')\n",
    "plt.scatter(res[:,0], res[:,1])\n",
    "# f.savefig('./../Desktop/res.png')"
   ]
  },
  {
   "cell_type": "code",
   "execution_count": null,
   "metadata": {
    "collapsed": true
   },
   "outputs": [],
   "source": [
    "res_pca = PCA(n_components=2).fit_transform(clust_df)"
   ]
  },
  {
   "cell_type": "code",
   "execution_count": null,
   "metadata": {},
   "outputs": [],
   "source": [
    "f = plt.figure(figsize=(17,10))\n",
    "plt.title(u'Проекция устройств на плоскость после снижения размерности по 4м атрибутам в совокупности')\n",
    "plt.xlabel('ftr1')\n",
    "plt.ylabel('ftr2')\n",
    "plt.scatter(res_pca[:,0], res_pca[:,1])"
   ]
  },
  {
   "cell_type": "code",
   "execution_count": null,
   "metadata": {
    "collapsed": true
   },
   "outputs": [],
   "source": []
  },
  {
   "cell_type": "code",
   "execution_count": null,
   "metadata": {
    "collapsed": true
   },
   "outputs": [],
   "source": [
    "clusterer = KMeans(n_clusters=2).fit(res)"
   ]
  },
  {
   "cell_type": "code",
   "execution_count": null,
   "metadata": {},
   "outputs": [],
   "source": [
    "res.shape"
   ]
  },
  {
   "cell_type": "code",
   "execution_count": null,
   "metadata": {
    "collapsed": true
   },
   "outputs": [],
   "source": [
    "ips = [ip for ip, i in df.groupbyby('ip')]"
   ]
  },
  {
   "cell_type": "code",
   "execution_count": null,
   "metadata": {},
   "outputs": [],
   "source": [
    "len(ips)"
   ]
  },
  {
   "cell_type": "code",
   "execution_count": null,
   "metadata": {
    "scrolled": false
   },
   "outputs": [],
   "source": [
    "e = pd.DataFrame()\n",
    "e['x'] = res[:,0]\n",
    "e['y'] = res[:,1]\n",
    "e['cls'] = clusterer.predict(res)\n",
    "e['ip'] = ips\n",
    "\n",
    "# f = plt.figure(figsize=(17,10))\n",
    "sns.lmplot(data=e, x='x', y='y', hue='cls', scatter=True, fit_reg=False)\n",
    "plt.title(u'Проекция устройств на плоскость после снижения размерности по атрибуту cpuUtil')\n",
    "# plt.xlabel('ftr1')\n",
    "# plt.ylabel('ftr2')\n",
    "# plt.scatter(res_cpu[:,0],res_cpu[:,1])\n",
    "\n",
    "for cls in e.cls.unique():\n",
    "    ipss = e.loc[e['cls'] == cls,'ip'].values\n",
    "    i = 0\n",
    "    for ip in ipss:\n",
    "        if i == 10:\n",
    "            break\n",
    "        plt.figure()\n",
    "        plt.title('{} - {}'.format(cls, ip))\n",
    "        y = df.loc[df['ip']==ip,'cpu'].values\n",
    "        plt.scatter(range(y.shape[0]),y)\n",
    "        i +=1"
   ]
  },
  {
   "cell_type": "code",
   "execution_count": null,
   "metadata": {
    "collapsed": true
   },
   "outputs": [],
   "source": [
    "red_pca = PCA()"
   ]
  },
  {
   "cell_type": "markdown",
   "metadata": {},
   "source": [
    "# Хочу посмотреть xgb  и нагенерить каких-нибудь фич"
   ]
  },
  {
   "cell_type": "code",
   "execution_count": null,
   "metadata": {},
   "outputs": [],
   "source": [
    "df.head(2)"
   ]
  },
  {
   "cell_type": "code",
   "execution_count": null,
   "metadata": {},
   "outputs": [],
   "source": [
    "df_mem.head(2)"
   ]
  },
  {
   "cell_type": "code",
   "execution_count": 17,
   "metadata": {},
   "outputs": [
    {
     "data": {
      "text/html": [
       "<div>\n",
       "<style scoped>\n",
       "    .dataframe tbody tr th:only-of-type {\n",
       "        vertical-align: middle;\n",
       "    }\n",
       "\n",
       "    .dataframe tbody tr th {\n",
       "        vertical-align: top;\n",
       "    }\n",
       "\n",
       "    .dataframe thead th {\n",
       "        text-align: right;\n",
       "    }\n",
       "</style>\n",
       "<table border=\"1\" class=\"dataframe\">\n",
       "  <thead>\n",
       "    <tr style=\"text-align: right;\">\n",
       "      <th></th>\n",
       "      <th>timestamp</th>\n",
       "      <th>in</th>\n",
       "      <th>ip</th>\n",
       "      <th>date</th>\n",
       "      <th>year</th>\n",
       "      <th>month</th>\n",
       "      <th>day</th>\n",
       "      <th>hour</th>\n",
       "      <th>minute</th>\n",
       "      <th>second</th>\n",
       "      <th>weekday</th>\n",
       "      <th>weeknum</th>\n",
       "      <th>weekend</th>\n",
       "      <th>busy</th>\n",
       "    </tr>\n",
       "  </thead>\n",
       "  <tbody>\n",
       "    <tr>\n",
       "      <th>0</th>\n",
       "      <td>1506805302848497</td>\n",
       "      <td>3.37</td>\n",
       "      <td>10.10.245.12</td>\n",
       "      <td>2017-10-01 00:01:42.848497</td>\n",
       "      <td>2017</td>\n",
       "      <td>10</td>\n",
       "      <td>1</td>\n",
       "      <td>0</td>\n",
       "      <td>1</td>\n",
       "      <td>42</td>\n",
       "      <td>sun</td>\n",
       "      <td>0</td>\n",
       "      <td>1</td>\n",
       "      <td>0</td>\n",
       "    </tr>\n",
       "    <tr>\n",
       "      <th>1</th>\n",
       "      <td>1506805604560347</td>\n",
       "      <td>2.98</td>\n",
       "      <td>10.10.245.12</td>\n",
       "      <td>2017-10-01 00:06:44.560347</td>\n",
       "      <td>2017</td>\n",
       "      <td>10</td>\n",
       "      <td>1</td>\n",
       "      <td>0</td>\n",
       "      <td>6</td>\n",
       "      <td>44</td>\n",
       "      <td>sun</td>\n",
       "      <td>0</td>\n",
       "      <td>1</td>\n",
       "      <td>0</td>\n",
       "    </tr>\n",
       "  </tbody>\n",
       "</table>\n",
       "</div>"
      ],
      "text/plain": [
       "          timestamp    in            ip                       date  year  \\\n",
       "0  1506805302848497  3.37  10.10.245.12 2017-10-01 00:01:42.848497  2017   \n",
       "1  1506805604560347  2.98  10.10.245.12 2017-10-01 00:06:44.560347  2017   \n",
       "\n",
       "   month  day  hour  minute  second weekday weeknum  weekend  busy  \n",
       "0     10    1     0       1      42     sun       0        1     0  \n",
       "1     10    1     0       6      44     sun       0        1     0  "
      ]
     },
     "execution_count": 17,
     "metadata": {},
     "output_type": "execute_result"
    }
   ],
   "source": [
    "df_in.head(2)"
   ]
  },
  {
   "cell_type": "code",
   "execution_count": null,
   "metadata": {},
   "outputs": [],
   "source": [
    "df_out.head(2)"
   ]
  },
  {
   "cell_type": "code",
   "execution_count": 18,
   "metadata": {
    "collapsed": true
   },
   "outputs": [],
   "source": [
    "def min_max_date(df, verbose=False):\n",
    "    shape = df.shape\n",
    "    mn = df.index.min()\n",
    "    mx = df.index.max()\n",
    "    if verbose:\n",
    "        print('shape = {}'.format(shape))\n",
    "        print('min date = {}'.format(mn))\n",
    "        print('max date = {}'.format(mx))\n",
    "    return shape, mn, mx"
   ]
  },
  {
   "cell_type": "code",
   "execution_count": 19,
   "metadata": {
    "collapsed": true
   },
   "outputs": [],
   "source": [
    "def transform_2_same_timeinterval_and_freq(dfs):\n",
    "    tss = []\n",
    "    for df in dfs:\n",
    "        ts = pd.Series(\n",
    "            data = df[df.columns[1]].values, \n",
    "            index=df.timestamp.apply(lambda x: datetime.fromtimestamp(x/1000000)))\n",
    "        ts1 = ts.resample('5T')\n",
    "        ts1 = pd.Series(data=ts1.values, index=ts1.index.values)\n",
    "        tss.append((ts, ts1))\n",
    "    \n",
    "    min_date = None\n",
    "    max_date = None\n",
    "    for _, df in tss:\n",
    "        shp, minn, maxx = min_max_date(df)\n",
    "        if min_date is None:\n",
    "            min_date = minn\n",
    "            max_date = maxx\n",
    "        else:\n",
    "            if minn > min_date:\n",
    "                min_date = minn\n",
    "            if maxx < max_date:\n",
    "                max_date = maxx\n",
    "                \n",
    "    \n",
    "    tss1 = []\n",
    "    for _, ts in tss:\n",
    "        tss1.append(ts[(ts.index >= min_date) & (ts.index <= max_date)])\n",
    "    \n",
    "    return tss, tss1, min_date, max_date "
   ]
  },
  {
   "cell_type": "code",
   "execution_count": 20,
   "metadata": {
    "collapsed": true
   },
   "outputs": [],
   "source": [
    "common_ips = list(set(df_in.ip.unique()))#list(set(df_mem.ip.unique()) & set(df.ip.unique()) & set(df_in.ip.unique()) & set(df_out.ip.unique()))"
   ]
  },
  {
   "cell_type": "code",
   "execution_count": 21,
   "metadata": {},
   "outputs": [
    {
     "data": {
      "text/plain": [
       "['10.21.7.42', '10.10.232.47', '10.10.88.7']"
      ]
     },
     "execution_count": 21,
     "metadata": {},
     "output_type": "execute_result"
    }
   ],
   "source": [
    "common_ips[:3]"
   ]
  },
  {
   "cell_type": "code",
   "execution_count": 30,
   "metadata": {
    "collapsed": true
   },
   "outputs": [],
   "source": [
    "index = 0\n",
    "# cpu = df[df.ip == common_ips[index]]\n",
    "# mem = df_mem[df_mem.ip == common_ips[index]]\n",
    "inn = df_in[df_in.ip == '10.10.245.12']#common_ips[index]]\n",
    "# out = df_out[df_out.ip == common_ips[index]]"
   ]
  },
  {
   "cell_type": "code",
   "execution_count": 24,
   "metadata": {},
   "outputs": [],
   "source": [
    "# min_max_date(cpu, verbose=True);\n",
    "# min_max_date(mem, verbose=True);\n",
    "# min_max_date(out, verbose=True);\n",
    "# min_max_date(inn, verbose=True);"
   ]
  },
  {
   "cell_type": "code",
   "execution_count": 31,
   "metadata": {
    "collapsed": true
   },
   "outputs": [],
   "source": [
    "tss, tss1, min_date, max_date = transform_2_same_timeinterval_and_freq([inn])"
   ]
  },
  {
   "cell_type": "code",
   "execution_count": 32,
   "metadata": {
    "collapsed": true
   },
   "outputs": [],
   "source": [
    "date_intersect = None\n",
    "for i in tss1:\n",
    "    if date_intersect is None:\n",
    "        date_intersect = set(i.index.values)\n",
    "    else:\n",
    "        date_intersect &= set(i.index.values)"
   ]
  },
  {
   "cell_type": "code",
   "execution_count": 33,
   "metadata": {
    "collapsed": true
   },
   "outputs": [],
   "source": [
    "same_intervals = []\n",
    "for val in tss1:\n",
    "    same_intervals.append(val[val.index.isin(date_intersect)])"
   ]
  },
  {
   "cell_type": "code",
   "execution_count": 34,
   "metadata": {},
   "outputs": [
    {
     "data": {
      "text/plain": [
       "<matplotlib.collections.PathCollection at 0x1c25badb00>"
      ]
     },
     "execution_count": 34,
     "metadata": {},
     "output_type": "execute_result"
    },
    {
     "data": {
      "image/png": "[encoded data removed]",
      "text/plain": [
       "<matplotlib.figure.Figure at 0x1c2236b630>"
      ]
     },
     "metadata": {},
     "output_type": "display_data"
    }
   ],
   "source": [
    "# same_intervals[3].plot()\n",
    "plt.scatter(range(same_intervals[0].shape[0]), same_intervals[0])"
   ]
  },
  {
   "cell_type": "code",
   "execution_count": null,
   "metadata": {
    "collapsed": true
   },
   "outputs": [],
   "source": [
    "tmp_y = same_intervals[2].values"
   ]
  },
  {
   "cell_type": "code",
   "execution_count": null,
   "metadata": {
    "collapsed": true
   },
   "outputs": [],
   "source": [
    "tmp_y[np.isnan(tmp_y)] = 0"
   ]
  },
  {
   "cell_type": "code",
   "execution_count": null,
   "metadata": {
    "collapsed": true
   },
   "outputs": [],
   "source": [
    "from sklearn.preprocessing import MinMaxScaler"
   ]
  },
  {
   "cell_type": "code",
   "execution_count": null,
   "metadata": {
    "collapsed": true
   },
   "outputs": [],
   "source": [
    "scaler = MinMaxScaler((0,1))"
   ]
  },
  {
   "cell_type": "code",
   "execution_count": null,
   "metadata": {
    "collapsed": true
   },
   "outputs": [],
   "source": [
    "y_scld = scaler.fit_transform(tmp_y.reshape(-1,1))"
   ]
  },
  {
   "cell_type": "code",
   "execution_count": null,
   "metadata": {
    "collapsed": true
   },
   "outputs": [],
   "source": [
    "plt.plot(y_scld)"
   ]
  },
  {
   "cell_type": "markdown",
   "metadata": {},
   "source": [
    "## Wavelet"
   ]
  },
  {
   "cell_type": "code",
   "execution_count": 35,
   "metadata": {
    "collapsed": true
   },
   "outputs": [],
   "source": [
    "import pywt"
   ]
  },
  {
   "cell_type": "code",
   "execution_count": 36,
   "metadata": {
    "collapsed": true
   },
   "outputs": [],
   "source": [
    "coeff , freq = pywt.cwt(same_intervals[0], np.arange(1,60), 'gaus1')"
   ]
  },
  {
   "cell_type": "code",
   "execution_count": 38,
   "metadata": {},
   "outputs": [
    {
     "data": {
      "text/plain": [
       "21888"
      ]
     },
     "execution_count": 38,
     "metadata": {},
     "output_type": "execute_result"
    }
   ],
   "source": [
    "len(same_intervals[0])"
   ]
  },
  {
   "cell_type": "code",
   "execution_count": 37,
   "metadata": {},
   "outputs": [
    {
     "data": {
      "text/plain": [
       "(59, 21888)"
      ]
     },
     "execution_count": 37,
     "metadata": {},
     "output_type": "execute_result"
    }
   ],
   "source": [
    "coeff.shape"
   ]
  },
  {
   "cell_type": "code",
   "execution_count": 39,
   "metadata": {},
   "outputs": [
    {
     "data": {
      "text/plain": [
       "(59,)"
      ]
     },
     "execution_count": 39,
     "metadata": {},
     "output_type": "execute_result"
    }
   ],
   "source": [
    "freq.shape"
   ]
  },
  {
   "cell_type": "code",
   "execution_count": 40,
   "metadata": {},
   "outputs": [
    {
     "data": {
      "text/plain": [
       "array([ 0.2       ,  0.1       ,  0.06666667,  0.05      ,  0.04      ,\n",
       "        0.03333333,  0.02857143,  0.025     ,  0.02222222,  0.02      ,\n",
       "        0.01818182,  0.01666667,  0.01538462,  0.01428571,  0.01333333,\n",
       "        0.0125    ,  0.01176471,  0.01111111,  0.01052632,  0.01      ,\n",
       "        0.00952381,  0.00909091,  0.00869565,  0.00833333,  0.008     ,\n",
       "        0.00769231,  0.00740741,  0.00714286,  0.00689655,  0.00666667,\n",
       "        0.00645161,  0.00625   ,  0.00606061,  0.00588235,  0.00571429,\n",
       "        0.00555556,  0.00540541,  0.00526316,  0.00512821,  0.005     ,\n",
       "        0.00487805,  0.0047619 ,  0.00465116,  0.00454545,  0.00444444,\n",
       "        0.00434783,  0.00425532,  0.00416667,  0.00408163,  0.004     ,\n",
       "        0.00392157,  0.00384615,  0.00377358,  0.0037037 ,  0.00363636,\n",
       "        0.00357143,  0.00350877,  0.00344828,  0.00338983])"
      ]
     },
     "execution_count": 40,
     "metadata": {},
     "output_type": "execute_result"
    }
   ],
   "source": [
    "freq"
   ]
  },
  {
   "cell_type": "code",
   "execution_count": 41,
   "metadata": {
    "collapsed": true
   },
   "outputs": [],
   "source": [
    "y = np.arange(0,coeff.shape[0])\n",
    "x = np.arange(0,coeff.shape[1])\n",
    "z = coeff"
   ]
  },
  {
   "cell_type": "code",
   "execution_count": 48,
   "metadata": {
    "collapsed": true
   },
   "outputs": [],
   "source": [
    "from mpl_toolkits.mplot3d import Axes3D\n",
    "from matplotlib import cm\n",
    "from matplotlib.ticker import LinearLocator, FormatStrFormatter"
   ]
  },
  {
   "cell_type": "code",
   "execution_count": 49,
   "metadata": {
    "scrolled": false
   },
   "outputs": [
    {
     "data": {
      "image/png": "[encoded data removed]",
      "text/plain": [
       "<matplotlib.figure.Figure at 0x11a720320>"
      ]
     },
     "metadata": {},
     "output_type": "display_data"
    }
   ],
   "source": [
    "%matplotlib inline\n",
    "\n",
    "# %matplotlib notebook\n",
    "fig = plt.figure(figsize=(17,10))\n",
    "ax = fig.gca(projection='3d')\n",
    "\n",
    "rng = np.arange(1000,3000)\n",
    "X, Y = np.meshgrid(x[rng], y)\n",
    "Z = z[:,rng]\n",
    "\n",
    "surf = ax.plot_surface(X,Y,Z, cmap='viridis',\n",
    "                       linewidth=0)\n",
    "\n",
    "# Customize the z axis.\n",
    "ax.set_zlim(-4.001, 4.001)\n",
    "ax.set_xlim(rng[0], rng[-1])\n",
    "ax.set_ylim(0, 59)\n",
    "ax.set_xlabel('time')\n",
    "ax.set_ylabel('scale')\n",
    "ax.set_zlabel('amplitude')\n",
    "ax.zaxis.set_major_locator(LinearLocator(10))\n",
    "ax.zaxis.set_major_formatter(FormatStrFormatter('%.02f'))"
   ]
  },
  {
   "cell_type": "markdown",
   "metadata": {},
   "source": [
    "### KERAS AND LSTM"
   ]
  },
  {
   "cell_type": "code",
   "execution_count": null,
   "metadata": {
    "collapsed": true
   },
   "outputs": [],
   "source": [
    "import matplotlib.pyplot as plt\n",
    "import pandas\n",
    "import math\n",
    "from keras.models import Sequential\n",
    "from keras.layers import Dense\n",
    "from keras.layers import LSTM\n",
    "from sklearn.preprocessing import MinMaxScaler\n",
    "from sklearn.metrics import mean_squared_error"
   ]
  },
  {
   "cell_type": "code",
   "execution_count": null,
   "metadata": {
    "collapsed": true
   },
   "outputs": [],
   "source": [
    "np.random.seed(7)"
   ]
  },
  {
   "cell_type": "code",
   "execution_count": null,
   "metadata": {
    "collapsed": true
   },
   "outputs": [],
   "source": [
    "dataset = tmp_y.astype('float32')"
   ]
  },
  {
   "cell_type": "code",
   "execution_count": null,
   "metadata": {
    "collapsed": true
   },
   "outputs": [],
   "source": [
    "scaler = MinMaxScaler(feature_range=(0, 1))\n",
    "dataset = scaler.fit_transform(dataset.reshape(-1,1))"
   ]
  },
  {
   "cell_type": "code",
   "execution_count": null,
   "metadata": {
    "collapsed": true
   },
   "outputs": [],
   "source": [
    "train_size = int(len(dataset) * 0.67)\n",
    "test_size = len(dataset) - train_size\n",
    "train, test = dataset[0:train_size,:], dataset[train_size:len(dataset),:]\n",
    "print(len(train), len(test))"
   ]
  },
  {
   "cell_type": "code",
   "execution_count": null,
   "metadata": {
    "collapsed": true
   },
   "outputs": [],
   "source": [
    "def create_dataset(dataset, look_back=1):\n",
    "    dataX, dataY = [], []\n",
    "    for i in range(len(dataset)-look_back-1):\n",
    "        a = dataset[i:(i+look_back), 0]\n",
    "        dataX.append(a)\n",
    "        dataY.append(dataset[i + look_back, 0])\n",
    "    return np.array(dataX), np.array(dataY)"
   ]
  },
  {
   "cell_type": "code",
   "execution_count": null,
   "metadata": {
    "collapsed": true
   },
   "outputs": [],
   "source": [
    "look_back = 1\n",
    "trainX, trainY = create_dataset(train, look_back)\n",
    "testX, testY = create_dataset(test, look_back)"
   ]
  },
  {
   "cell_type": "code",
   "execution_count": null,
   "metadata": {
    "collapsed": true
   },
   "outputs": [],
   "source": [
    "trainX = np.reshape(trainX, (trainX.shape[0], 1, trainX.shape[1]))\n",
    "testX = np.reshape(testX, (testX.shape[0], 1, testX.shape[1]))"
   ]
  },
  {
   "cell_type": "code",
   "execution_count": null,
   "metadata": {
    "collapsed": true
   },
   "outputs": [],
   "source": [
    "%%time\n",
    "model = Sequential()\n",
    "model.add(LSTM(4, input_shape=(1, look_back)))\n",
    "model.add(Dense(1))\n",
    "model.compile(loss='mean_squared_error', optimizer='adam')\n",
    "model.fit(trainX, trainY, epochs=2, batch_size=1, verbose=2)"
   ]
  },
  {
   "cell_type": "code",
   "execution_count": null,
   "metadata": {
    "collapsed": true
   },
   "outputs": [],
   "source": [
    "trainPredict = model.predict(trainX)\n",
    "testPredict = model.predict(testX)\n",
    "# invert predictions\n",
    "trainPredict = scaler.inverse_transform(trainPredict)\n",
    "trainY = scaler.inverse_transform([trainY])\n",
    "testPredict = scaler.inverse_transform(testPredict)\n",
    "testY = scaler.inverse_transform([testY])\n",
    "# calculate root mean squared error\n",
    "trainScore = math.sqrt(mean_squared_error(trainY[0], trainPredict[:,0]))\n",
    "print('Train Score: %.2f RMSE' % (trainScore))\n",
    "testScore = math.sqrt(mean_squared_error(testY[0], testPredict[:,0]))\n",
    "print('Test Score: %.2f RMSE' % (testScore))"
   ]
  },
  {
   "cell_type": "code",
   "execution_count": null,
   "metadata": {
    "collapsed": true
   },
   "outputs": [],
   "source": [
    "dataset.shape"
   ]
  },
  {
   "cell_type": "code",
   "execution_count": null,
   "metadata": {
    "collapsed": true
   },
   "outputs": [],
   "source": [
    "trainPredictPlot = np.empty_like(dataset)\n",
    "trainPredictPlot[:, :] = np.nan\n",
    "trainPredictPlot[look_back:len(trainPredict)+look_back, :] = trainPredict\n",
    "# shift test predictions for plotting\n",
    "testPredictPlot = np.empty_like(dataset)\n",
    "testPredictPlot[:, :] = np.nan\n",
    "trainPredictPlot[len(trainPredict)+(look_back*2)+1:len(dataset)-1, :] = testPredict"
   ]
  },
  {
   "cell_type": "code",
   "execution_count": null,
   "metadata": {
    "collapsed": true
   },
   "outputs": [],
   "source": [
    "# plot baseline and predictions\n",
    "plt.figure(figsize=(15,9))\n",
    "plt.title('Графики действительного и предсказанного c помощью LSTM значения inUtil')\n",
    "plt.xlabel('time')\n",
    "plt.ylabel('inUtil')\n",
    "plt.plot(scaler.inverse_transform(dataset), label='Действительные значения')\n",
    "plt.plot(trainPredictPlot, label='Предсказанные значения')\n",
    "plt.legend()"
   ]
  },
  {
   "cell_type": "code",
   "execution_count": null,
   "metadata": {
    "collapsed": true
   },
   "outputs": [],
   "source": [
    "# plot baseline and predictions\n",
    "plt.figure(figsize=(15,9))\n",
    "plt.title('Увеличенный масштаб графиков действительного и предсказанного c помощью LSTM значения inUtil')\n",
    "plt.xlabel('time')\n",
    "plt.ylabel('inUtil')\n",
    "plt.plot(scaler.inverse_transform(dataset)[:300], label='Действительные значения')\n",
    "plt.plot(trainPredictPlot[:300], label='Предсказанные значения')\n",
    "plt.legend()"
   ]
  },
  {
   "cell_type": "code",
   "execution_count": null,
   "metadata": {
    "collapsed": true
   },
   "outputs": [],
   "source": [
    "eps = [x-x1 for x,x1 in zip(scaler.inverse_transform(dataset),trainPredictPlot)]"
   ]
  },
  {
   "cell_type": "code",
   "execution_count": null,
   "metadata": {
    "collapsed": true
   },
   "outputs": [],
   "source": [
    "plt.figure(figsize=(15,9))\n",
    "plt.plot(eps)"
   ]
  },
  {
   "cell_type": "code",
   "execution_count": null,
   "metadata": {
    "collapsed": true
   },
   "outputs": [],
   "source": [
    "eps = [x[0] for x in eps]"
   ]
  },
  {
   "cell_type": "code",
   "execution_count": null,
   "metadata": {
    "collapsed": true
   },
   "outputs": [],
   "source": [
    "eps[:5]"
   ]
  },
  {
   "cell_type": "code",
   "execution_count": null,
   "metadata": {
    "collapsed": true
   },
   "outputs": [],
   "source": [
    "d = pd.DataFrame()\n",
    "d['x']=eps[1:]"
   ]
  },
  {
   "cell_type": "code",
   "execution_count": null,
   "metadata": {
    "collapsed": true
   },
   "outputs": [],
   "source": [
    "sns.kdeplot(eps[1:])"
   ]
  },
  {
   "cell_type": "code",
   "execution_count": null,
   "metadata": {
    "collapsed": true
   },
   "outputs": [],
   "source": []
  },
  {
   "cell_type": "code",
   "execution_count": null,
   "metadata": {
    "collapsed": true
   },
   "outputs": [],
   "source": []
  },
  {
   "cell_type": "code",
   "execution_count": null,
   "metadata": {
    "collapsed": true
   },
   "outputs": [],
   "source": []
  },
  {
   "cell_type": "code",
   "execution_count": null,
   "metadata": {
    "collapsed": true
   },
   "outputs": [],
   "source": []
  },
  {
   "cell_type": "code",
   "execution_count": null,
   "metadata": {
    "collapsed": true
   },
   "outputs": [],
   "source": []
  },
  {
   "cell_type": "code",
   "execution_count": null,
   "metadata": {
    "collapsed": true
   },
   "outputs": [],
   "source": []
  },
  {
   "cell_type": "code",
   "execution_count": null,
   "metadata": {
    "collapsed": true
   },
   "outputs": [],
   "source": []
  },
  {
   "cell_type": "code",
   "execution_count": null,
   "metadata": {
    "collapsed": true
   },
   "outputs": [],
   "source": [
    "# vals = ['cpu', 'mem', 'inn', 'out']"
   ]
  },
  {
   "cell_type": "code",
   "execution_count": null,
   "metadata": {
    "collapsed": true
   },
   "outputs": [],
   "source": [
    "from sklearn.preprocessing import MinMaxScaler\n",
    "scaler = MinMaxScaler([0,1])\n",
    "vals = ['cpu', 'mem', 'inn', 'out']\n",
    "mapping = {0:'mon', 1:'tue', 2:'wed', 3:'thu', 4:'fri', 5:'sat', 6:'sun'}\n",
    "X = pd.DataFrame()\n",
    "X['date'] = same_intervals[0].index.values\n",
    "for i, col in enumerate(same_intervals):\n",
    "    X[vals[i]] = same_intervals[i].values\n",
    "# X['month'] = X['date'].apply(lambda x: x.month)\n",
    "# X['day'] = X['date'].apply(lambda x: x.month)\n",
    "X['hour'] = X['date'].apply(lambda x: x.hour)\n",
    "X['minute'] = X['date'].apply(lambda x: x.minute)\n",
    "X['weekday'] = X['date'].apply(lambda x: x.weekday())\n",
    "X['weekday'] = X['weekday'].map(mapping)\n",
    "# X['is_first_half'] = X['date'].apply(lambda x: x.hour < 12).astype(bool)\n",
    "X['is_busy_hour'] = X['date'].apply(lambda x: x.hour > 8 and x.hour < 19).astype(bool)\n",
    "\n",
    "X.fillna(-1, inplace=True)\n",
    "\n",
    "for i,val in enumerate(vals):\n",
    "    X[val] = scaler.fit_transform(X[val].reshape(-1,1))\n",
    "    \n",
    "X.cpu = X.cpu.apply(lambda x: str(x) if x else 'empty').astype('object')\n",
    "X.mem = X.mem.apply(lambda x: str(x) if x else 'empty').astype('object')\n",
    "\n",
    "# for i in range(1, 13):\n",
    "#     for val in vals:\n",
    "#         col = '{}_lag{}'.format(val, i)\n",
    "#         X[col] = X[val].shift(i)\n",
    "#         if val in ['cpu', 'mem']:\n",
    "#             X[col] = X[col].fillna('not seen')\n",
    "#         else:\n",
    "#             X[col].fillna(-2, inplace=True)\n",
    "#             X[col] = scaler.fit_transform(X[col].reshape(-1,1))\n",
    "\n",
    "    \n",
    "date = X['date']\n",
    "X.drop(['date'], axis=1, inplace=True)"
   ]
  },
  {
   "cell_type": "code",
   "execution_count": null,
   "metadata": {},
   "outputs": [],
   "source": [
    "X.mem.unique()"
   ]
  },
  {
   "cell_type": "markdown",
   "metadata": {},
   "source": [
    "### Попытка кластеризовать множество точек inn & out"
   ]
  },
  {
   "cell_type": "code",
   "execution_count": null,
   "metadata": {},
   "outputs": [],
   "source": [
    "plt.scatter(X['inn'].values, X['out'].values)"
   ]
  },
  {
   "cell_type": "code",
   "execution_count": null,
   "metadata": {
    "collapsed": true
   },
   "outputs": [],
   "source": [
    "from sklearn.cluster import DBSCAN"
   ]
  },
  {
   "cell_type": "code",
   "execution_count": null,
   "metadata": {
    "collapsed": true
   },
   "outputs": [],
   "source": [
    "inn_out_df = pd.DataFrame()"
   ]
  },
  {
   "cell_type": "code",
   "execution_count": null,
   "metadata": {
    "collapsed": true
   },
   "outputs": [],
   "source": [
    "inn_out_df['in'] = X['inn'].values\n",
    "inn_out_df['out'] = X['out'].values"
   ]
  },
  {
   "cell_type": "code",
   "execution_count": null,
   "metadata": {
    "collapsed": true
   },
   "outputs": [],
   "source": [
    "clusterer = DBSCAN(p=2, eps=0.1, n_jobs=-1,min_samples=2, algorithm='kd_tree')"
   ]
  },
  {
   "cell_type": "code",
   "execution_count": null,
   "metadata": {
    "collapsed": true
   },
   "outputs": [],
   "source": [
    "y = clusterer.fit_predict(X = inn_out_df)"
   ]
  },
  {
   "cell_type": "code",
   "execution_count": null,
   "metadata": {
    "collapsed": true
   },
   "outputs": [],
   "source": [
    "set(clusterer.labels_)"
   ]
  },
  {
   "cell_type": "code",
   "execution_count": null,
   "metadata": {
    "collapsed": true
   },
   "outputs": [],
   "source": [
    "inn_out_df['y'] = y"
   ]
  },
  {
   "cell_type": "code",
   "execution_count": null,
   "metadata": {
    "collapsed": true
   },
   "outputs": [],
   "source": [
    "sns.lmplot(data=inn_out_df , x='in', y='out', hue='y', scatter=True, fit_reg=False)"
   ]
  },
  {
   "cell_type": "code",
   "execution_count": null,
   "metadata": {
    "collapsed": true
   },
   "outputs": [],
   "source": [
    "from sklearn.manifold import TSNE"
   ]
  },
  {
   "cell_type": "code",
   "execution_count": null,
   "metadata": {
    "collapsed": true
   },
   "outputs": [],
   "source": [
    "manifolder = TSNE(n_components=2)"
   ]
  },
  {
   "cell_type": "code",
   "execution_count": null,
   "metadata": {
    "collapsed": true
   },
   "outputs": [],
   "source": [
    "# Xs = manifolder.fit_transform(inn_out_df[inn_out_df.columns[:-1]])"
   ]
  },
  {
   "cell_type": "code",
   "execution_count": null,
   "metadata": {
    "collapsed": true
   },
   "outputs": [],
   "source": [
    "Xs.shape"
   ]
  },
  {
   "cell_type": "code",
   "execution_count": null,
   "metadata": {
    "collapsed": true
   },
   "outputs": [],
   "source": [
    "plt.title(\"in and out after tsne\")\n",
    "plt.scatter(Xs[:,0], Xs[:,1])"
   ]
  },
  {
   "cell_type": "code",
   "execution_count": null,
   "metadata": {
    "collapsed": true
   },
   "outputs": [],
   "source": [
    "# ind = 100\n",
    "# index = 200 #X.cpu.shape[0]\n",
    "# color_mapping = [\n",
    "#     (0.1, 0.2, 0.2, 0.3),\n",
    "#     (0.5, 0.2, 0.1, 0.3),\n",
    "#     (0.1, 0.9, 0.1, 0.3),\n",
    "#     (0.2, 0.2, 0.9, 0.3),\n",
    "# ]\n",
    "# plt.figure(figsize=(17,9))\n",
    "# plt.grid(True)\n",
    "# for i, val in enumerate(vals):\n",
    "#     print(val)\n",
    "#     plt.scatter(X.index.values[ind:index], X[val].values[ind:index], label=val, c=color_mapping[i])\n",
    "# plt.legend()"
   ]
  },
  {
   "cell_type": "code",
   "execution_count": null,
   "metadata": {
    "collapsed": true
   },
   "outputs": [],
   "source": [
    "from sklearn.model_selection import TimeSeriesSplit, cross_val_score, RandomizedSearchCV"
   ]
  },
  {
   "cell_type": "code",
   "execution_count": null,
   "metadata": {
    "collapsed": true
   },
   "outputs": [],
   "source": [
    "from xgboost import plot_importance, XGBClassifier, XGBRegressor, XGBModel"
   ]
  },
  {
   "cell_type": "code",
   "execution_count": null,
   "metadata": {
    "collapsed": true
   },
   "outputs": [],
   "source": [
    "df = X.copy(deep=True)"
   ]
  },
  {
   "cell_type": "code",
   "execution_count": null,
   "metadata": {
    "collapsed": true
   },
   "outputs": [],
   "source": [
    "col = 'inn'\n",
    "Y = df[col]\n",
    "train_X = df.drop([col], axis=1)"
   ]
  },
  {
   "cell_type": "code",
   "execution_count": null,
   "metadata": {
    "collapsed": true
   },
   "outputs": [],
   "source": [
    "train_X = pd.get_dummies(data=train_X, columns=train_X.select_dtypes(include='object'))"
   ]
  },
  {
   "cell_type": "code",
   "execution_count": null,
   "metadata": {
    "collapsed": true
   },
   "outputs": [],
   "source": [
    "train_X.head()"
   ]
  },
  {
   "cell_type": "code",
   "execution_count": null,
   "metadata": {
    "collapsed": true
   },
   "outputs": [],
   "source": [
    "cv = TimeSeriesSplit(n_splits=7)"
   ]
  },
  {
   "cell_type": "code",
   "execution_count": null,
   "metadata": {
    "collapsed": true
   },
   "outputs": [],
   "source": [
    "# scale_pos_weight = sum(negative_cases)/sum(positive cases)"
   ]
  },
  {
   "cell_type": "code",
   "execution_count": null,
   "metadata": {
    "collapsed": true
   },
   "outputs": [],
   "source": [
    "# A parameter grid for XGBoost\n",
    "params = {\n",
    "    'n_estimators': np.arange(40, 110, 10),\n",
    "    'min_child_weight':[4,5], \n",
    "    'gamma':[i/10.0 for i in range(3,6)],  \n",
    "    'subsample':[i/10.0 for i in range(6,11)],\n",
    "    'colsample_bytree':[i/10.0 for i in range(6,11)], \n",
    "    'max_depth': [2,3,4]\n",
    "}\n",
    "\n",
    "# Initialize XGB and GridSearch\n",
    "xgb = XGBRegressor(nthread=-1)#XGBClassifier(nthread=-1) #XGBRegressor(n_estimators=80)\n",
    "\n",
    "grid = RandomizedSearchCV(xgb, params, cv=cv, scoring='neg_median_absolute_error')"
   ]
  },
  {
   "cell_type": "code",
   "execution_count": null,
   "metadata": {
    "collapsed": true
   },
   "outputs": [],
   "source": [
    "from sklearn.metrics import precision_score"
   ]
  },
  {
   "cell_type": "code",
   "execution_count": null,
   "metadata": {
    "collapsed": true
   },
   "outputs": [],
   "source": [
    "grid.fit(train_X, Y)"
   ]
  },
  {
   "cell_type": "code",
   "execution_count": null,
   "metadata": {
    "collapsed": true
   },
   "outputs": [],
   "source": [
    "a = cross_val_score(grid, train_X, Y, cv=cv)"
   ]
  },
  {
   "cell_type": "code",
   "execution_count": null,
   "metadata": {
    "collapsed": true
   },
   "outputs": [],
   "source": [
    "a"
   ]
  },
  {
   "cell_type": "code",
   "execution_count": null,
   "metadata": {
    "collapsed": true
   },
   "outputs": [],
   "source": [
    "a.mean()"
   ]
  },
  {
   "cell_type": "code",
   "execution_count": null,
   "metadata": {
    "collapsed": true
   },
   "outputs": [],
   "source": [
    "plt.figure(figsize=(19,7))\n",
    "plt.title('Графики действительного и предсказанного с помошбю бустинга значения inUtil')\n",
    "plt.xlabel('time')\n",
    "plt.ylabel('inUtil')\n",
    "plt.plot(Y[:])\n",
    "plt.plot(grid.predict(train_X)[:])"
   ]
  },
  {
   "cell_type": "code",
   "execution_count": null,
   "metadata": {
    "collapsed": true
   },
   "outputs": [],
   "source": [
    "plt.figure(figsize=(19,7))\n",
    "plt.title('Увеличенный масштаб графиков действительного и предсказанного с помошбю бустинга значения inUtil')\n",
    "plt.xlabel('time')\n",
    "plt.ylabel('inUtil')\n",
    "plt.plot(Y[:300].values)\n",
    "plt.plot(grid.predict(train_X)[:300])"
   ]
  },
  {
   "cell_type": "code",
   "execution_count": null,
   "metadata": {
    "collapsed": true
   },
   "outputs": [],
   "source": [
    "plt.figure(figsize=(15,7))\n",
    "plt.plot(Y-grid.predict(train_X))"
   ]
  },
  {
   "cell_type": "markdown",
   "metadata": {},
   "source": [
    "#### adfuller"
   ]
  },
  {
   "cell_type": "code",
   "execution_count": null,
   "metadata": {
    "collapsed": true
   },
   "outputs": [],
   "source": []
  },
  {
   "cell_type": "code",
   "execution_count": null,
   "metadata": {
    "collapsed": true
   },
   "outputs": [],
   "source": [
    "import pyspc"
   ]
  },
  {
   "cell_type": "code",
   "execution_count": null,
   "metadata": {
    "collapsed": true
   },
   "outputs": [],
   "source": [
    "dir(pyspc)"
   ]
  },
  {
   "cell_type": "code",
   "execution_count": null,
   "metadata": {
    "collapsed": true
   },
   "outputs": [],
   "source": [
    "pyspc.spc(train_X['out'].values)"
   ]
  },
  {
   "cell_type": "code",
   "execution_count": null,
   "metadata": {
    "collapsed": true
   },
   "outputs": [],
   "source": [
    "import statsmodels.tsa as tsa"
   ]
  },
  {
   "cell_type": "code",
   "execution_count": null,
   "metadata": {
    "collapsed": true
   },
   "outputs": [],
   "source": [
    "train_X['out'].shape"
   ]
  },
  {
   "cell_type": "code",
   "execution_count": null,
   "metadata": {
    "collapsed": true
   },
   "outputs": [],
   "source": [
    "tsa.stattools.acf(train_X['out'].values)"
   ]
  },
  {
   "cell_type": "code",
   "execution_count": null,
   "metadata": {
    "collapsed": true
   },
   "outputs": [],
   "source": [
    "aa = tsa.filters.bk_filter.bkfilter(train_X['out'],12)"
   ]
  },
  {
   "cell_type": "code",
   "execution_count": null,
   "metadata": {
    "collapsed": true
   },
   "outputs": [],
   "source": [
    "cf_cycles, cf_trend = tsa.filters.cf_filter.cffilter(train_X['out'])"
   ]
  },
  {
   "cell_type": "code",
   "execution_count": null,
   "metadata": {
    "collapsed": true
   },
   "outputs": [],
   "source": [
    "plt.plot(bb);"
   ]
  },
  {
   "cell_type": "code",
   "execution_count": null,
   "metadata": {
    "collapsed": true
   },
   "outputs": [],
   "source": [
    "plt.plot(aa)"
   ]
  },
  {
   "cell_type": "code",
   "execution_count": null,
   "metadata": {
    "collapsed": true
   },
   "outputs": [],
   "source": [
    "import changefinder"
   ]
  },
  {
   "cell_type": "code",
   "execution_count": null,
   "metadata": {
    "collapsed": true
   },
   "outputs": [],
   "source": [
    "changefinder.sm.GLS(train_X['out'])"
   ]
  },
  {
   "cell_type": "code",
   "execution_count": null,
   "metadata": {
    "collapsed": true
   },
   "outputs": [],
   "source": []
  },
  {
   "cell_type": "markdown",
   "metadata": {},
   "source": [
    "# Анализ работы различных моделей"
   ]
  },
  {
   "cell_type": "markdown",
   "metadata": {},
   "source": [
    "Для начала определимся с тем, какой тип задачи будем решать.\n",
    "\n",
    "1. Обучение без учителя\n",
    "2. Обучение с учителем\n",
    "\n",
    "! Замечания по первому пункту\n",
    "\n",
    "    Посмотреть следующие статьи\n",
    "        https://www.sciencedirect.com/science/article/pii/S0377042707001100\n",
    "        какой-то алгоритм с HTM https://www.sciencedirect.com/science/article/pii/S0925231217309864\n",
    "        https://pdfs.semanticscholar.org/bffb/4986040684253b6f5a6e918602a027ae9668.pdf\n",
    "        может что здесь будет интересно https://www.jstor.org/stable/2290724?seq=1#page_scan_tab_contents\n",
    "        H-S-ESD https://blog.twitter.com/engineering/en_us/a/2015/introducing-practical-and-robust-anomaly-detection-in-a-time-series.html\n",
    "        \n",
    "\n",
    "    Точечные аномалии\n",
    "        -1 Еще можно такой вариант. Берется окно(пусть в день) высчитывается робастаная( медианы) средняя и std. Затем находим z-score. Если z-score больше заданного порога(вот тут загвоздочка. Мб функционал задать и \n",
    "        0. Метод отсюда  pandas.stats.moments.ewma \n",
    "        1. Средлнее отклонение\n",
    "        1. Доверительный интервал\n",
    "        2. Значения выходящее за 3sigma\n",
    "        3. ESD\n",
    "        4. GenerilizedESD\n",
    "        5. H-S-ESD (twitter)\n",
    "        6. Prophet попробовать\n",
    "        7. Wavelet для определения сезонности\n",
    "        8. Kalman Filter\n",
    "           метод отсюда https://pdfs.semanticscholar.org/bffb/4986040684253b6f5a6e918602a027ae9668.pdf\n",
    "        9. STL\n",
    "        10. Потыкать pyspc\n",
    "        11. Рассматривать scatter и строить линейную аппроксимацию. Значения, которые отклоняются на заданный интервал будут аномалиями\n",
    "    \n",
    "    Аномалии по окнам\n",
    "    \n",
    "\n",
    "! Замечания по второму пункту\n",
    "\n",
    "Для второго пункта нужны размеченные данные. Это сделаем просто. Бутстрепом определим доверительный интервал для каждого временного ряда (среднее +- отклонение)"
   ]
  },
  {
   "cell_type": "markdown",
   "metadata": {},
   "source": [
    "### EWMA"
   ]
  },
  {
   "cell_type": "code",
   "execution_count": null,
   "metadata": {
    "collapsed": true
   },
   "outputs": [],
   "source": [
    "inn_out_df.columns"
   ]
  },
  {
   "cell_type": "code",
   "execution_count": null,
   "metadata": {
    "collapsed": true
   },
   "outputs": [],
   "source": [
    "import pandas, numpy as np\n",
    "ewma = pandas.stats.moments.ewma\n",
    "\n",
    "i = 600\n",
    "x = X['inn'].values\n",
    "ixs = x>0\n",
    "x = x[ixs]\n",
    "print(x.shape)\n",
    "t = date.index.values\n",
    "t = t[ixs]\n",
    "\n",
    "# take EWMA in both directions with a smaller span term\n",
    "fwd = ewma( x, span=6)          # take EWMA in fwd direction\n",
    "bwd = ewma( x[::-1], span=6)    # take EWMA in bwd direction\n",
    "c = np.vstack((fwd, bwd[::-1] )) # lump fwd and bwd together\n",
    "c = np.mean( c, axis=0 )          # average  \n",
    "print(c.shape)\n",
    "\n",
    "plt.figure(figsize=(19,8))\n",
    "plt.title('Графики действительного и предсказанного с помошбю бустинга значения inUtil')\n",
    "plt.xlabel('time')\n",
    "plt.ylabel('inUtil')\n",
    "plt.scatter( range(len(x)), x,  alpha=0.4, label='inUtil' )\n",
    "plt.plot( ewma( x, span=6), 'g', label='EWMA, span=6')\n",
    "plt.plot( c, 'r', label='Reversed-Recombined' )\n",
    "plt.legend()\n",
    "\n",
    "plt.figure(figsize=(19,8))\n",
    "plt.title('Увеличенный масштаб графиков действительного и предсказанного с помошбю бустинга значения inUtil')\n",
    "plt.xlabel('time')\n",
    "plt.ylabel('inUtil')\n",
    "plt.scatter( range(len(x[:300])), x[:300],  alpha=0.4, label='inUtil' )\n",
    "plt.plot( ewma( x[:300], span=6), 'g', label='EWMA, span=6')\n",
    "plt.plot( c[:300], 'r', label='Reversed-Recombined' )\n",
    "plt.legend()"
   ]
  },
  {
   "cell_type": "markdown",
   "metadata": {},
   "source": [
    "### Среднее отклонение. Че-то я пока не могу понять, в чем суть этого метода"
   ]
  },
  {
   "cell_type": "code",
   "execution_count": null,
   "metadata": {
    "collapsed": true
   },
   "outputs": [],
   "source": [
    "in_mean = X.loc[X['inn'] > 0, 'inn'].mean()"
   ]
  },
  {
   "cell_type": "code",
   "execution_count": null,
   "metadata": {
    "collapsed": true
   },
   "outputs": [],
   "source": [
    "in_mean"
   ]
  },
  {
   "cell_type": "code",
   "execution_count": null,
   "metadata": {
    "collapsed": true
   },
   "outputs": [],
   "source": [
    "plt.scatter(date.index.values, X['inn'].values)\n",
    "plt.axhline(in_mean, c='r')"
   ]
  },
  {
   "cell_type": "code",
   "execution_count": null,
   "metadata": {
    "collapsed": true
   },
   "outputs": [],
   "source": [
    "plt.scatter(date.index.values, X['inn'].values-in_mean)"
   ]
  },
  {
   "cell_type": "markdown",
   "metadata": {},
   "source": [
    "### Пример для бутстрепа. Правило трех сигм"
   ]
  },
  {
   "cell_type": "code",
   "execution_count": null,
   "metadata": {
    "collapsed": true
   },
   "outputs": [],
   "source": [
    "import numpy as np\n",
    "import matplotlib.pyplot as plt\n",
    "from sklearn.linear_model import LinearRegression\n",
    "\n",
    "# Create toy data \n",
    "x = date.index.values\n",
    "y = X['inn'].values\n",
    "\n",
    "# Extend x data to contain another row vector of 1s\n",
    "Xx = np.vstack([x, np.ones(x.shape[0])]).T\n",
    "\n",
    "\n",
    "# plt.figure(figsize=(12,8))\n",
    "means = []\n",
    "for i in range(1000):\n",
    "    sample_index = np.random.choice(range(0, y.shape[0]), y.shape[0])\n",
    "\n",
    "    X_samples = x[sample_index]\n",
    "    y_samples = y[sample_index]  \n",
    "    \n",
    "    means.append(y_samples.mean())"
   ]
  },
  {
   "cell_type": "code",
   "execution_count": null,
   "metadata": {
    "collapsed": true
   },
   "outputs": [],
   "source": [
    "import numpy as np, scipy.stats as st\n",
    "interval = st.t.interval(0.95, len(means)-1, loc=np.mean(means), scale=st.sem(means))"
   ]
  },
  {
   "cell_type": "code",
   "execution_count": null,
   "metadata": {
    "collapsed": true
   },
   "outputs": [],
   "source": [
    "std = np.asarray(means).std()"
   ]
  },
  {
   "cell_type": "code",
   "execution_count": null,
   "metadata": {
    "collapsed": true
   },
   "outputs": [],
   "source": [
    "mean = np.asarray(means).mean()"
   ]
  },
  {
   "cell_type": "code",
   "execution_count": null,
   "metadata": {
    "collapsed": true
   },
   "outputs": [],
   "source": [
    "mean = X.loc[X['inn']>0, 'inn'].mean()"
   ]
  },
  {
   "cell_type": "code",
   "execution_count": null,
   "metadata": {
    "collapsed": true
   },
   "outputs": [],
   "source": [
    "std = X.loc[X['inn']>0, 'inn'].std()"
   ]
  },
  {
   "cell_type": "code",
   "execution_count": null,
   "metadata": {
    "collapsed": true
   },
   "outputs": [],
   "source": [
    "mean"
   ]
  },
  {
   "cell_type": "code",
   "execution_count": null,
   "metadata": {
    "collapsed": true
   },
   "outputs": [],
   "source": [
    "std"
   ]
  },
  {
   "cell_type": "code",
   "execution_count": null,
   "metadata": {
    "collapsed": true
   },
   "outputs": [],
   "source": [
    "mark = np.asarray([0 if x > mean-3*std and x < mean+3*std else 1 for x in X['inn'].values])"
   ]
  },
  {
   "cell_type": "code",
   "execution_count": null,
   "metadata": {
    "collapsed": true
   },
   "outputs": [],
   "source": [
    "plt.scatter(date.index, X['inn'].values)\n",
    "plt.axhline(mean)\n",
    "plt.axhline(mean+3*std)\n",
    "plt.axhline(mean-3*std)"
   ]
  },
  {
   "cell_type": "code",
   "execution_count": null,
   "metadata": {
    "collapsed": true
   },
   "outputs": [],
   "source": [
    "xx = pd.DataFrame()\n",
    "xx['index'] = date.index.values\n",
    "xx['inn'] = X['inn'].values\n",
    "xx['mark'] = mark"
   ]
  },
  {
   "cell_type": "code",
   "execution_count": null,
   "metadata": {
    "collapsed": true
   },
   "outputs": [],
   "source": [
    "xx['prediction'] = xx['mark'].map({1:'bad', 0:'good'})"
   ]
  },
  {
   "cell_type": "code",
   "execution_count": null,
   "metadata": {
    "collapsed": true
   },
   "outputs": [],
   "source": [
    "sns.lmplot(data=xx, x='index', y='inn', hue='prediction',scatter=True, fit_reg=False,size=8, aspect=2)\n",
    "# plt.axhline(mean)\n",
    "plt.axhline(mean+3*std, linestyle='--')\n",
    "plt.title('Метод 3 сигм')\n",
    "plt.ylabel('inUtil')\n",
    "plt.xlabel('time')"
   ]
  },
  {
   "cell_type": "markdown",
   "metadata": {},
   "source": [
    "### ESD"
   ]
  },
  {
   "cell_type": "markdown",
   "metadata": {},
   "source": [
    "### generilizedESD"
   ]
  },
  {
   "cell_type": "code",
   "execution_count": null,
   "metadata": {
    "collapsed": true
   },
   "outputs": [],
   "source": [
    "from PyAstronomy import pyasl"
   ]
  },
  {
   "cell_type": "code",
   "execution_count": null,
   "metadata": {
    "collapsed": true
   },
   "outputs": [],
   "source": [
    "outliers = pyasl.generalizedESD(X['inn'].values, 40,alpha=0.05, fullOutput=True)[1]"
   ]
  },
  {
   "cell_type": "code",
   "execution_count": null,
   "metadata": {
    "collapsed": true
   },
   "outputs": [],
   "source": [
    "outliers"
   ]
  },
  {
   "cell_type": "code",
   "execution_count": null,
   "metadata": {
    "collapsed": true
   },
   "outputs": [],
   "source": [
    "r = pd.DataFrame()\n",
    "r['inn'] = X['inn'].values\n",
    "r['prediction'] = 0\n",
    "r['index'] = X['inn'].index.values\n",
    "r.loc[r['prediction'].apply(lambda x: x in outliers), 'prediction'] = 1"
   ]
  },
  {
   "cell_type": "code",
   "execution_count": null,
   "metadata": {
    "collapsed": true
   },
   "outputs": [],
   "source": [
    "for i in outliers:\n",
    "    r.iloc[i]['prediction'] = 1"
   ]
  },
  {
   "cell_type": "code",
   "execution_count": null,
   "metadata": {
    "collapsed": true
   },
   "outputs": [],
   "source": [
    "r.prediction.unique()"
   ]
  },
  {
   "cell_type": "code",
   "execution_count": null,
   "metadata": {
    "collapsed": true
   },
   "outputs": [],
   "source": [
    "sns.lmplot(data=r, x='index', y='inn', hue='prediction', scatter=True, fit_reg=False)"
   ]
  },
  {
   "cell_type": "code",
   "execution_count": null,
   "metadata": {
    "collapsed": true
   },
   "outputs": [],
   "source": [
    "plt.figure(figsize=(17,9))\n",
    "plt.title('Generilized ESD')\n",
    "plt.ylabel('inUtil')\n",
    "plt.xlabel('time')\n",
    "plt.scatter(date.index.values, X['inn'].values, label='good')\n",
    "plt.scatter(date.index.values[outliers], X['inn'].values[outliers], c='r', label='bad')\n",
    "plt.legend()"
   ]
  },
  {
   "cell_type": "markdown",
   "metadata": {},
   "source": [
    "### H-S-ESD"
   ]
  },
  {
   "cell_type": "code",
   "execution_count": null,
   "metadata": {
    "collapsed": true
   },
   "outputs": [],
   "source": [
    "from pyculiarity import detect_ts"
   ]
  },
  {
   "cell_type": "code",
   "execution_count": null,
   "metadata": {
    "collapsed": true
   },
   "outputs": [],
   "source": [
    "test = pd.DataFrame()\n",
    "test['timestamp'] = date.index.values\n",
    "test['count'] = X['inn'].values\n",
    "results = detect_ts(test, max_anoms=0.05, alpha=0.001, direction='both')"
   ]
  },
  {
   "cell_type": "code",
   "execution_count": null,
   "metadata": {
    "collapsed": true
   },
   "outputs": [],
   "source": [
    "results['anoms']['anoms'].index.values[:5]"
   ]
  },
  {
   "cell_type": "code",
   "execution_count": null,
   "metadata": {
    "collapsed": true
   },
   "outputs": [],
   "source": [
    "ixs = test.loc[test['timestamp'].isin(results['anoms'].index.values),'timestamp']"
   ]
  },
  {
   "cell_type": "code",
   "execution_count": null,
   "metadata": {
    "collapsed": true
   },
   "outputs": [],
   "source": [
    "ixs.index[:5]"
   ]
  },
  {
   "cell_type": "code",
   "execution_count": null,
   "metadata": {
    "collapsed": true
   },
   "outputs": [],
   "source": [
    "plt.figure(figsize=(17,9))\n",
    "plt.title('S-H-ESD')\n",
    "plt.ylabel('inUtil')\n",
    "plt.xlabel('time')\n",
    "plt.scatter(test['timestamp'].index, test['count'], label='good')\n",
    "plt.scatter(test['timestamp'].index.values[ixs.index], results['anoms']['anoms'].values, color='r', label='bad')\n",
    "plt.legend()"
   ]
  },
  {
   "cell_type": "markdown",
   "metadata": {},
   "source": [
    "### Prophet"
   ]
  },
  {
   "cell_type": "code",
   "execution_count": null,
   "metadata": {
    "collapsed": true
   },
   "outputs": [],
   "source": [
    "from fbprophet import Prophet"
   ]
  },
  {
   "cell_type": "code",
   "execution_count": null,
   "metadata": {
    "collapsed": true
   },
   "outputs": [],
   "source": [
    "df = pd.DataFrame()\n",
    "df['ds'] = date.values\n",
    "df['y'] = X['inn'].values"
   ]
  },
  {
   "cell_type": "code",
   "execution_count": null,
   "metadata": {
    "collapsed": true
   },
   "outputs": [],
   "source": [
    "m = Prophet(yearly_seasonality=False)\n",
    "m.fit(df)"
   ]
  },
  {
   "cell_type": "code",
   "execution_count": null,
   "metadata": {
    "collapsed": true
   },
   "outputs": [],
   "source": [
    "interpolate = m.predict(df)"
   ]
  },
  {
   "cell_type": "code",
   "execution_count": null,
   "metadata": {
    "collapsed": true
   },
   "outputs": [],
   "source": [
    "# interpolate.head()"
   ]
  },
  {
   "cell_type": "code",
   "execution_count": null,
   "metadata": {
    "collapsed": true
   },
   "outputs": [],
   "source": [
    "m.plot?"
   ]
  },
  {
   "cell_type": "code",
   "execution_count": null,
   "metadata": {
    "collapsed": true
   },
   "outputs": [],
   "source": [
    "plt.plot(interpolate.yhat)"
   ]
  },
  {
   "cell_type": "code",
   "execution_count": null,
   "metadata": {
    "collapsed": true
   },
   "outputs": [],
   "source": [
    "interpolate.head()"
   ]
  },
  {
   "cell_type": "code",
   "execution_count": null,
   "metadata": {
    "collapsed": true
   },
   "outputs": [],
   "source": [
    "plt.plot(interpolate.yhat)"
   ]
  },
  {
   "cell_type": "code",
   "execution_count": null,
   "metadata": {
    "collapsed": true
   },
   "outputs": [],
   "source": [
    "# plt.rcParams['figure.figsize']=(19,7)\n",
    "m.plot(interpolate,xlabel='time', ylabel='inUtil', plot_cap=.5)\n",
    "plt.title('ff')"
   ]
  },
  {
   "cell_type": "markdown",
   "metadata": {},
   "source": [
    "### STL"
   ]
  },
  {
   "cell_type": "code",
   "execution_count": null,
   "metadata": {
    "collapsed": true
   },
   "outputs": [],
   "source": [
    "import stldecompose"
   ]
  },
  {
   "cell_type": "code",
   "execution_count": null,
   "metadata": {
    "collapsed": true
   },
   "outputs": [],
   "source": [
    "res = stldecompose.decompose(X['inn'].values)"
   ]
  },
  {
   "cell_type": "code",
   "execution_count": null,
   "metadata": {
    "collapsed": true
   },
   "outputs": [],
   "source": [
    "x = date.index.values\n",
    "plt.plot(x, res.observed)\n",
    "plt.plot(x, res.resid)\n",
    "# plt.plot(x, res.observed-res.seasonal-res.trend)"
   ]
  },
  {
   "cell_type": "code",
   "execution_count": null,
   "metadata": {
    "collapsed": true
   },
   "outputs": [],
   "source": [
    "# plt.plot(date.index[:500], res.seasonal[:500])\n",
    "# plt.xticks(date.index[:500], date.values[:500], rotation=90);"
   ]
  },
  {
   "cell_type": "code",
   "execution_count": null,
   "metadata": {
    "collapsed": true
   },
   "outputs": [],
   "source": [
    "date.min()"
   ]
  },
  {
   "cell_type": "code",
   "execution_count": null,
   "metadata": {
    "collapsed": true
   },
   "outputs": [],
   "source": [
    "date.max()"
   ]
  },
  {
   "cell_type": "code",
   "execution_count": null,
   "metadata": {
    "collapsed": true
   },
   "outputs": [],
   "source": [
    "plt.plot(date.index, res.trend)"
   ]
  },
  {
   "cell_type": "code",
   "execution_count": null,
   "metadata": {
    "collapsed": true
   },
   "outputs": [],
   "source": []
  },
  {
   "cell_type": "markdown",
   "metadata": {},
   "source": [
    "### Обучение с учителем."
   ]
  },
  {
   "cell_type": "markdown",
   "metadata": {},
   "source": [
    "Для начала быстро и просто разметим данные. Пусть аномалия - отклонение на 3 сигмы от среднего"
   ]
  },
  {
   "cell_type": "code",
   "execution_count": null,
   "metadata": {},
   "outputs": [],
   "source": [
    "X.cpu.unique()"
   ]
  },
  {
   "cell_type": "code",
   "execution_count": null,
   "metadata": {
    "collapsed": true
   },
   "outputs": [],
   "source": [
    "def data_for_outlier_datection(X, col):\n",
    "    df = pd.DataFrame()\n",
    "    df['date'] = date.values\n",
    "    df['val'] = X[col].values\n",
    "    mean = df.loc[df['val'] > 0, 'val'].mean()\n",
    "    std = df.loc[df['val'] > 0, 'val'].std()\n",
    "    df['outlier'] = df['val'].apply(lambda x: 0 if (x < mean + 3*std and x > mean - 3* std) or x == 0 else 1)\n",
    "    df['index'] = df.index.values\n",
    "    return df, mean, std"
   ]
  },
  {
   "cell_type": "code",
   "execution_count": null,
   "metadata": {
    "collapsed": true
   },
   "outputs": [],
   "source": [
    "df_inn, mi, si = data_for_outlier_datection(X, 'inn')\n",
    "df_out, ms, ss = data_for_outlier_datection(X, 'out')"
   ]
  },
  {
   "cell_type": "code",
   "execution_count": null,
   "metadata": {},
   "outputs": [],
   "source": [
    "sns.lmplot(data=df_inn, x='index', y='val', hue='outlier', scatter=True, fit_reg=False)\n",
    "plt.axhline(mi)\n",
    "plt.axhline(mi-3*si)\n",
    "plt.axhline(mi+3*si)"
   ]
  },
  {
   "cell_type": "code",
   "execution_count": null,
   "metadata": {},
   "outputs": [],
   "source": [
    "sns.lmplot(data=df_out, x='index', y='val', hue='outlier', scatter=True, fit_reg=False)\n",
    "plt.axhline(ms)\n",
    "plt.axhline(ms-3*ss)\n",
    "plt.axhline(ms+3*ss)"
   ]
  },
  {
   "cell_type": "markdown",
   "metadata": {},
   "source": [
    "## Классификация"
   ]
  },
  {
   "cell_type": "code",
   "execution_count": null,
   "metadata": {},
   "outputs": [],
   "source": [
    "X.head()"
   ]
  },
  {
   "cell_type": "code",
   "execution_count": null,
   "metadata": {
    "collapsed": true
   },
   "outputs": [],
   "source": [
    "d = X.copy(deep=True)"
   ]
  },
  {
   "cell_type": "code",
   "execution_count": null,
   "metadata": {
    "collapsed": true
   },
   "outputs": [],
   "source": [
    "scaler = MinMaxScaler((0,1))"
   ]
  },
  {
   "cell_type": "code",
   "execution_count": null,
   "metadata": {
    "collapsed": true
   },
   "outputs": [],
   "source": [
    "d['inn'] = scaler.fit_transform(d['inn'].reshape(-1,1))\n",
    "d['out'] = scaler.fit_transform(d['out'].reshape(-1,1))\n",
    "d['hour'] = scaler.fit_transform(d['hour'].reshape(-1,1))\n",
    "d['minute'] = scaler.fit_transform(d['minute'].reshape(-1,1))"
   ]
  },
  {
   "cell_type": "code",
   "execution_count": null,
   "metadata": {
    "collapsed": true
   },
   "outputs": [],
   "source": [
    "ixs1 = df_out.loc[df_out['outlier'] == 1, 'date']\n",
    "ixs2 = df_inn.loc[df_inn['outlier'] == 1, 'date']"
   ]
  },
  {
   "cell_type": "code",
   "execution_count": null,
   "metadata": {
    "collapsed": true
   },
   "outputs": [],
   "source": [
    "data = d.copy(deep=True)"
   ]
  },
  {
   "cell_type": "code",
   "execution_count": null,
   "metadata": {
    "collapsed": true
   },
   "outputs": [],
   "source": [
    "data['outlier'] = -1\n",
    "data.loc[data.index.isin(list(set(ixs1.index.values) | set(ixs2.index.values))), 'outlier'] = 1"
   ]
  },
  {
   "cell_type": "code",
   "execution_count": null,
   "metadata": {},
   "outputs": [],
   "source": [
    "data['outlier'].unique()"
   ]
  },
  {
   "cell_type": "code",
   "execution_count": null,
   "metadata": {},
   "outputs": [],
   "source": [
    "data['outlier'].value_counts()"
   ]
  },
  {
   "cell_type": "code",
   "execution_count": null,
   "metadata": {
    "collapsed": true
   },
   "outputs": [],
   "source": [
    "y = data['outlier']\n",
    "data.drop('outlier', axis=1, inplace=True)"
   ]
  },
  {
   "cell_type": "code",
   "execution_count": null,
   "metadata": {
    "collapsed": true
   },
   "outputs": [],
   "source": [
    "data1 = pd.get_dummies(data)"
   ]
  },
  {
   "cell_type": "code",
   "execution_count": null,
   "metadata": {},
   "outputs": [],
   "source": [
    "data1.head()"
   ]
  },
  {
   "cell_type": "code",
   "execution_count": null,
   "metadata": {
    "collapsed": true
   },
   "outputs": [],
   "source": [
    "from sklearn.ensemble import IsolationForest\n",
    "from sklearn.svm import OneClassSVM\n",
    "from sklearn.neighbors import LocalOutlierFactor\n",
    "from sklearn.covariance import EllipticEnvelope"
   ]
  },
  {
   "cell_type": "code",
   "execution_count": null,
   "metadata": {
    "collapsed": true
   },
   "outputs": [],
   "source": [
    "from sklearn.model_selection import TimeSeriesSplit, cross_val_score, RandomizedSearchCV, KFold"
   ]
  },
  {
   "cell_type": "code",
   "execution_count": null,
   "metadata": {
    "collapsed": true
   },
   "outputs": [],
   "source": [
    "from sklearn.metrics import accuracy_score, precision_score, precision_recall_curve, roc_auc_score"
   ]
  },
  {
   "cell_type": "code",
   "execution_count": null,
   "metadata": {
    "collapsed": true
   },
   "outputs": [],
   "source": [
    "cv = TimeSeriesSplit(n_splits=7)"
   ]
  },
  {
   "cell_type": "code",
   "execution_count": null,
   "metadata": {
    "collapsed": true
   },
   "outputs": [],
   "source": [
    "cv = KFold(n_splits=7,  shuffle=True)"
   ]
  },
  {
   "cell_type": "markdown",
   "metadata": {},
   "source": [
    "#### IsolationForest"
   ]
  },
  {
   "cell_type": "code",
   "execution_count": null,
   "metadata": {
    "collapsed": true
   },
   "outputs": [],
   "source": [
    "clf = IsolationForest(bootstrap=True, n_estimators=100, random_state=7, contamination=0.0001, n_jobs=-1)"
   ]
  },
  {
   "cell_type": "code",
   "execution_count": null,
   "metadata": {
    "collapsed": true
   },
   "outputs": [],
   "source": [
    "mask = data1['inn']>0"
   ]
  },
  {
   "cell_type": "code",
   "execution_count": null,
   "metadata": {
    "collapsed": true
   },
   "outputs": [],
   "source": [
    "dd = data1[mask].reset_index(drop=True)\n",
    "y1 = y[mask]"
   ]
  },
  {
   "cell_type": "code",
   "execution_count": null,
   "metadata": {},
   "outputs": [],
   "source": [
    "dd.head()"
   ]
  },
  {
   "cell_type": "code",
   "execution_count": null,
   "metadata": {},
   "outputs": [],
   "source": [
    "set(y1)"
   ]
  },
  {
   "cell_type": "code",
   "execution_count": null,
   "metadata": {},
   "outputs": [],
   "source": [
    "for train_index, test_index  in cv.split(dd):\n",
    "    train_x, train_y = dd.iloc[train_index], y[train_index]\n",
    "    test_x, test_y = dd.iloc[test_index], y[test_index]\n",
    "    clf.fit(train_x, train_y)\n",
    "    y_pred = clf.predict(test_x)\n",
    "    print(roc_auc_score(test_y, -clf.decision_function(test_x)))\n",
    "    print(roc_auc_score(test_y, clf.predict(test_x)))\n",
    "#     print(set(test_y))\n",
    "#     print(set(y_pred))\n",
    "#     try:\n",
    "#         acc = accuracy_score(y_pred=y_pred, y_true=test_y)\n",
    "#         prec = precision_score(y_pred=y_pred, y_true=test_y)\n",
    "#         auc = roc_auc_score(y_score=y_pred, y_true=test_y)\n",
    "#         print(acc)\n",
    "#         print(prec)\n",
    "#         print(auc)\n",
    "#         print()\n",
    "#     except:\n",
    "#         print('oops')\n",
    "    \n",
    "#     X_"
   ]
  },
  {
   "cell_type": "code",
   "execution_count": null,
   "metadata": {},
   "outputs": [],
   "source": [
    "print(roc_auc_score(y, -clf.decision_function(data1)))"
   ]
  },
  {
   "cell_type": "code",
   "execution_count": null,
   "metadata": {
    "collapsed": true
   },
   "outputs": [],
   "source": [
    "y_pred = -clf.decision_function(data1)"
   ]
  },
  {
   "cell_type": "code",
   "execution_count": null,
   "metadata": {
    "collapsed": true
   },
   "outputs": [],
   "source": [
    "d = pd.DataFrame()\n",
    "d['true'] = y.values\n",
    "d['pred'] = [1 if i>0 else -1 for i in y_pred]"
   ]
  },
  {
   "cell_type": "code",
   "execution_count": null,
   "metadata": {
    "collapsed": true
   },
   "outputs": [],
   "source": [
    "test_df = pd.DataFrame()\n",
    "test_df['in'] = data1['inn'].values\n",
    "test_df['pred'] = d['pred'].values\n",
    "test_df['index'] = d.index.values\n"
   ]
  },
  {
   "cell_type": "code",
   "execution_count": null,
   "metadata": {},
   "outputs": [],
   "source": [
    "sns.lmplot(data=test_df, x='index', y='in', hue='pred')"
   ]
  },
  {
   "cell_type": "code",
   "execution_count": null,
   "metadata": {},
   "outputs": [],
   "source": [
    "d[['pred','true']].head()"
   ]
  },
  {
   "cell_type": "markdown",
   "metadata": {},
   "source": [
    "#### OneClassSVM"
   ]
  },
  {
   "cell_type": "code",
   "execution_count": null,
   "metadata": {
    "collapsed": true
   },
   "outputs": [],
   "source": [
    "clf = OneClassSVM(nu=sum(y==1)/sum(y==-1), kernel=\"rbf\", gamma=0.001)"
   ]
  },
  {
   "cell_type": "code",
   "execution_count": null,
   "metadata": {},
   "outputs": [],
   "source": [
    "for train_index, test_index  in cv.split(dd):\n",
    "    train_x, train_y = dd.iloc[train_index], y1.iloc[train_index]\n",
    "    test_x, test_y = dd.iloc[test_index], y1.iloc[test_index]\n",
    "    print(set(test_y))\n",
    "    clf.fit(train_x, train_y)\n",
    "    y_pred = clf.predict(test_x)\n",
    "    print(roc_auc_score(y_score=y_pred, y_true=test_y))"
   ]
  },
  {
   "cell_type": "code",
   "execution_count": null,
   "metadata": {
    "collapsed": true
   },
   "outputs": [],
   "source": [
    "clf.fit(data1, y)\n",
    "y_pred = clf.predict(data1)\n",
    "\n",
    "d = pd.DataFrame()\n",
    "d['true'] = y.values\n",
    "d['pred'] = y_pred"
   ]
  },
  {
   "cell_type": "code",
   "execution_count": null,
   "metadata": {},
   "outputs": [],
   "source": [
    "d = pd.DataFrame()\n",
    "d['true'] = y.values\n",
    "d['pred'] = [1 if i>0 else -1 for i in y_pred]\n",
    "test_df = pd.DataFrame()\n",
    "test_df['in'] = data1['inn'].values\n",
    "test_df['pred'] = d['pred'].values\n",
    "test_df['index'] = d.index.values\n",
    "sns.lmplot(data=test_df, x='index', y='in', hue='pred', size=8, aspect=2, fit_reg=False)\n",
    "plt.title('SVM для поиска аномалий')\n",
    "plt.xlabel('time')\n",
    "plt.ylabel('inUtil')"
   ]
  },
  {
   "cell_type": "markdown",
   "metadata": {},
   "source": [
    "#### LocalOutlierFactor"
   ]
  },
  {
   "cell_type": "code",
   "execution_count": null,
   "metadata": {},
   "outputs": [],
   "source": [
    "y1.value_counts()"
   ]
  },
  {
   "cell_type": "code",
   "execution_count": null,
   "metadata": {
    "collapsed": true
   },
   "outputs": [],
   "source": [
    "clf = LocalOutlierFactor(n_neighbors=35, contamination=0.01)"
   ]
  },
  {
   "cell_type": "code",
   "execution_count": null,
   "metadata": {},
   "outputs": [],
   "source": [
    "y_pred = clf.fit_predict(data1[y==1], y[y==1])\n"
   ]
  },
  {
   "cell_type": "code",
   "execution_count": null,
   "metadata": {
    "collapsed": true
   },
   "outputs": [],
   "source": [
    "d.corr()"
   ]
  },
  {
   "cell_type": "code",
   "execution_count": null,
   "metadata": {},
   "outputs": [],
   "source": [
    "d = pd.DataFrame()\n",
    "d['true'] = y.values\n",
    "d['pred'] = [1 if i>0 else -1 for i in y_pred]\n",
    "test_df = pd.DataFrame()\n",
    "test_df['in'] = data1['inn'].values\n",
    "test_df['pred'] = d['pred'].values\n",
    "test_df['index'] = d.index.values\n",
    "sns.lmplot(data=test_df, x='index', y='in', hue='pred', size=8, aspect=2)\n",
    "plt.title('SVM для поиска аномалий')\n",
    "plt.xlabel('time')\n",
    "plt.ylabel('inUtil')"
   ]
  },
  {
   "cell_type": "code",
   "execution_count": null,
   "metadata": {
    "collapsed": true
   },
   "outputs": [],
   "source": []
  },
  {
   "cell_type": "code",
   "execution_count": null,
   "metadata": {
    "collapsed": true
   },
   "outputs": [],
   "source": []
  },
  {
   "cell_type": "code",
   "execution_count": null,
   "metadata": {
    "collapsed": true
   },
   "outputs": [],
   "source": []
  },
  {
   "cell_type": "code",
   "execution_count": null,
   "metadata": {
    "collapsed": true
   },
   "outputs": [],
   "source": []
  },
  {
   "cell_type": "code",
   "execution_count": null,
   "metadata": {
    "collapsed": true
   },
   "outputs": [],
   "source": []
  },
  {
   "cell_type": "code",
   "execution_count": null,
   "metadata": {
    "collapsed": true
   },
   "outputs": [],
   "source": []
  }
 ],
 "metadata": {
  "kernelspec": {
   "display_name": "Python 3",
   "language": "python",
   "name": "python3"
  },
  "language_info": {
   "codemirror_mode": {
    "name": "ipython",
    "version": 3
   },
   "file_extension": ".py",
   "mimetype": "text/x-python",
   "name": "python",
   "nbconvert_exporter": "python",
   "pygments_lexer": "ipython3",
   "version": "3.6.2"
  }
 },
 "nbformat": 4,
 "nbformat_minor": 2
}
