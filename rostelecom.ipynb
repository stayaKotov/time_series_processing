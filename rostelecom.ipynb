{
 "cells": [
  {
   "cell_type": "code",
   "execution_count": 1,
   "metadata": {},
   "outputs": [
    {
     "name": "stderr",
     "output_type": "stream",
     "text": [
      "/anaconda3/lib/python3.6/site-packages/statsmodels/compat/pandas.py:56: FutureWarning: The pandas.core.datetools module is deprecated and will be removed in a future version. Please use the pandas.tseries module instead.\n",
      "  from pandas.core import datetools\n"
     ]
    },
    {
     "data": {
      "text/html": [
       "<script>requirejs.config({paths: { 'plotly': ['https://cdn.plot.ly/plotly-latest.min']},});if(!window.Plotly) {{require(['plotly'],function(plotly) {window.Plotly=plotly;});}}</script>"
      ],
      "text/vnd.plotly.v1+html": [
       "<script>requirejs.config({paths: { 'plotly': ['https://cdn.plot.ly/plotly-latest.min']},});if(!window.Plotly) {{require(['plotly'],function(plotly) {window.Plotly=plotly;});}}</script>"
      ]
     },
     "metadata": {},
     "output_type": "display_data"
    }
   ],
   "source": [
    "%matplotlib inline\n",
    "import pandas as pd\n",
    "import numpy as np\n",
    "import matplotlib as mpl\n",
    "import matplotlib.pyplot as plt\n",
    "import seaborn as sns\n",
    "import matplotlib.pylab as pylab\n",
    "from datetime import datetime\n",
    "import os\n",
    "import sys\n",
    "from pandas.plotting import autocorrelation_plot\n",
    "from statsmodels.tsa.stattools import adfuller\n",
    "\n",
    "import astropy.stats as ast_stats\n",
    "\n",
    "import pyflux as pf\n",
    "\n",
    "import traces\n",
    "\n",
    "import warnings\n",
    "warnings.filterwarnings('ignore')\n",
    "import tqdm\n",
    "\n",
    "from sklearn.metrics import mean_absolute_error, mean_squared_error\n",
    "\n",
    "import statsmodels.formula.api as smf\n",
    "import statsmodels.tsa.api as smt\n",
    "import statsmodels.api as sm\n",
    "import scipy.stats as scs\n",
    "from scipy.optimize import minimize\n",
    "\n",
    "\n",
    "from pykalman import KalmanFilter\n",
    "\n",
    "from plotly.offline import download_plotlyjs, init_notebook_mode, plot, iplot\n",
    "from plotly import graph_objs as go\n",
    "init_notebook_mode(connected = True)\n",
    "\n",
    "from sklearn.model_selection import TimeSeriesSplit\n",
    "\n",
    "from scipy import integrate\n",
    "\n",
    "from numpy import array, arange, abs as np_abs\n",
    "from numpy.fft import rfft, rfftfreq\n",
    "\n",
    "import stldecompose\n",
    "\n",
    "plt.rcParams['figure.figsize'] = (10, 8)"
   ]
  },
  {
   "cell_type": "code",
   "execution_count": 2,
   "metadata": {
    "collapsed": true
   },
   "outputs": [],
   "source": [
    "def plotly_df(df, title = ''):\n",
    "    data = []\n",
    "    column = 'cpu'\n",
    "    trace = go.Scatter(\n",
    "        x = df.index,\n",
    "        y = df.values,\n",
    "        mode = 'lines',\n",
    "        name = column\n",
    "    )\n",
    "    data.append(trace)\n",
    "\n",
    "    layout = dict(title = title)\n",
    "    fig = dict(data = data, layout = layout)\n",
    "    iplot(fig, show_link=False)"
   ]
  },
  {
   "cell_type": "code",
   "execution_count": 3,
   "metadata": {
    "collapsed": true
   },
   "outputs": [],
   "source": [
    "def load_files_from_folder(files_name, col_name, root='./../Downloads/ciscoSwitch/attributes/'):\n",
    "    datas = []\n",
    "    for file in os.listdir(root):\n",
    "        if os.path.isdir(os.path.join(root, file)):\n",
    "            ip = file\n",
    "            for fl in os.listdir(os.path.join(root, file)):\n",
    "                cols = ['timestamp', col_name]\n",
    "\n",
    "                df = pd.read_csv(\n",
    "                    os.path.join(root,file,fl),\n",
    "                    sep=',',\n",
    "                    encoding='utf-8',\n",
    "                    dtype='str',\n",
    "                    names=cols\n",
    "                )\n",
    "                df['ip'] = ip\n",
    "                datas.append(df)\n",
    "    return pd.concat(datas, ignore_index=True, axis=0)"
   ]
  },
  {
   "cell_type": "code",
   "execution_count": 4,
   "metadata": {
    "collapsed": true
   },
   "outputs": [],
   "source": [
    "def split_date_and_set_week(df, col_name):\n",
    "    mapping = {0:'mon', 1:'tue', 2:'wed', 3:'thu', 4:'fri', 5:'sat', 6:'sun'}\n",
    "    weeknum_mapping = {\n",
    "        range(1,8):'0',\n",
    "        range(8,15):'1',\n",
    "        range(15,22):'2',\n",
    "        range(22,29):'3',\n",
    "        range(29,33):'4'\n",
    "    }\n",
    "    \n",
    "    def set_weeknum(day):\n",
    "        for k,v in weeknum_mapping.items():\n",
    "            if day in k:\n",
    "                return v\n",
    "    \n",
    "    df.timestamp = df.timestamp.astype(int)\n",
    "    df['date'] = df.timestamp.apply(lambda x: datetime.fromtimestamp(x/1000000))\n",
    "    df['year'] = df.date.apply(lambda x: x.year)\n",
    "    df['month'] = df.date.apply(lambda x: x.month)\n",
    "    df['day'] = df.date.apply(lambda x: x.day)\n",
    "    df['hour'] = df.date.apply(lambda x: x.hour)\n",
    "    df['minute'] = df.date.apply(lambda x: x.minute)\n",
    "    df['second'] = df.date.apply(lambda x: x.second)\n",
    "    df['weekday'] = df.date.apply(lambda x: mapping[x.weekday()])\n",
    "    df['weeknum'] = df.day.apply(set_weeknum)\n",
    "    df['weekend'] = df.weekday.apply(lambda x: 1 if x == 'sat' or x == 'sun' else 0)\n",
    "    df['busy'] = df.hour.apply(lambda x: 1 if 9<=x<18 else 0)\n",
    "    df[col_name] = df[col_name].astype(int)\n",
    "    return df"
   ]
  },
  {
   "cell_type": "code",
   "execution_count": 5,
   "metadata": {
    "collapsed": true
   },
   "outputs": [],
   "source": [
    "df_cpu = load_files_from_folder(files_name='cpuUtil', col_name='cpu')"
   ]
  },
  {
   "cell_type": "code",
   "execution_count": null,
   "metadata": {
    "collapsed": true
   },
   "outputs": [],
   "source": [
    "df_mem = load_files_from_folder(files_name='memUtil', col_name='mem')"
   ]
  },
  {
   "cell_type": "markdown",
   "metadata": {},
   "source": [
    "## проба фильтра Калмана"
   ]
  },
  {
   "cell_type": "code",
   "execution_count": null,
   "metadata": {},
   "outputs": [],
   "source": [
    "c = df_cpu[df_cpu.ip == '10.10.231.2']"
   ]
  },
  {
   "cell_type": "code",
   "execution_count": null,
   "metadata": {
    "collapsed": true
   },
   "outputs": [],
   "source": [
    "c = split_date_and_set_week(c, 'cpu')"
   ]
  },
  {
   "cell_type": "code",
   "execution_count": null,
   "metadata": {},
   "outputs": [],
   "source": [
    "c.head(2)"
   ]
  },
  {
   "cell_type": "code",
   "execution_count": null,
   "metadata": {},
   "outputs": [],
   "source": [
    "s = pd.Series(data=c['cpu'].values, index = c['date'].values)"
   ]
  },
  {
   "cell_type": "markdown",
   "metadata": {},
   "source": [
    "### через pykalman"
   ]
  },
  {
   "cell_type": "code",
   "execution_count": null,
   "metadata": {},
   "outputs": [],
   "source": [
    "kf = KalmanFilter(n_dim_state=2)\n",
    "kk = kf.em(X=s.index.values, y=s.values, n_iter=30)"
   ]
  },
  {
   "cell_type": "code",
   "execution_count": null,
   "metadata": {},
   "outputs": [],
   "source": [
    "filtered_state_estimates = kk.filter(s.values)[0]\n",
    "filtered_state_smoothed = kk.smooth(s.values)[0]"
   ]
  },
  {
   "cell_type": "code",
   "execution_count": null,
   "metadata": {},
   "outputs": [],
   "source": [
    "filtered = filtered_state_estimates[:,0]\n",
    "smoothed = filtered_state_smoothed[:,0]"
   ]
  },
  {
   "cell_type": "code",
   "execution_count": null,
   "metadata": {},
   "outputs": [],
   "source": [
    "smoothed[:5]"
   ]
  },
  {
   "cell_type": "code",
   "execution_count": null,
   "metadata": {},
   "outputs": [],
   "source": [
    "s.index[:5]"
   ]
  },
  {
   "cell_type": "code",
   "execution_count": null,
   "metadata": {},
   "outputs": [],
   "source": [
    "ss = pd.Series(data=s.index.astype(int).values)\n",
    "pd.Series(data=smoothed, index=s.index.values)[20:800].plot(label='kalman')\n",
    "# plt.plot(s[100:500].values, label='real')\n",
    "# plt.legend()"
   ]
  },
  {
   "cell_type": "code",
   "execution_count": null,
   "metadata": {
    "collapsed": true
   },
   "outputs": [],
   "source": [
    "help(KalmanFilter)"
   ]
  },
  {
   "cell_type": "markdown",
   "metadata": {},
   "source": [
    "### через scipy и велосипед"
   ]
  },
  {
   "cell_type": "code",
   "execution_count": null,
   "metadata": {},
   "outputs": [],
   "source": [
    "# intial parameters\n",
    "n_iter = s.shape[0]\n",
    "sz = (n_iter,) # size of array\n",
    "# x = -0.37727 # truth value (typo in example at top of p. 13 calls this z)\n",
    "\n",
    "z = s.values#numpy.random.normal(x,0.1,size=sz) # observations (normal about x, sigma=0.1)\n",
    "\n",
    "Q = 1e-5 # process variance\n",
    "\n",
    "# allocate space for arrays\n",
    "xhat=numpy.zeros(sz)      # a posteri estimate of x\n",
    "P=numpy.zeros(sz)         # a posteri error estimate\n",
    "xhatminus=numpy.zeros(sz) # a priori estimate of x\n",
    "Pminus=numpy.zeros(sz)    # a priori error estimate\n",
    "K=numpy.zeros(sz)         # gain or blending factor\n",
    "\n",
    "R = 0.1**2 # estimate of measurement variance, change to see effect\n",
    "\n",
    "# intial guesses\n",
    "xhat[0] = 0.0\n",
    "P[0] = 1.0\n",
    "\n",
    "for k in range(1,n_iter):\n",
    "    # time update\n",
    "    xhatminus[k] = xhat[k-1]\n",
    "    Pminus[k] = P[k-1]+Q\n",
    "    \n",
    "    # measurement update\n",
    "    K[k] = Pminus[k]/( Pminus[k]+R )\n",
    "    xhat[k] = xhatminus[k]+K[k]*(z[k]-xhatminus[k])\n",
    "    P[k] = (1-K[k])*Pminus[k]\n",
    "\n",
    "pylab.figure()\n",
    "pylab.plot(z,'k+',label='noisy measurements')\n",
    "pylab.plot(xhat,'b-',label='a posteri estimate')\n",
    "pylab.axhline(x,color='g',label='truth value')\n",
    "pylab.legend()\n",
    "pylab.xlabel('Iteration')\n",
    "pylab.ylabel('Voltage')\n",
    "\n",
    "pylab.figure()\n",
    "valid_iter = range(1,n_iter) # Pminus not valid at step 0\n",
    "pylab.plot(valid_iter,Pminus[valid_iter],label='a priori error estimate')\n",
    "pylab.xlabel('Iteration')\n",
    "pylab.ylabel('$(Voltage)^2$')\n",
    "pylab.setp(pylab.gca(),'ylim',[0,.01])\n"
   ]
  },
  {
   "cell_type": "markdown",
   "metadata": {},
   "source": [
    "## выделим части из даты в данных"
   ]
  },
  {
   "cell_type": "code",
   "execution_count": 6,
   "metadata": {
    "collapsed": true
   },
   "outputs": [],
   "source": [
    "df_cpu = split_date_and_set_week(df_cpu, 'cpu')"
   ]
  },
  {
   "cell_type": "code",
   "execution_count": 7,
   "metadata": {},
   "outputs": [
    {
     "data": {
      "text/html": [
       "<div>\n",
       "<style scoped>\n",
       "    .dataframe tbody tr th:only-of-type {\n",
       "        vertical-align: middle;\n",
       "    }\n",
       "\n",
       "    .dataframe tbody tr th {\n",
       "        vertical-align: top;\n",
       "    }\n",
       "\n",
       "    .dataframe thead th {\n",
       "        text-align: right;\n",
       "    }\n",
       "</style>\n",
       "<table border=\"1\" class=\"dataframe\">\n",
       "  <thead>\n",
       "    <tr style=\"text-align: right;\">\n",
       "      <th></th>\n",
       "      <th>timestamp</th>\n",
       "      <th>cpu</th>\n",
       "      <th>ip</th>\n",
       "      <th>date</th>\n",
       "      <th>year</th>\n",
       "      <th>month</th>\n",
       "      <th>day</th>\n",
       "      <th>hour</th>\n",
       "      <th>minute</th>\n",
       "      <th>second</th>\n",
       "      <th>weekday</th>\n",
       "      <th>weeknum</th>\n",
       "      <th>weekend</th>\n",
       "      <th>busy</th>\n",
       "    </tr>\n",
       "  </thead>\n",
       "  <tbody>\n",
       "    <tr>\n",
       "      <th>0</th>\n",
       "      <td>1506805227529853</td>\n",
       "      <td>19</td>\n",
       "      <td>10.10.245.12</td>\n",
       "      <td>2017-10-01 00:00:27.529853</td>\n",
       "      <td>2017</td>\n",
       "      <td>10</td>\n",
       "      <td>1</td>\n",
       "      <td>0</td>\n",
       "      <td>0</td>\n",
       "      <td>27</td>\n",
       "      <td>sun</td>\n",
       "      <td>0</td>\n",
       "      <td>1</td>\n",
       "      <td>0</td>\n",
       "    </tr>\n",
       "    <tr>\n",
       "      <th>1</th>\n",
       "      <td>1506805527536264</td>\n",
       "      <td>18</td>\n",
       "      <td>10.10.245.12</td>\n",
       "      <td>2017-10-01 00:05:27.536264</td>\n",
       "      <td>2017</td>\n",
       "      <td>10</td>\n",
       "      <td>1</td>\n",
       "      <td>0</td>\n",
       "      <td>5</td>\n",
       "      <td>27</td>\n",
       "      <td>sun</td>\n",
       "      <td>0</td>\n",
       "      <td>1</td>\n",
       "      <td>0</td>\n",
       "    </tr>\n",
       "    <tr>\n",
       "      <th>2</th>\n",
       "      <td>1506805827551572</td>\n",
       "      <td>19</td>\n",
       "      <td>10.10.245.12</td>\n",
       "      <td>2017-10-01 00:10:27.551572</td>\n",
       "      <td>2017</td>\n",
       "      <td>10</td>\n",
       "      <td>1</td>\n",
       "      <td>0</td>\n",
       "      <td>10</td>\n",
       "      <td>27</td>\n",
       "      <td>sun</td>\n",
       "      <td>0</td>\n",
       "      <td>1</td>\n",
       "      <td>0</td>\n",
       "    </tr>\n",
       "    <tr>\n",
       "      <th>3</th>\n",
       "      <td>1506806127617002</td>\n",
       "      <td>18</td>\n",
       "      <td>10.10.245.12</td>\n",
       "      <td>2017-10-01 00:15:27.617002</td>\n",
       "      <td>2017</td>\n",
       "      <td>10</td>\n",
       "      <td>1</td>\n",
       "      <td>0</td>\n",
       "      <td>15</td>\n",
       "      <td>27</td>\n",
       "      <td>sun</td>\n",
       "      <td>0</td>\n",
       "      <td>1</td>\n",
       "      <td>0</td>\n",
       "    </tr>\n",
       "    <tr>\n",
       "      <th>4</th>\n",
       "      <td>1506809427715955</td>\n",
       "      <td>19</td>\n",
       "      <td>10.10.245.12</td>\n",
       "      <td>2017-10-01 01:10:27.715955</td>\n",
       "      <td>2017</td>\n",
       "      <td>10</td>\n",
       "      <td>1</td>\n",
       "      <td>1</td>\n",
       "      <td>10</td>\n",
       "      <td>27</td>\n",
       "      <td>sun</td>\n",
       "      <td>0</td>\n",
       "      <td>1</td>\n",
       "      <td>0</td>\n",
       "    </tr>\n",
       "  </tbody>\n",
       "</table>\n",
       "</div>"
      ],
      "text/plain": [
       "          timestamp  cpu            ip                       date  year  \\\n",
       "0  1506805227529853   19  10.10.245.12 2017-10-01 00:00:27.529853  2017   \n",
       "1  1506805527536264   18  10.10.245.12 2017-10-01 00:05:27.536264  2017   \n",
       "2  1506805827551572   19  10.10.245.12 2017-10-01 00:10:27.551572  2017   \n",
       "3  1506806127617002   18  10.10.245.12 2017-10-01 00:15:27.617002  2017   \n",
       "4  1506809427715955   19  10.10.245.12 2017-10-01 01:10:27.715955  2017   \n",
       "\n",
       "   month  day  hour  minute  second weekday weeknum  weekend  busy  \n",
       "0     10    1     0       0      27     sun       0        1     0  \n",
       "1     10    1     0       5      27     sun       0        1     0  \n",
       "2     10    1     0      10      27     sun       0        1     0  \n",
       "3     10    1     0      15      27     sun       0        1     0  \n",
       "4     10    1     1      10      27     sun       0        1     0  "
      ]
     },
     "execution_count": 7,
     "metadata": {},
     "output_type": "execute_result"
    }
   ],
   "source": [
    "df_cpu.head()"
   ]
  },
  {
   "cell_type": "markdown",
   "metadata": {},
   "source": [
    "### Посмотрим на количество измерений и уникальность значений в измерениях"
   ]
  },
  {
   "cell_type": "code",
   "execution_count": null,
   "metadata": {
    "collapsed": true
   },
   "outputs": [],
   "source": [
    "ip = []\n",
    "n = []\n",
    "nunique = []\n",
    "for k,v in df_cpu.groupby(['ip']):\n",
    "    ip.append(k)\n",
    "    n.append(v['timestamp'].count())\n",
    "    nunique.append(v['cpu'].unique().shape[0])\n",
    "    \n",
    "unique_stat = pd.DataFrame()\n",
    "unique_stat['ip'] = ip\n",
    "unique_stat['n'] = n\n",
    "unique_stat['nunique'] = nunique"
   ]
  },
  {
   "cell_type": "code",
   "execution_count": null,
   "metadata": {},
   "outputs": [],
   "source": [
    "plt.figure(figsize=(10,5))\n",
    "plt.title(u'Распределение уникальных значений')\n",
    "sns.distplot(unique_stat['nunique'], bins=20)\n",
    "median = unique_stat['nunique'].median()\n",
    "plt.axvline(median, linestyle='--', color='g', label='median = {}'.format(median))\n",
    "mean = unique_stat['nunique'].mean()\n",
    "plt.axvline(mean, linestyle='--', color='y', label='mean = {}'.format(round(mean,2)))\n",
    "moda = np.argmax(np.bincount(unique_stat['nunique']))\n",
    "plt.axvline(moda, linestyle='--', color='r', label='moda = {}'.format(moda))\n",
    "plt.legend()"
   ]
  },
  {
   "cell_type": "code",
   "execution_count": null,
   "metadata": {},
   "outputs": [],
   "source": [
    "plt.figure(figsize=(10,5))\n",
    "plt.title(u'Распределение числа измерений')\n",
    "sns.distplot(unique_stat['n'], bins=20)\n",
    "median = unique_stat['n'].median()\n",
    "plt.axvline(median, linestyle='--', color='g', label='median = {}'.format(median))\n",
    "mean = unique_stat['n'].mean()\n",
    "plt.axvline(mean, linestyle='--', color='y', label='mean = {}'.format(round(mean,2)))\n",
    "moda = np.argmax(np.bincount(unique_stat['n']))\n",
    "plt.axvline(moda, linestyle='--', color='r', label='moda = {}'.format(moda))\n",
    "plt.legend()"
   ]
  },
  {
   "cell_type": "code",
   "execution_count": null,
   "metadata": {},
   "outputs": [],
   "source": [
    "print(unique_stat['nunique'].median())\n",
    "print(unique_stat['nunique'].mean())\n",
    "print()\n",
    "print(unique_stat['n'].median())\n",
    "print(unique_stat['n'].mean())\n",
    "\n",
    "clazz = (unique_stat['n'] >= unique_stat['n'].median()) & (unique_stat['nunique'] >= unique_stat['nunique'].median())\n",
    "unn = unique_stat.copy(deep=True)\n",
    "unn['class'] = clazz.astype(int).values\n",
    "\n",
    "# plt.figure(figsize=(17,8))\n",
    "sns.lmplot(data=unn, x='n', y='nunique', hue='class', size=8, aspect=2, legend=False, scatter=True, logistic=False)\n",
    "plt.xlabel(u'Количество измерений')\n",
    "plt.ylabel(u'Количество уникальных значений в измерениях')\n",
    "plt.axvline(unique_stat['n'].median(), color='g', linestyle='--', label='n median')\n",
    "plt.axhline(unique_stat['nunique'].median(), color='g', linestyle='--', label='nunique median')\n",
    "plt.legend()"
   ]
  },
  {
   "cell_type": "markdown",
   "metadata": {},
   "source": [
    "### выделим один произвольный айпи. Сделаем timeSeries для тестов"
   ]
  },
  {
   "cell_type": "code",
   "execution_count": null,
   "metadata": {
    "collapsed": true
   },
   "outputs": [],
   "source": [
    "def create_one_ts(df, ip, col):\n",
    "    return pd.Series(\n",
    "    df.loc[df.ip == ip, col].values, \n",
    "    index=df.loc[df.ip == ip, 'date'].values)"
   ]
  },
  {
   "cell_type": "code",
   "execution_count": null,
   "metadata": {
    "collapsed": true
   },
   "outputs": [],
   "source": [
    "df_cpu.ip.unique()[:5]"
   ]
  },
  {
   "cell_type": "code",
   "execution_count": null,
   "metadata": {
    "collapsed": true
   },
   "outputs": [],
   "source": [
    "ip = '10.10.245.12'\n",
    "ts_cpu = create_one_ts(df_cpu, ip, 'cpu')"
   ]
  },
  {
   "cell_type": "code",
   "execution_count": null,
   "metadata": {
    "collapsed": true
   },
   "outputs": [],
   "source": [
    "ts_cpu.plot(figsize=(17,8))"
   ]
  },
  {
   "cell_type": "markdown",
   "metadata": {},
   "source": [
    "## Надо попробовать интерполировать ряд на постоянные промежутки"
   ]
  },
  {
   "cell_type": "markdown",
   "metadata": {},
   "source": [
    "### посмотрим на что способна библиотека traces"
   ]
  },
  {
   "cell_type": "markdown",
   "metadata": {},
   "source": [
    "resample на DataFrame лагал, а мб просто лень было разбираться, поэтому traces отлично подошла на роль интерполяции ряда"
   ]
  },
  {
   "cell_type": "code",
   "execution_count": null,
   "metadata": {
    "collapsed": true
   },
   "outputs": [],
   "source": [
    "def create_traces_ts(ts_cpu):\n",
    "    import datetime as dd\n",
    "    ii = ts_cpu.index\n",
    "    return traces.TimeSeries([\n",
    "        (\n",
    "            dd.datetime(ii[i].year, ii[i].month, ii[i].day, ii[i].hour, ii[i].minute, ii[i].second), \n",
    "            ts_cpu[i]\n",
    "        ) for i in range(ts_cpu.shape[0])])\n",
    "\n",
    "def interpolate_ts(ts, interval=30):\n",
    "    import datetime as dd\n",
    "    ii = ts.index\n",
    "    ts = create_traces_ts(ts)\n",
    "    begin = ii[0]\n",
    "    end = ii[-1]\n",
    "    ss = ts.sample(\n",
    "        sampling_period=dd.timedelta(minutes=interval),\n",
    "        start=dd.datetime(begin.year, begin.month, begin.day, begin.hour),\n",
    "        end=dd.datetime(end.year, end.month, end.day, end.hour),\n",
    "        interpolate='linear',\n",
    "    )\n",
    "    return pd.Series(data=[i[1] for i in ss] , index=[i[0] for i in ss])"
   ]
  },
  {
   "cell_type": "code",
   "execution_count": null,
   "metadata": {
    "collapsed": true
   },
   "outputs": [],
   "source": [
    "ts_cpu_inter = interpolate_ts(ts_cpu,1)"
   ]
  },
  {
   "cell_type": "code",
   "execution_count": null,
   "metadata": {
    "collapsed": true
   },
   "outputs": [],
   "source": [
    "ts_cpu_inter.plot(figsize=(15,8))"
   ]
  },
  {
   "cell_type": "markdown",
   "metadata": {},
   "source": [
    "### Если попробовать ARIMA(2,1,2)?"
   ]
  },
  {
   "cell_type": "code",
   "execution_count": null,
   "metadata": {
    "collapsed": true
   },
   "outputs": [],
   "source": [
    "ts_cpu.head()"
   ]
  },
  {
   "cell_type": "code",
   "execution_count": null,
   "metadata": {
    "collapsed": true
   },
   "outputs": [],
   "source": [
    "ts = ts_cpu.resample('5T')"
   ]
  },
  {
   "cell_type": "code",
   "execution_count": null,
   "metadata": {
    "collapsed": true
   },
   "outputs": [],
   "source": [
    "ts_is_null_index = ts.isnull()"
   ]
  },
  {
   "cell_type": "code",
   "execution_count": null,
   "metadata": {
    "collapsed": true
   },
   "outputs": [],
   "source": [
    "counter = 0\n",
    "new_ts = ts.values\n",
    "print(new_ts[:4])\n",
    "for ix, i in enumerate(ts_is_null_index):\n",
    "    if i:\n",
    "        if counter < 4:\n",
    "            new_ts[ix] = new_ts[ix-1]\n",
    "            counter += 1 \n",
    "        else:\n",
    "            data = pd.DataFrame()\n",
    "            data['cpu'] = new_ts[:ix]\n",
    "            data.index = ts.index.values[:ix]\n",
    "\n",
    "            model = pf.ARIMA(data=data, ar=2, ma=2, target='cpu', family=pf.Normal())\n",
    "            x = model.fit('MLE')\n",
    "            new_ts[ix] = model.predict(1).values[0]"
   ]
  },
  {
   "cell_type": "code",
   "execution_count": null,
   "metadata": {
    "collapsed": true
   },
   "outputs": [],
   "source": [
    "ts.head()"
   ]
  },
  {
   "cell_type": "code",
   "execution_count": null,
   "metadata": {
    "collapsed": true
   },
   "outputs": [],
   "source": [
    "data = pd.DataFrame()\n",
    "data['cpu'] = ts_cpu_inter.values\n",
    "data.index = ts_cpu_inter.index.values"
   ]
  },
  {
   "cell_type": "code",
   "execution_count": null,
   "metadata": {
    "collapsed": true
   },
   "outputs": [],
   "source": []
  },
  {
   "cell_type": "code",
   "execution_count": null,
   "metadata": {
    "collapsed": true
   },
   "outputs": [],
   "source": [
    "model = pf.ARIMA(data=data, ar=2, ma=2,integ=1, target='cpu', family=pf.Normal())"
   ]
  },
  {
   "cell_type": "code",
   "execution_count": null,
   "metadata": {
    "collapsed": true
   },
   "outputs": [],
   "source": [
    "ts_cpu_inter.plot(figsize=(17,8))"
   ]
  },
  {
   "cell_type": "code",
   "execution_count": null,
   "metadata": {
    "collapsed": true
   },
   "outputs": [],
   "source": [
    "x = model.fit('MLE')"
   ]
  },
  {
   "cell_type": "code",
   "execution_count": null,
   "metadata": {
    "collapsed": true
   },
   "outputs": [],
   "source": [
    "x.summary()"
   ]
  },
  {
   "cell_type": "code",
   "execution_count": null,
   "metadata": {
    "collapsed": true
   },
   "outputs": [],
   "source": [
    "model.plot_fit(figsize=(15,10))"
   ]
  },
  {
   "cell_type": "code",
   "execution_count": null,
   "metadata": {
    "collapsed": true
   },
   "outputs": [],
   "source": []
  },
  {
   "cell_type": "markdown",
   "metadata": {},
   "source": [
    "### stl decomposition"
   ]
  },
  {
   "cell_type": "code",
   "execution_count": null,
   "metadata": {
    "collapsed": true
   },
   "outputs": [],
   "source": [
    "def plot_stl(ts):\n",
    "    size = (15,7)\n",
    "    stl_decomp = stldecompose.decompose(ts)\n",
    "    plt.figure(figsize=size)\n",
    "    plt.title('seasonal')\n",
    "    stl_decomp.seasonal.plot()\n",
    "    plt.figure(figsize=size)\n",
    "    plt.title('trend')\n",
    "    stl_decomp.trend.plot()\n",
    "    plt.figure(figsize=size)\n",
    "    plt.title('residual')\n",
    "    stl_decomp.resid.plot()"
   ]
  },
  {
   "cell_type": "code",
   "execution_count": null,
   "metadata": {},
   "outputs": [],
   "source": [
    "cpu_ts[:1000].plot()"
   ]
  },
  {
   "cell_type": "code",
   "execution_count": null,
   "metadata": {},
   "outputs": [],
   "source": [
    "plot_stl(cpu_ts[:1000])"
   ]
  },
  {
   "cell_type": "markdown",
   "metadata": {
    "collapsed": true
   },
   "source": [
    "### Если посмотреть на процент значений больше или меньше определенных квантилей по всем устройствам"
   ]
  },
  {
   "cell_type": "markdown",
   "metadata": {},
   "source": [
    "#### возьмем для начала процент значений по устройствам больше квантиля в 75 процентов"
   ]
  },
  {
   "cell_type": "code",
   "execution_count": null,
   "metadata": {
    "collapsed": true
   },
   "outputs": [],
   "source": [
    "ix = []\n",
    "val = []\n",
    "for k, v in df_cpu.groupby(['ip']):\n",
    "    vv = v.loc[v['cpu'] > v['cpu'].quantile(.75), 'cpu'].count()/v['cpu'].count()*100\n",
    "    ix.append(k)\n",
    "    val.append(vv)\n",
    "    \n",
    "cpu_quantile_75 = pd.Series(data=val, index=ix)\n",
    "\n",
    "plt.figure(figsize=(17,8))\n",
    "plt.title(u'Процент значений больше квантиля в .75 по каждому устройству на всем времени съема показаний')\n",
    "cpu_quantile_75.sort_values().plot(label=u'значения в процентах')\n",
    "plt.grid(True)\n",
    "plt.axhline(y=cpu_quantile_75.mean()+cpu_quantile_75.std(), color='green', linestyle='--')\n",
    "plt.axhline(y=cpu_quantile_75.mean()-cpu_quantile_75.std(), color='green', linestyle='--')\n",
    "\n",
    "cc = cpu_quantile_75.count()\n",
    "threshold = cpu_quantile_75.mean()+cpu_quantile_75.std()\n",
    "plt.axvline(x =cc -(cpu_quantile_75.sort_values() > threshold).sum(),\n",
    "        linestyle='--')\n",
    "\n",
    "plt.legend()\n",
    "\n",
    "cc -(cpu_quantile_75.sort_values() > threshold).sum()"
   ]
  },
  {
   "cell_type": "code",
   "execution_count": null,
   "metadata": {
    "collapsed": true
   },
   "outputs": [],
   "source": [
    "ix = []\n",
    "val = []\n",
    "for k, v in df_cpu.groupby(['ip']):\n",
    "    vv = v.loc[v['cpu'] < v['cpu'].quantile(.25), 'cpu'].count()/v['cpu'].count()*100\n",
    "    ix.append(k)\n",
    "    val.append(vv)\n",
    "    \n",
    "cpu_quantile_25 = pd.Series(data=val, index=ix)\n",
    "\n",
    "\n",
    "plt.figure(figsize=(17,8))\n",
    "plt.title(u'Процент значений меньше квантиля в .25 по каждому устройству на всем времени съема показаний')\n",
    "cpu_quantile_25.sort_values().plot(label=u'значения в процентах')\n",
    "plt.grid(True)\n",
    "plt.axhline(y=cpu_quantile_25.mean()+cpu_quantile_25.std(), color='green', linestyle='--')\n",
    "plt.axhline(y=cpu_quantile_25.mean()-cpu_quantile_25.std(), color='green', linestyle='--')\n",
    "cc = cpu_quantile_25.count()\n",
    "threshold = cpu_quantile_25.mean()+cpu_quantile_25.std()\n",
    "plt.axvline(x =cc -(cpu_quantile_25.sort_values() > threshold).sum(),\n",
    "        linestyle='--')\n",
    "plt.legend()\n",
    "\n",
    "cc -(cpu_quantile_25.sort_values() > threshold).sum()"
   ]
  },
  {
   "cell_type": "code",
   "execution_count": null,
   "metadata": {
    "collapsed": true
   },
   "outputs": [],
   "source": [
    "cpu_quantile_25[:4]"
   ]
  },
  {
   "cell_type": "code",
   "execution_count": null,
   "metadata": {
    "collapsed": true
   },
   "outputs": [],
   "source": [
    "cpu_quantile_75[:4]"
   ]
  },
  {
   "cell_type": "code",
   "execution_count": null,
   "metadata": {
    "collapsed": true
   },
   "outputs": [],
   "source": [
    "dd = pd.DataFrame()\n",
    "dd['< quantile(.25), %'] = cpu_quantile_25.values\n",
    "dd['> quantile(.75), %'] = cpu_quantile_75.values"
   ]
  },
  {
   "cell_type": "code",
   "execution_count": null,
   "metadata": {
    "collapsed": true
   },
   "outputs": [],
   "source": [
    "sns.jointplot(data=dd, x='< quantile(.25), %', y='> quantile(.75), %', kind='kde', size=8, aspect=2)"
   ]
  },
  {
   "cell_type": "code",
   "execution_count": null,
   "metadata": {
    "collapsed": true
   },
   "outputs": [],
   "source": [
    "quantiles = pd.DataFrame()\n",
    "quantiles['q25'] = cpu_quantile_25.values\n",
    "quantiles['q75'] = cpu_quantile_75.values\n",
    "quantiles['ip'] = cpu_quantile_25.index"
   ]
  },
  {
   "cell_type": "code",
   "execution_count": null,
   "metadata": {
    "collapsed": true
   },
   "outputs": [],
   "source": [
    "sns.regplot(data=quantiles, x='q25', y='q75')"
   ]
  },
  {
   "cell_type": "markdown",
   "metadata": {},
   "source": [
    "#  Посмотрим на аггрегацию данных"
   ]
  },
  {
   "cell_type": "code",
   "execution_count": null,
   "metadata": {},
   "outputs": [],
   "source": [
    "unn.head()"
   ]
  },
  {
   "cell_type": "code",
   "execution_count": null,
   "metadata": {
    "collapsed": true
   },
   "outputs": [],
   "source": [
    "valid_ip = unn[unn['class']==1]"
   ]
  },
  {
   "cell_type": "code",
   "execution_count": null,
   "metadata": {
    "collapsed": true
   },
   "outputs": [],
   "source": [
    "ipps = valid_ip.sort_values(by='nunique', ascending=False).ip.values[:5]"
   ]
  },
  {
   "cell_type": "code",
   "execution_count": null,
   "metadata": {
    "collapsed": true
   },
   "outputs": [],
   "source": [
    "datas = {\n",
    "    'cpuUtil':[],\n",
    "    'memUtil':[],\n",
    "    'inUtil':[],\n",
    "    'outUtil':[]\n",
    "}\n",
    "\n",
    "def load_data_by_ip(root = './../../anton/Desktop/rostel/ciscoSwitch/', ips='123'):\n",
    "    global datas\n",
    "    for file in os.listdir(root):\n",
    "        ip_folder = False\n",
    "        try:\n",
    "            mb_ip = file.split('.')\n",
    "            if len(mb_ip) == 4 and file in ips:\n",
    "                ip_folder = True\n",
    "            else:\n",
    "                ip_folder = False\n",
    "        except:\n",
    "            pass\n",
    "        if ip_folder and os.path.isdir(os.path.join(root, file)):\n",
    "            new_root = os.path.join(root, file)\n",
    "            for f in os.listdir(new_root):\n",
    "                for k, v in datas.items():\n",
    "                    if k in f:\n",
    "                        df = pd.read_csv(\n",
    "                            os.path.join(new_root, f),\n",
    "                            sep=',',\n",
    "                            encoding='utf-8',\n",
    "                            dtype='str',\n",
    "                            names = ['timestamp', 'val']\n",
    "                        )\n",
    "                        df['ip'] = file\n",
    "                        v.append(df)\n",
    "        else:\n",
    "            if os.path.isdir(os.path.join(root, file)):\n",
    "                load_data_by_ip(os.path.join(root, file), ips)"
   ]
  },
  {
   "cell_type": "code",
   "execution_count": null,
   "metadata": {
    "collapsed": true
   },
   "outputs": [],
   "source": [
    "load_data_by_ip(\n",
    "    root='./../../anton/Desktop/rostel/ciscoSwitch/',\n",
    "    ips=valid_ip.sort_values(by='nunique', ascending=False).ip.values[:5]\n",
    ")"
   ]
  },
  {
   "cell_type": "code",
   "execution_count": null,
   "metadata": {
    "collapsed": true
   },
   "outputs": [],
   "source": [
    "def prep_df():\n",
    "    global datas\n",
    "    mapping = {'cpuUtil':'cpu', 'memUtil':'mem', 'inUtil':'in', 'outUtil':'out'}\n",
    "    dfs = {}\n",
    "    for k,v in datas.items():\n",
    "        tmp_df = pd.concat(v, axis=0, ignore_index=True)\n",
    "        tmp_df.columns = ['timestamp', mapping[k], 'ip']\n",
    "        dfs[k] = tmp_df\n",
    "    return dfs"
   ]
  },
  {
   "cell_type": "code",
   "execution_count": null,
   "metadata": {
    "collapsed": true
   },
   "outputs": [],
   "source": [
    "df = prep_df()"
   ]
  },
  {
   "cell_type": "code",
   "execution_count": null,
   "metadata": {
    "collapsed": true
   },
   "outputs": [],
   "source": [
    "del datas"
   ]
  },
  {
   "cell_type": "code",
   "execution_count": null,
   "metadata": {},
   "outputs": [],
   "source": [
    "for k,v in df.items():\n",
    "    print(k)\n",
    "    print(v['ip'].unique())"
   ]
  },
  {
   "cell_type": "code",
   "execution_count": null,
   "metadata": {
    "collapsed": true
   },
   "outputs": [],
   "source": [
    "def get_dfs(ip, df):\n",
    "    cpu = df['cpuUtil']\n",
    "    cpu = cpu[cpu.ip == ip]\n",
    "    cpu['cpu'] = cpu['cpu'].astype(int)\n",
    "\n",
    "    mem = df['memUtil']\n",
    "    mem = mem[mem.ip == ip]\n",
    "    mem['mem'] = mem['mem'].astype(int)\n",
    "\n",
    "    inn = df['inUtil']\n",
    "    inn = inn[inn.ip == ip]\n",
    "    inn['in'] = inn['in'].astype(float)\n",
    "\n",
    "    out = df['outUtil']\n",
    "    out = out[out.ip == ip]\n",
    "    out['out'] = out['out'].astype(float)\n",
    "    \n",
    "    return cpu, mem, inn, out"
   ]
  },
  {
   "cell_type": "code",
   "execution_count": null,
   "metadata": {},
   "outputs": [],
   "source": [
    "valid_ip.sort_values(by='nunique', ascending=False).ip.values[:5]"
   ]
  },
  {
   "cell_type": "code",
   "execution_count": null,
   "metadata": {
    "collapsed": true
   },
   "outputs": [],
   "source": [
    "def split_time(cpu):\n",
    "    cpu['datestamp'] = cpu.timestamp.astype(int).apply(lambda x: datetime.fromtimestamp(x/1000000))\n",
    "    cpu['date'] = cpu['datestamp'].astype(str).apply(lambda x: x.split(' ')[0])\n",
    "    cpu['time'] = cpu['datestamp'].astype(str).apply(lambda x: x.split(' ')[1])\n",
    "    cpu['hour'] = cpu.datestamp.apply(lambda x: x.hour)\n",
    "    cpu['minute'] = cpu.datestamp.apply(lambda x: x.minute)\n",
    "    cpu['h:m'] = cpu['time'].apply(lambda x: ':'.join(x.split('.')[0].split(':')[:2]))\n",
    "    \n",
    "    return cpu"
   ]
  },
  {
   "cell_type": "code",
   "execution_count": null,
   "metadata": {
    "collapsed": true
   },
   "outputs": [],
   "source": [
    "cpus = []\n",
    "# mems = []\n",
    "ins = []\n",
    "outs = []\n",
    "for ip in valid_ip.sort_values(by='nunique', ascending=False).ip.values[:5]:\n",
    "    cpu, mem, inn, out = get_dfs(ip,df)\n",
    "    cpu = split_time(cpu)\n",
    "    mem = split_time(mem)\n",
    "    inn = split_time(inn)\n",
    "    out = split_time(out)\n",
    "    hour_intersect = set(cpu['hour']) & set(inn['hour']) & set(out['hour'])\n",
    "    date_intersect = set(cpu['date']) & set(inn['date']) & set(out['date'])\n",
    "    c =cpu[(cpu.hour.isin(list(hour_intersect)))&(cpu.date.isin(list(date_intersect)))]\n",
    "    cpus.append(c)\n",
    "    c =inn[(inn.hour.isin(list(hour_intersect)))&(inn.date.isin(list(date_intersect)))]\n",
    "    ins.append(c)\n",
    "    c =out[(out.hour.isin(list(hour_intersect)))&(out.date.isin(list(date_intersect)))]\n",
    "    outs.append(c)"
   ]
  },
  {
   "cell_type": "code",
   "execution_count": null,
   "metadata": {
    "collapsed": true
   },
   "outputs": [],
   "source": [
    "cpus = pd.concat(cpus, axis=0, ignore_index=True)\n",
    "ins = pd.concat(ins, axis=0, ignore_index=True)\n",
    "outs = pd.concat(outs, axis=0, ignore_index=True)"
   ]
  },
  {
   "cell_type": "code",
   "execution_count": null,
   "metadata": {
    "collapsed": true
   },
   "outputs": [],
   "source": [
    "del df"
   ]
  },
  {
   "cell_type": "code",
   "execution_count": null,
   "metadata": {},
   "outputs": [],
   "source": [
    "cpus.head()"
   ]
  },
  {
   "cell_type": "code",
   "execution_count": null,
   "metadata": {
    "collapsed": true
   },
   "outputs": [],
   "source": [
    "def split_date_and_set_week(df, col_name):\n",
    "    mapping = {0:'mon', 1:'tue', 2:'wed', 3:'thu', 4:'fri', 5:'sat', 6:'sun'}\n",
    "    weeknum_mapping = {\n",
    "        range(1,8):'0',\n",
    "        range(8,15):'1',\n",
    "        range(15,22):'2',\n",
    "        range(22,29):'3',\n",
    "        range(29,33):'4'\n",
    "    }\n",
    "    \n",
    "    def set_weeknum(day):\n",
    "        for k,v in weeknum_mapping.items():\n",
    "            if day in k:\n",
    "                return v\n",
    "    \n",
    "    df['year'] = df.datestamp.apply(lambda x: x.year)\n",
    "    df['month'] = df.datestamp.apply(lambda x: x.month)\n",
    "    df['day'] = df.datestamp.apply(lambda x: x.day)\n",
    "    df['second'] = df.datestamp.apply(lambda x: x.second)\n",
    "    df['weekday'] = df.datestamp.apply(lambda x: mapping[x.weekday()])\n",
    "    df['weeknum'] = df.datestamp.apply(set_weeknum)\n",
    "    df['weekend'] = df.datestamp.apply(lambda x: 1 if x == 'sat' or x == 'sun' else 0)\n",
    "    df['busy'] = df.hour.apply(lambda x: 1 if 9<=x<18 else 0)\n",
    "    df[col_name] = df[col_name].astype(int)\n",
    "    return df"
   ]
  },
  {
   "cell_type": "code",
   "execution_count": null,
   "metadata": {
    "collapsed": true
   },
   "outputs": [],
   "source": [
    "cpus = split_date_and_set_week(cpus, 'cpu')"
   ]
  },
  {
   "cell_type": "code",
   "execution_count": null,
   "metadata": {
    "collapsed": true
   },
   "outputs": [],
   "source": [
    "ins = split_date_and_set_week(ins, 'in')"
   ]
  },
  {
   "cell_type": "code",
   "execution_count": null,
   "metadata": {
    "collapsed": true
   },
   "outputs": [],
   "source": [
    "outs = split_date_and_set_week(outs, 'out')"
   ]
  },
  {
   "cell_type": "code",
   "execution_count": null,
   "metadata": {},
   "outputs": [],
   "source": [
    "cpus.ip.unique()"
   ]
  },
  {
   "cell_type": "code",
   "execution_count": null,
   "metadata": {
    "collapsed": true
   },
   "outputs": [],
   "source": [
    "c = cpus[cpus.ip == '10.10.231.2']\n",
    "i = ins[ins.ip == '10.10.231.2']"
   ]
  },
  {
   "cell_type": "code",
   "execution_count": null,
   "metadata": {},
   "outputs": [],
   "source": [
    "plt.plot(c['cpu'])"
   ]
  },
  {
   "cell_type": "code",
   "execution_count": null,
   "metadata": {},
   "outputs": [],
   "source": [
    "i['in'].unique()"
   ]
  },
  {
   "cell_type": "code",
   "execution_count": null,
   "metadata": {},
   "outputs": [],
   "source": [
    "import scipy\n",
    "g = sns.JointGrid(x=c['cpu'], y=i['in'])\n",
    "g = g.plot_joint(plt.scatter, edgecolor=\"white\", color='b', alpha=.4)\n",
    "_ = g.ax_marg_x.hist(c['cpu'], color='r', bins=30, alpha=.2)\n",
    "_ = g.ax_marg_y.hist(i['in'],  orientation=\"horizontal\", bins=30, color='g', alpha=.2)\n",
    "g = g.annotate(scipy.stats.pearsonr)"
   ]
  },
  {
   "cell_type": "code",
   "execution_count": null,
   "metadata": {},
   "outputs": [],
   "source": [
    "c = cpus[cpus.ip == '10.10.231.2']\n",
    "o = outs[outs.ip == '10.10.231.2']"
   ]
  },
  {
   "cell_type": "code",
   "execution_count": null,
   "metadata": {},
   "outputs": [],
   "source": [
    "import scipy\n",
    "g = sns.JointGrid(x=c['cpu'], y=o['out'])\n",
    "g = g.plot_joint(plt.scatter, edgecolor=\"white\", color='b', alpha=.4)\n",
    "_ = g.ax_marg_x.hist(c['cpu'], color='r', bins=30, alpha=.2)\n",
    "_ = g.ax_marg_y.hist(o['out'],  orientation=\"horizontal\", bins=30, color='g', alpha=.2)\n",
    "g = g.annotate(scipy.stats.pearsonr)"
   ]
  },
  {
   "cell_type": "code",
   "execution_count": null,
   "metadata": {
    "collapsed": true
   },
   "outputs": [],
   "source": [
    "i = ins[ins.ip == '10.10.231.2']\n",
    "o = outs[outs.ip == '10.10.231.2']"
   ]
  },
  {
   "cell_type": "code",
   "execution_count": null,
   "metadata": {},
   "outputs": [],
   "source": [
    "g = sns.JointGrid(x=i['in'], y=o['out'])\n",
    "g = g.plot_joint(plt.scatter, edgecolor=\"white\", color='b', alpha=.4)\n",
    "_ = g.ax_marg_x.hist(i['in'], color='r', bins=30, alpha=.2)\n",
    "_ = g.ax_marg_y.hist(o['out'],  orientation=\"horizontal\", bins=30, color='g', alpha=.2)\n",
    "g = g.annotate(scipy.stats.pearsonr)"
   ]
  },
  {
   "cell_type": "code",
   "execution_count": null,
   "metadata": {
    "collapsed": true
   },
   "outputs": [],
   "source": []
  },
  {
   "cell_type": "code",
   "execution_count": null,
   "metadata": {
    "collapsed": true
   },
   "outputs": [],
   "source": [
    "cpu['datestamp'] = cpu.timestamp.astype(int).apply(lambda x: datetime.fromtimestamp(x/1000000))\n",
    "cpu['date'] = cpu['datestamp'].astype(str).apply(lambda x: x.split(' ')[0])\n",
    "cpu['time'] = cpu['datestamp'].astype(str).apply(lambda x: x.split(' ')[1])\n",
    "cpu['hour'] = cpu.datestamp.apply(lambda x: x.hour)\n",
    "cpu['minute'] = cpu.datestamp.apply(lambda x: x.minute)\n",
    "cpu['h:m'] = cpu['time'].apply(lambda x: ':'.join(x.split('.')[0].split(':')[:2]))"
   ]
  },
  {
   "cell_type": "code",
   "execution_count": null,
   "metadata": {},
   "outputs": [],
   "source": [
    "cpu.head()"
   ]
  },
  {
   "cell_type": "code",
   "execution_count": null,
   "metadata": {
    "collapsed": true
   },
   "outputs": [],
   "source": [
    "frequency, power = ast_stats.LombScargle(cpu['timestamp'][:5].astype(int), cpu['cpu'][:5]).autopower()"
   ]
  },
  {
   "cell_type": "code",
   "execution_count": null,
   "metadata": {},
   "outputs": [],
   "source": [
    "rr = (cpu.minute - cpu.minute.shift(1).fillna(0))\n",
    "rr[rr == -55] = 5\n",
    "rr.plot()"
   ]
  },
  {
   "cell_type": "code",
   "execution_count": null,
   "metadata": {},
   "outputs": [],
   "source": [
    "rr.shape[0]"
   ]
  },
  {
   "cell_type": "code",
   "execution_count": null,
   "metadata": {},
   "outputs": [],
   "source": [
    "(rr == 5).sum()"
   ]
  },
  {
   "cell_type": "code",
   "execution_count": null,
   "metadata": {
    "collapsed": true
   },
   "outputs": [],
   "source": [
    "out['datestamp'] = out.timestamp.astype(int).apply(lambda x: datetime.fromtimestamp(x/1000000))\n",
    "out['date'] = out['datestamp'].astype(str).apply(lambda x: x.split(' ')[0])\n",
    "out['time'] = out['datestamp'].astype(str).apply(lambda x: x.split(' ')[1])\n",
    "out['hour'] = out.datestamp.apply(lambda x: x.hour)\n",
    "out['minute'] = out.datestamp.apply(lambda x: x.minute)\n",
    "out['h:m'] = out['time'].apply(lambda x: ':'.join(x.split('.')[0].split(':')[:2]))"
   ]
  },
  {
   "cell_type": "code",
   "execution_count": null,
   "metadata": {},
   "outputs": [],
   "source": [
    "out.head()"
   ]
  },
  {
   "cell_type": "code",
   "execution_count": null,
   "metadata": {},
   "outputs": [],
   "source": [
    "rr = (inn.minute - inn.minute.shift(1).fillna(0))\n",
    "rr[rr == -55] = 5\n",
    "rr.plot()"
   ]
  },
  {
   "cell_type": "code",
   "execution_count": null,
   "metadata": {
    "collapsed": true
   },
   "outputs": [],
   "source": []
  },
  {
   "cell_type": "code",
   "execution_count": null,
   "metadata": {
    "collapsed": true
   },
   "outputs": [],
   "source": [
    "inn['datestamp'] = inn.timestamp.astype(int).apply(lambda x: datetime.fromtimestamp(x/1000000))\n",
    "inn['date'] = inn['datestamp'].astype(str).apply(lambda x: x.split(' ')[0])\n",
    "inn['time'] = inn['datestamp'].astype(str).apply(lambda x: x.split(' ')[1])\n",
    "inn['hour'] = inn.datestamp.apply(lambda x: x.hour)\n",
    "inn['minute'] = inn.datestamp.apply(lambda x: x.minute)\n",
    "inn['h:m'] = inn['time'].apply(lambda x: ':'.join(x.split('.')[0].split(':')[:2]))"
   ]
  },
  {
   "cell_type": "code",
   "execution_count": null,
   "metadata": {},
   "outputs": [],
   "source": [
    "inn.head()"
   ]
  },
  {
   "cell_type": "code",
   "execution_count": null,
   "metadata": {},
   "outputs": [],
   "source": [
    "rr = (inn.minute - inn.minute.shift(1).fillna(0))\n",
    "rr[rr == -55] = 5\n",
    "rr.plot()"
   ]
  },
  {
   "cell_type": "code",
   "execution_count": null,
   "metadata": {},
   "outputs": [],
   "source": [
    "rr.shape[0]"
   ]
  },
  {
   "cell_type": "code",
   "execution_count": null,
   "metadata": {},
   "outputs": [],
   "source": [
    "(rr == 5).sum()"
   ]
  },
  {
   "cell_type": "code",
   "execution_count": null,
   "metadata": {
    "collapsed": true
   },
   "outputs": [],
   "source": [
    "hour_intersect = set(cpu['hour']) & set(inn['hour']) & set(out['hour'])\n",
    "date_intersect = set(cpu['date']) & set(inn['date']) & set(out['date'])"
   ]
  },
  {
   "cell_type": "code",
   "execution_count": null,
   "metadata": {},
   "outputs": [],
   "source": [
    "len(date_intersect)"
   ]
  },
  {
   "cell_type": "code",
   "execution_count": null,
   "metadata": {
    "collapsed": true
   },
   "outputs": [],
   "source": [
    "c = cpu[(cpu.date.isin(list(date_intersect))) & (cpu.hour.isin(list(hour_intersect)))]\n",
    "i = inn[(inn.date.isin(list(date_intersect))) & (inn.hour.isin(list(hour_intersect)))]\n",
    "o = out[(out.date.isin(list(date_intersect))) & (out.hour.isin(list(hour_intersect)))]"
   ]
  },
  {
   "cell_type": "code",
   "execution_count": null,
   "metadata": {},
   "outputs": [],
   "source": [
    "print(c.shape)\n",
    "print(i.shape)\n",
    "print(o.shape)"
   ]
  },
  {
   "cell_type": "code",
   "execution_count": null,
   "metadata": {
    "collapsed": true
   },
   "outputs": [],
   "source": [
    "cpu_ts = pd.Series(data=c['cpu'].values, index=c['datestamp'].values)\n",
    "in_ts = pd.Series(data=i['in'].values, index=i['datestamp'].values)\n",
    "out_ts = pd.Series(data=o['out'].values, index=o['datestamp'].values)"
   ]
  },
  {
   "cell_type": "code",
   "execution_count": null,
   "metadata": {},
   "outputs": [],
   "source": [
    "cpu_ts.plot(figsize=(17,8))\n",
    "in_ts.plot(figsize=(17,8))\n",
    "out_ts.plot(figsize=(17,8))"
   ]
  },
  {
   "cell_type": "code",
   "execution_count": null,
   "metadata": {
    "collapsed": true
   },
   "outputs": [],
   "source": [
    "from sklearn.preprocessing import StandardScaler"
   ]
  },
  {
   "cell_type": "code",
   "execution_count": null,
   "metadata": {
    "collapsed": true
   },
   "outputs": [],
   "source": [
    "std_scaler = StandardScaler()"
   ]
  },
  {
   "cell_type": "code",
   "execution_count": null,
   "metadata": {
    "collapsed": true
   },
   "outputs": [],
   "source": [
    "a = std_scaler.fit_transform(cpu_ts.reshape(-1,1))"
   ]
  },
  {
   "cell_type": "code",
   "execution_count": null,
   "metadata": {},
   "outputs": [],
   "source": [
    "a[:,0]"
   ]
  },
  {
   "cell_type": "code",
   "execution_count": null,
   "metadata": {
    "collapsed": true
   },
   "outputs": [],
   "source": [
    "cpu_ts_scl = pd.Series(data=std_scaler.fit_transform(cpu_ts.reshape(-1,1))[:,0], index=cpu_ts.index)\n",
    "in_ts_scl = pd.Series(data=std_scaler.fit_transform(in_ts.reshape(-1,1))[:,0], index=in_ts.index)\n",
    "out_ts_scl = pd.Series(data=std_scaler.fit_transform(out_ts.reshape(-1,1))[:,0], index=out_ts.index)\n",
    "# mem_ts_scl = std_scaler.fit_transform(mem_ts.reshape(-1,1))"
   ]
  },
  {
   "cell_type": "code",
   "execution_count": null,
   "metadata": {},
   "outputs": [],
   "source": [
    "slc = 300\n",
    "# plt.figure(figsize=(17,8))\n",
    "cpu_ts_scl[:220].plot(figsize=(20,12), label='cpu')\n",
    "in_ts_scl[:200].plot(label='inUtil', linestyle='--')\n",
    "out_ts_scl[:100].plot(label='outUtil', linestyle='-.')\n",
    "plt.legend()"
   ]
  },
  {
   "cell_type": "code",
   "execution_count": null,
   "metadata": {},
   "outputs": [],
   "source": [
    "cpu_ts[:1000].plot(figsize=(17,8))\n",
    "in_ts[:1000].plot(figsize=(17,8))"
   ]
  },
  {
   "cell_type": "code",
   "execution_count": null,
   "metadata": {},
   "outputs": [],
   "source": [
    "cpu_ts[:500].plot(figsize=(17,8))\n",
    "in_ts[:500].plot(figsize=(17,8))"
   ]
  },
  {
   "cell_type": "code",
   "execution_count": null,
   "metadata": {},
   "outputs": [],
   "source": [
    "cpu_ts[:100].plot(figsize=(17,8))\n",
    "in_ts[:100].plot(figsize=(17,8))"
   ]
  },
  {
   "cell_type": "code",
   "execution_count": null,
   "metadata": {
    "collapsed": true
   },
   "outputs": [],
   "source": []
  },
  {
   "cell_type": "code",
   "execution_count": null,
   "metadata": {
    "collapsed": true
   },
   "outputs": [],
   "source": []
  },
  {
   "cell_type": "code",
   "execution_count": null,
   "metadata": {
    "collapsed": true
   },
   "outputs": [],
   "source": []
  },
  {
   "cell_type": "code",
   "execution_count": null,
   "metadata": {},
   "outputs": [],
   "source": [
    "g = sns.JointGrid(x=cpu['cpu'], y=inn['in'])\n",
    "g = g.plot_joint(plt.scatter, edgecolor=\"white\", color='b', alpha=.4)\n",
    "_ = g.ax_marg_x.hist(cpu['cpu'], color='r', bins=30, alpha=.2)\n",
    "_ = g.ax_marg_y.hist(inn['in'],  orientation=\"horizontal\", bins=30, color='g', alpha=.2)"
   ]
  },
  {
   "cell_type": "code",
   "execution_count": null,
   "metadata": {
    "collapsed": true
   },
   "outputs": [],
   "source": []
  },
  {
   "cell_type": "code",
   "execution_count": null,
   "metadata": {
    "collapsed": true
   },
   "outputs": [],
   "source": []
  },
  {
   "cell_type": "code",
   "execution_count": null,
   "metadata": {},
   "outputs": [],
   "source": [
    "sns.jointplot(x=cpu['cpu'], y=inn['in'], kind='kde')"
   ]
  },
  {
   "cell_type": "code",
   "execution_count": null,
   "metadata": {},
   "outputs": [],
   "source": [
    "plt.figure()\n",
    "sns.distplot(cpu['cpu'].astype(int))\n",
    "plt.figure()\n",
    "sns.distplot(mem['mem'].astype(int))\n",
    "plt.figure()\n",
    "sns.distplot(inn['in'].astype(float))\n",
    "plt.figure()\n",
    "sns.distplot(out['out'].astype(float))\n",
    "\n"
   ]
  },
  {
   "cell_type": "code",
   "execution_count": null,
   "metadata": {
    "collapsed": true
   },
   "outputs": [],
   "source": []
  },
  {
   "cell_type": "markdown",
   "metadata": {},
   "source": [
    "## Попытка соединить cpu и mem для совместного анализа. Что-то комп умирает :("
   ]
  },
  {
   "cell_type": "code",
   "execution_count": null,
   "metadata": {
    "collapsed": true
   },
   "outputs": [],
   "source": [
    "ips = set(cpuUtil.ip.unique()) & set(memUtil.ip.unique())"
   ]
  },
  {
   "cell_type": "code",
   "execution_count": null,
   "metadata": {
    "collapsed": true
   },
   "outputs": [],
   "source": [
    "len(ips)"
   ]
  },
  {
   "cell_type": "code",
   "execution_count": null,
   "metadata": {
    "collapsed": true
   },
   "outputs": [],
   "source": [
    "mem_ips = memUtil[memUtil.ip.isin(ips)]"
   ]
  },
  {
   "cell_type": "code",
   "execution_count": null,
   "metadata": {
    "collapsed": true
   },
   "outputs": [],
   "source": [
    "ip_quantile_751 = ip_quantile_75.sort_values('index')"
   ]
  },
  {
   "cell_type": "code",
   "execution_count": null,
   "metadata": {
    "collapsed": true
   },
   "outputs": [],
   "source": [
    "mem_ip_quantile_75.shape"
   ]
  },
  {
   "cell_type": "code",
   "execution_count": null,
   "metadata": {
    "collapsed": true
   },
   "outputs": [],
   "source": [
    "cpu_mem = pd.DataFrame(index=ip_quantile_75.index)\n",
    "cpu_mem['cpu'] = ip_quantile_75\n",
    "cpu_mem['mem'] = mem_ip_quantile_75"
   ]
  },
  {
   "cell_type": "code",
   "execution_count": null,
   "metadata": {
    "collapsed": true
   },
   "outputs": [],
   "source": [
    "cpu_mem[cpu_mem.mem.isnull()].head()"
   ]
  },
  {
   "cell_type": "code",
   "execution_count": null,
   "metadata": {
    "collapsed": true
   },
   "outputs": [],
   "source": [
    "cpu_mem.dropna().corr()"
   ]
  },
  {
   "cell_type": "code",
   "execution_count": null,
   "metadata": {
    "collapsed": true
   },
   "outputs": [],
   "source": [
    "mem_ip_quantile_75[mem_ip_quantile_75>25].count()"
   ]
  },
  {
   "cell_type": "code",
   "execution_count": null,
   "metadata": {
    "collapsed": true
   },
   "outputs": [],
   "source": [
    "cpuUtil.shape"
   ]
  },
  {
   "cell_type": "code",
   "execution_count": null,
   "metadata": {
    "collapsed": true
   },
   "outputs": [],
   "source": [
    "(cpuUtil.busy == 1).sum()"
   ]
  },
  {
   "cell_type": "markdown",
   "metadata": {},
   "source": [
    "## Визуализируем данные в разрезах"
   ]
  },
  {
   "cell_type": "code",
   "execution_count": 8,
   "metadata": {},
   "outputs": [
    {
     "data": {
      "text/html": [
       "<div>\n",
       "<style scoped>\n",
       "    .dataframe tbody tr th:only-of-type {\n",
       "        vertical-align: middle;\n",
       "    }\n",
       "\n",
       "    .dataframe tbody tr th {\n",
       "        vertical-align: top;\n",
       "    }\n",
       "\n",
       "    .dataframe thead th {\n",
       "        text-align: right;\n",
       "    }\n",
       "</style>\n",
       "<table border=\"1\" class=\"dataframe\">\n",
       "  <thead>\n",
       "    <tr style=\"text-align: right;\">\n",
       "      <th></th>\n",
       "      <th>timestamp</th>\n",
       "      <th>cpu</th>\n",
       "      <th>ip</th>\n",
       "      <th>date</th>\n",
       "      <th>year</th>\n",
       "      <th>month</th>\n",
       "      <th>day</th>\n",
       "      <th>hour</th>\n",
       "      <th>minute</th>\n",
       "      <th>second</th>\n",
       "      <th>weekday</th>\n",
       "      <th>weeknum</th>\n",
       "      <th>weekend</th>\n",
       "      <th>busy</th>\n",
       "    </tr>\n",
       "  </thead>\n",
       "  <tbody>\n",
       "    <tr>\n",
       "      <th>0</th>\n",
       "      <td>1506805227529853</td>\n",
       "      <td>19</td>\n",
       "      <td>10.10.245.12</td>\n",
       "      <td>2017-10-01 00:00:27.529853</td>\n",
       "      <td>2017</td>\n",
       "      <td>10</td>\n",
       "      <td>1</td>\n",
       "      <td>0</td>\n",
       "      <td>0</td>\n",
       "      <td>27</td>\n",
       "      <td>sun</td>\n",
       "      <td>0</td>\n",
       "      <td>1</td>\n",
       "      <td>0</td>\n",
       "    </tr>\n",
       "    <tr>\n",
       "      <th>1</th>\n",
       "      <td>1506805527536264</td>\n",
       "      <td>18</td>\n",
       "      <td>10.10.245.12</td>\n",
       "      <td>2017-10-01 00:05:27.536264</td>\n",
       "      <td>2017</td>\n",
       "      <td>10</td>\n",
       "      <td>1</td>\n",
       "      <td>0</td>\n",
       "      <td>5</td>\n",
       "      <td>27</td>\n",
       "      <td>sun</td>\n",
       "      <td>0</td>\n",
       "      <td>1</td>\n",
       "      <td>0</td>\n",
       "    </tr>\n",
       "    <tr>\n",
       "      <th>2</th>\n",
       "      <td>1506805827551572</td>\n",
       "      <td>19</td>\n",
       "      <td>10.10.245.12</td>\n",
       "      <td>2017-10-01 00:10:27.551572</td>\n",
       "      <td>2017</td>\n",
       "      <td>10</td>\n",
       "      <td>1</td>\n",
       "      <td>0</td>\n",
       "      <td>10</td>\n",
       "      <td>27</td>\n",
       "      <td>sun</td>\n",
       "      <td>0</td>\n",
       "      <td>1</td>\n",
       "      <td>0</td>\n",
       "    </tr>\n",
       "    <tr>\n",
       "      <th>3</th>\n",
       "      <td>1506806127617002</td>\n",
       "      <td>18</td>\n",
       "      <td>10.10.245.12</td>\n",
       "      <td>2017-10-01 00:15:27.617002</td>\n",
       "      <td>2017</td>\n",
       "      <td>10</td>\n",
       "      <td>1</td>\n",
       "      <td>0</td>\n",
       "      <td>15</td>\n",
       "      <td>27</td>\n",
       "      <td>sun</td>\n",
       "      <td>0</td>\n",
       "      <td>1</td>\n",
       "      <td>0</td>\n",
       "    </tr>\n",
       "    <tr>\n",
       "      <th>4</th>\n",
       "      <td>1506809427715955</td>\n",
       "      <td>19</td>\n",
       "      <td>10.10.245.12</td>\n",
       "      <td>2017-10-01 01:10:27.715955</td>\n",
       "      <td>2017</td>\n",
       "      <td>10</td>\n",
       "      <td>1</td>\n",
       "      <td>1</td>\n",
       "      <td>10</td>\n",
       "      <td>27</td>\n",
       "      <td>sun</td>\n",
       "      <td>0</td>\n",
       "      <td>1</td>\n",
       "      <td>0</td>\n",
       "    </tr>\n",
       "  </tbody>\n",
       "</table>\n",
       "</div>"
      ],
      "text/plain": [
       "          timestamp  cpu            ip                       date  year  \\\n",
       "0  1506805227529853   19  10.10.245.12 2017-10-01 00:00:27.529853  2017   \n",
       "1  1506805527536264   18  10.10.245.12 2017-10-01 00:05:27.536264  2017   \n",
       "2  1506805827551572   19  10.10.245.12 2017-10-01 00:10:27.551572  2017   \n",
       "3  1506806127617002   18  10.10.245.12 2017-10-01 00:15:27.617002  2017   \n",
       "4  1506809427715955   19  10.10.245.12 2017-10-01 01:10:27.715955  2017   \n",
       "\n",
       "   month  day  hour  minute  second weekday weeknum  weekend  busy  \n",
       "0     10    1     0       0      27     sun       0        1     0  \n",
       "1     10    1     0       5      27     sun       0        1     0  \n",
       "2     10    1     0      10      27     sun       0        1     0  \n",
       "3     10    1     0      15      27     sun       0        1     0  \n",
       "4     10    1     1      10      27     sun       0        1     0  "
      ]
     },
     "execution_count": 8,
     "metadata": {},
     "output_type": "execute_result"
    }
   ],
   "source": [
    "df_cpu.head()"
   ]
  },
  {
   "cell_type": "code",
   "execution_count": 9,
   "metadata": {
    "collapsed": true
   },
   "outputs": [],
   "source": [
    "def extract_ips(df, ip_count):\n",
    "    ips = df.ip.unique()[:ip_count]\n",
    "    return ips, df[df.ip.isin(ips)]"
   ]
  },
  {
   "cell_type": "code",
   "execution_count": 19,
   "metadata": {
    "collapsed": true
   },
   "outputs": [],
   "source": [
    "ips, df = extract_ips(df_cpu, 5)"
   ]
  },
  {
   "cell_type": "code",
   "execution_count": 11,
   "metadata": {},
   "outputs": [
    {
     "data": {
      "text/plain": [
       "Index(['timestamp', 'cpu', 'ip', 'date', 'year', 'month', 'day', 'hour',\n",
       "       'minute', 'second', 'weekday', 'weeknum', 'weekend', 'busy'],\n",
       "      dtype='object')"
      ]
     },
     "execution_count": 11,
     "metadata": {},
     "output_type": "execute_result"
    }
   ],
   "source": [
    "df.columns"
   ]
  },
  {
   "cell_type": "code",
   "execution_count": 12,
   "metadata": {},
   "outputs": [
    {
     "data": {
      "text/plain": [
       "<seaborn.axisgrid.FacetGrid at 0x113e24e10>"
      ]
     },
     "execution_count": 12,
     "metadata": {},
     "output_type": "execute_result"
    },
    {
     "data": {
      "image/png": "[encoded data removed]",
      "text/plain": [
       "<matplotlib.figure.Figure at 0x113e24d30>"
      ]
     },
     "metadata": {},
     "output_type": "display_data"
    }
   ],
   "source": [
    "g= sns.FacetGrid(df, row='month', col='ip')\n",
    "g.map(sns.violinplot, 'cpu')"
   ]
  },
  {
   "cell_type": "code",
   "execution_count": 14,
   "metadata": {},
   "outputs": [
    {
     "data": {
      "image/png": "[encoded data removed]",
      "text/plain": [
       "<matplotlib.figure.Figure at 0x115d4dc18>"
      ]
     },
     "metadata": {},
     "output_type": "display_data"
    }
   ],
   "source": [
    "g= sns.FacetGrid(df, row='weekday', col='ip')\n",
    "g.map(sns.violinplot, 'cpu')\n",
    "g.savefig('./../Desktop/weekday.png')"
   ]
  },
  {
   "cell_type": "code",
   "execution_count": 20,
   "metadata": {
    "scrolled": false
   },
   "outputs": [
    {
     "data": {
      "image/png": "[encoded data removed]",
      "text/plain": [
       "<matplotlib.figure.Figure at 0x1c1df2cc18>"
      ]
     },
     "metadata": {},
     "output_type": "display_data"
    }
   ],
   "source": [
    "g= sns.FacetGrid(df, row='busy', col='ip')\n",
    "g.map(sns.distplot,'cpu', bins=30)\n",
    "g.savefig('./../Desktop/busy.png')"
   ]
  },
  {
   "cell_type": "code",
   "execution_count": 16,
   "metadata": {},
   "outputs": [
    {
     "data": {
      "image/png": "[encoded data removed]",
      "text/plain": [
       "<matplotlib.figure.Figure at 0x11371bdd8>"
      ]
     },
     "metadata": {},
     "output_type": "display_data"
    }
   ],
   "source": [
    "g= sns.FacetGrid(df, row='weekend', col='ip')\n",
    "g.map(sns.distplot,'cpu', bins=30)\n",
    "g.savefig('./../Desktop/weekend.png')"
   ]
  },
  {
   "cell_type": "code",
   "execution_count": null,
   "metadata": {
    "collapsed": true
   },
   "outputs": [],
   "source": [
    "g= sns.FacetGrid(df, row='ip', size=6, aspect=5)\n",
    "g.map(sns.boxplot,'day','cpu')"
   ]
  },
  {
   "cell_type": "code",
   "execution_count": null,
   "metadata": {
    "collapsed": true
   },
   "outputs": [],
   "source": [
    "plt.figure(figsize=(15,8))\n",
    "sns.boxplot(data=df, x='hour', y='cpu', hue='ip')"
   ]
  },
  {
   "cell_type": "code",
   "execution_count": null,
   "metadata": {
    "collapsed": true
   },
   "outputs": [],
   "source": [
    "g=sns.FacetGrid(df, row='weekday', col='ip')\n",
    "g.map(sns.violinplot,'cpu')"
   ]
  },
  {
   "cell_type": "code",
   "execution_count": 22,
   "metadata": {},
   "outputs": [
    {
     "data": {
      "image/png": "[encoded data removed]",
      "text/plain": [
       "<matplotlib.figure.Figure at 0x1c1d5424e0>"
      ]
     },
     "metadata": {},
     "output_type": "display_data"
    }
   ],
   "source": [
    "g=sns.FacetGrid(df, row='weeknum', col='ip')\n",
    "g.map(sns.violinplot,'cpu')\n",
    "g.savefig('./../Desktop/weeknum.png')"
   ]
  },
  {
   "cell_type": "markdown",
   "metadata": {},
   "source": [
    "### Применение pyflux для проверки ARMA моделей"
   ]
  },
  {
   "cell_type": "code",
   "execution_count": null,
   "metadata": {
    "collapsed": true
   },
   "outputs": [],
   "source": [
    "data = pd.DataFrame()\n",
    "data['cpu'] = ts_cpu_inter.values\n",
    "data.index = ts_cpu_inter.index.values"
   ]
  },
  {
   "cell_type": "code",
   "execution_count": null,
   "metadata": {
    "collapsed": true
   },
   "outputs": [],
   "source": [
    "model = pf.ARIMA(data=data, ar=4, ma=4,integ=1, target='cpu', family=pf.Normal())"
   ]
  },
  {
   "cell_type": "code",
   "execution_count": null,
   "metadata": {
    "collapsed": true
   },
   "outputs": [],
   "source": [
    "ts_cpu_inter.plot(figsize=(17,8))"
   ]
  },
  {
   "cell_type": "code",
   "execution_count": null,
   "metadata": {
    "collapsed": true
   },
   "outputs": [],
   "source": [
    "x = model.fit('MLE')"
   ]
  },
  {
   "cell_type": "code",
   "execution_count": null,
   "metadata": {
    "collapsed": true
   },
   "outputs": [],
   "source": [
    "x.summary()"
   ]
  },
  {
   "cell_type": "code",
   "execution_count": null,
   "metadata": {
    "collapsed": true
   },
   "outputs": [],
   "source": [
    "model.plot_z(figsize=(17,7))"
   ]
  },
  {
   "cell_type": "code",
   "execution_count": null,
   "metadata": {
    "collapsed": true
   },
   "outputs": [],
   "source": [
    "model.plot_fit(figsize=(15,10))"
   ]
  },
  {
   "cell_type": "code",
   "execution_count": null,
   "metadata": {
    "collapsed": true
   },
   "outputs": [],
   "source": [
    "# plotly_df(ts_cpu_inter, title = 'ff')"
   ]
  },
  {
   "cell_type": "code",
   "execution_count": null,
   "metadata": {
    "collapsed": true
   },
   "outputs": [],
   "source": [
    "ts_cpu_inter.hist()"
   ]
  },
  {
   "cell_type": "code",
   "execution_count": null,
   "metadata": {},
   "outputs": [],
   "source": [
    "from scipy import signal\n",
    "fs = 10e1\n",
    "f, Pxx_den = signal.periodogram(cpu_ts[:100], fs)\n",
    "plt.figure(figsize=(25,15))\n",
    "plt.semilogy(f, Pxx_den)\n",
    "plt.ylim([1e-7, 1e2])\n",
    "plt.xlabel('frequency [Hz]')\n",
    "plt.ylabel('PSD [V**2/Hz]')\n",
    "plt.show()"
   ]
  },
  {
   "cell_type": "code",
   "execution_count": null,
   "metadata": {
    "collapsed": true
   },
   "outputs": [],
   "source": [
    "FD = 22050 # частота дискретизации, отсчётов в секунду\n",
    "# а это значит, что в дискретном сигнале представлены частоты от нуля до 11025 Гц (это и есть теорема Котельникова)\n",
    "N = ts_cpu_inter.shape[0]\n",
    "print(N)\n",
    "spectrum = rfft(ts_cpu)\n",
    "print(spectrum.shape)\n",
    "\n",
    "plt.figure(figsize=(17,8))\n",
    "plt.plot(np_abs(spectrum))\n",
    "# plt.plot(rfftfreq(N, 1./FD), np_abs(spectrum)/N)\n",
    "plt.xlabel(u'Частота, Гц')\n",
    "plt.ylabel(u'Амплитуда')\n",
    "plt.ylim([-1,160])\n",
    "plt.title(u'Спектр')\n",
    "plt.grid(True)\n",
    "plt.show()"
   ]
  },
  {
   "cell_type": "markdown",
   "metadata": {},
   "source": [
    "### Попробуем кластеризацию"
   ]
  },
  {
   "cell_type": "code",
   "execution_count": null,
   "metadata": {
    "collapsed": true
   },
   "outputs": [],
   "source": [
    "def get_freq(vals, col, freq):\n",
    "    try:\n",
    "        frequency, power = ast_stats.LombScargle(v['timestamp'][:100].astype(int), v[col][:100]).autopower()\n",
    "        return frequency[freq]\n",
    "    except:\n",
    "        return 0\n",
    "    \n",
    "def get_amp(v, col, freq):\n",
    "    try:\n",
    "        frequency, power = ast_stats.LombScargle(v['timestamp'][:100].astype(int), v[col][:100]).autopower()\n",
    "        return power[freq]\n",
    "    except:\n",
    "        return 0\n",
    "    \n",
    "def get_weeked_day_high(vv,col):\n",
    "    mapping = {'sat':5, 'sun':6, 'mon':0, 'tue':1, 'wed':2, 'thu':3, 'fri':4}\n",
    "    rev_map = {v:k for k,v in mapping.items()}\n",
    "    \n",
    "    mask = vv[col] > vv[col].quantile(0.75)\n",
    "    try:\n",
    "        return rev_map[np.argmax(np.bincount(vv.loc[mask, 'weekday'].map(mapping)))]\n",
    "    except:\n",
    "        return 'no_day'\n",
    "\n",
    "def get_weeked_day_low(vv, col):\n",
    "    mapping = {'sat':5, 'sun':6, 'mon':0, 'tue':1, 'wed':2, 'thu':3, 'fri':4}\n",
    "    rev_map = {v:k for k,v in mapping.items()}\n",
    "    \n",
    "    mask = vv[col] < vv[col].quantile(0.25)\n",
    "    try:\n",
    "        return rev_map[np.argmax(np.bincount(vv.loc[mask, 'weekday'].map(mapping)))]\n",
    "    except:\n",
    "        return 'no_day'\n",
    "    \n",
    "def ftrs_engine(cpu, preffix):\n",
    "    clust_data = pd.DataFrame()\n",
    "    clust_data['{}_week_day_high'.format(preffix)] = cpu.groupby('ip').apply(lambda v: get_weeked_day_high(v,preffix))\n",
    "    clust_data['{}_week_day_low'.format(preffix)] = cpu.groupby('ip').apply(lambda v: get_weeked_day_low(v, preffix))\n",
    "\n",
    "    clust_data['{}_mean'.format(preffix)] = cpu.groupby('ip')[[preffix]].mean()\n",
    "    clust_data['{}_median'.format(preffix)] = cpu.groupby('ip')[[preffix]].median()\n",
    "    clust_data['{}_std'.format(preffix)] = cpu.groupby('ip')[[preffix]].std()\n",
    "    clust_data['{}_moda'.format(preffix)] = cpu.groupby('ip').apply(lambda v: np.argmax(np.bincount(v[preffix])))\n",
    "    clust_data['{}_q25'.format(preffix)] = cpu.groupby('ip').apply(lambda v: v[preffix].quantile(.25))\n",
    "    clust_data['{}_q75'.format(preffix)] = cpu.groupby('ip').apply(lambda v: v[preffix].quantile(.75))\n",
    "    clust_data['{}_min'.format(preffix)] = cpu.groupby('ip')[[preffix]].min()\n",
    "    clust_data['{}_max'.format(preffix)] = cpu.groupby('ip')[[preffix]].max()\n",
    "    clust_data['{}_integ'.format(preffix)] = cpu.groupby('ip').apply(lambda v: integrate.simps(y=v[preffix].values)/v[preffix].count())\n",
    "    for lag in range(1,10):\n",
    "        clust_data['{}_lag{}'.format(preffix,lag)] = cpu.groupby('ip').apply(lambda v: v[preffix].autocorr(lag=lag))\n",
    "\n",
    "    clust_data['{}_ratio'.format(preffix)] = cpu.groupby('ip').apply(lambda v: v[preffix].count()/cpu[preffix].count())\n",
    "\n",
    "\n",
    "    for freq in range(1,15):\n",
    "        clust_data['{}_freq{}'.format(preffix,freq)] = cpu.groupby('ip').apply(lambda v: get_freq(v, preffix, freq))\n",
    "        clust_data['{}_freq{}_amp{}'.format(preffix,freq, freq)] = cpu.groupby('ip').apply(lambda v: get_amp(v, preffix, freq))\n",
    "    return clust_data"
   ]
  },
  {
   "cell_type": "code",
   "execution_count": null,
   "metadata": {},
   "outputs": [],
   "source": [
    "cpu.ip.unique()"
   ]
  },
  {
   "cell_type": "code",
   "execution_count": null,
   "metadata": {
    "collapsed": true
   },
   "outputs": [],
   "source": [
    "clust_data = ftrs_engine(cpu, 'cpu')"
   ]
  },
  {
   "cell_type": "code",
   "execution_count": null,
   "metadata": {},
   "outputs": [],
   "source": [
    "clust_data.cpu_freq1_amp1"
   ]
  },
  {
   "cell_type": "code",
   "execution_count": null,
   "metadata": {},
   "outputs": [],
   "source": [
    "clust_data.info()"
   ]
  },
  {
   "cell_type": "code",
   "execution_count": null,
   "metadata": {
    "collapsed": true
   },
   "outputs": [],
   "source": [
    "from sklearn.preprocessing import StandardScaler"
   ]
  },
  {
   "cell_type": "code",
   "execution_count": null,
   "metadata": {
    "collapsed": true
   },
   "outputs": [],
   "source": [
    "scaler = StandardScaler()"
   ]
  },
  {
   "cell_type": "code",
   "execution_count": null,
   "metadata": {
    "collapsed": true
   },
   "outputs": [],
   "source": [
    "tt = pd.get_dummies(clust_data.select_dtypes(include='object'))"
   ]
  },
  {
   "cell_type": "code",
   "execution_count": null,
   "metadata": {
    "collapsed": true
   },
   "outputs": [],
   "source": [
    "clust_data.head()"
   ]
  },
  {
   "cell_type": "code",
   "execution_count": null,
   "metadata": {
    "collapsed": true
   },
   "outputs": [],
   "source": [
    "tt.head()"
   ]
  },
  {
   "cell_type": "code",
   "execution_count": null,
   "metadata": {
    "collapsed": true
   },
   "outputs": [],
   "source": [
    "clust_d = pd.concat([clust_data, tt], axis=1)"
   ]
  },
  {
   "cell_type": "code",
   "execution_count": null,
   "metadata": {
    "collapsed": true
   },
   "outputs": [],
   "source": [
    "clust_d.drop(['cpu_week_day_high','cpu_week_day_low'],axis=1, inplace=True)"
   ]
  },
  {
   "cell_type": "code",
   "execution_count": null,
   "metadata": {
    "collapsed": true
   },
   "outputs": [],
   "source": [
    "clust_d = clust_d.fillna(10000)"
   ]
  },
  {
   "cell_type": "code",
   "execution_count": null,
   "metadata": {
    "collapsed": true
   },
   "outputs": [],
   "source": [
    "clust_d.shape"
   ]
  },
  {
   "cell_type": "code",
   "execution_count": null,
   "metadata": {
    "collapsed": true
   },
   "outputs": [],
   "source": [
    "trnsfrmd_clust_data = scaler.fit_transform(clust_d)"
   ]
  },
  {
   "cell_type": "code",
   "execution_count": null,
   "metadata": {
    "collapsed": true
   },
   "outputs": [],
   "source": [
    "trns_clust_d = pd.DataFrame(data=trnsfrmd_clust_data, index=clust_d.index.values, columns=clust_d.columns)"
   ]
  },
  {
   "cell_type": "code",
   "execution_count": null,
   "metadata": {
    "collapsed": true
   },
   "outputs": [],
   "source": [
    "from sklearn.manifold import TSNE,MDS"
   ]
  },
  {
   "cell_type": "code",
   "execution_count": null,
   "metadata": {
    "collapsed": true
   },
   "outputs": [],
   "source": [
    "trns_tsne = TSNE(n_components=2)"
   ]
  },
  {
   "cell_type": "code",
   "execution_count": null,
   "metadata": {
    "collapsed": true
   },
   "outputs": [],
   "source": [
    "reduced_data = trns_tsne.fit_transform(trns_clust_d)"
   ]
  },
  {
   "cell_type": "code",
   "execution_count": null,
   "metadata": {
    "collapsed": true
   },
   "outputs": [],
   "source": [
    "trns_clust_d.shape"
   ]
  },
  {
   "cell_type": "code",
   "execution_count": null,
   "metadata": {
    "collapsed": true
   },
   "outputs": [],
   "source": [
    "reduced_data.shape"
   ]
  },
  {
   "cell_type": "code",
   "execution_count": null,
   "metadata": {
    "collapsed": true
   },
   "outputs": [],
   "source": [
    "plt.figure(figsize=(17,8))\n",
    "plt.scatter(reduced_data[:,0],reduced_data[:,1])"
   ]
  },
  {
   "cell_type": "code",
   "execution_count": null,
   "metadata": {
    "collapsed": true
   },
   "outputs": [],
   "source": [
    "trns_mds = MDS(n_components=2)"
   ]
  },
  {
   "cell_type": "code",
   "execution_count": null,
   "metadata": {
    "collapsed": true
   },
   "outputs": [],
   "source": [
    "mds_rdcd_d = trns_mds.fit_transform(trns_clust_d)"
   ]
  },
  {
   "cell_type": "code",
   "execution_count": null,
   "metadata": {
    "collapsed": true
   },
   "outputs": [],
   "source": [
    "с"
   ]
  },
  {
   "cell_type": "code",
   "execution_count": null,
   "metadata": {
    "collapsed": true
   },
   "outputs": [],
   "source": []
  },
  {
   "cell_type": "code",
   "execution_count": null,
   "metadata": {
    "collapsed": true
   },
   "outputs": [],
   "source": [
    "from sklearn.cluster import DBSCAN, MeanShift, Birch"
   ]
  },
  {
   "cell_type": "code",
   "execution_count": null,
   "metadata": {
    "collapsed": true
   },
   "outputs": [],
   "source": [
    "dbscan_sclusterer = DBSCAN(algorithm='ball_tree', p=4)"
   ]
  },
  {
   "cell_type": "code",
   "execution_count": null,
   "metadata": {
    "collapsed": true
   },
   "outputs": [],
   "source": [
    "# cluster_labels = dbscan_sclusterer.fit_predict(trns_clust_d)\n",
    "cluster_labels = dbscan_sclusterer.fit_predict(reduced_data)"
   ]
  },
  {
   "cell_type": "code",
   "execution_count": null,
   "metadata": {
    "collapsed": true
   },
   "outputs": [],
   "source": [
    "set(cluster_labels)"
   ]
  },
  {
   "cell_type": "code",
   "execution_count": null,
   "metadata": {
    "collapsed": true
   },
   "outputs": [],
   "source": [
    "clustered_data = trns_clust_d.copy(deep=True)\n",
    "clustered_data['cluster'] = cluster_labels"
   ]
  },
  {
   "cell_type": "code",
   "execution_count": null,
   "metadata": {
    "collapsed": true
   },
   "outputs": [],
   "source": [
    "plt.figure(figsize=(17,8))\n",
    "plt.scatter(x = reduced_data[:,0], y=reduced_data[:,1],c=cluster_labels)"
   ]
  },
  {
   "cell_type": "code",
   "execution_count": null,
   "metadata": {
    "collapsed": true
   },
   "outputs": [],
   "source": [
    "plt.figure(figsize=(25,13))\n",
    "sns.lmplot(data=clust_data, x='cpu_mean', y='cpu_median', hue=cluster_labels)"
   ]
  },
  {
   "cell_type": "code",
   "execution_count": null,
   "metadata": {
    "collapsed": true
   },
   "outputs": [],
   "source": [
    "set(cluster_labels)"
   ]
  },
  {
   "cell_type": "code",
   "execution_count": null,
   "metadata": {
    "collapsed": true
   },
   "outputs": [],
   "source": []
  },
  {
   "cell_type": "code",
   "execution_count": null,
   "metadata": {
    "collapsed": true
   },
   "outputs": [],
   "source": []
  },
  {
   "cell_type": "markdown",
   "metadata": {
    "collapsed": true
   },
   "source": [
    "### классические подходы ( скользящее среднее и ее модификации + SARIMA)"
   ]
  },
  {
   "cell_type": "code",
   "execution_count": null,
   "metadata": {
    "collapsed": true
   },
   "outputs": [],
   "source": [
    "log_ts = np.log(ts_cpu_inter)\n",
    "log_ts.hist()"
   ]
  },
  {
   "cell_type": "code",
   "execution_count": null,
   "metadata": {
    "collapsed": true
   },
   "outputs": [],
   "source": [
    "def mov_avg(vals, window):\n",
    "    return np.average(vals[-window:])"
   ]
  },
  {
   "cell_type": "code",
   "execution_count": null,
   "metadata": {
    "collapsed": true
   },
   "outputs": [],
   "source": [
    "mov_avg(ts_cpu, 60)"
   ]
  },
  {
   "cell_type": "markdown",
   "metadata": {},
   "source": [
    "Если нельзя использовать метод скользящего среднего для прогнозирования ряда (нам это особо и не нужно),\n",
    "\n",
    "попробуем просто сгладить ряд, чтоб увидеть какие-нибудь тренды. есть функция DataFrame.rolling(window=n).mean()"
   ]
  },
  {
   "cell_type": "code",
   "execution_count": null,
   "metadata": {},
   "outputs": [],
   "source": [
    "wind = 20\n",
    "windowed_ts = cpu_ts.rolling(wind).mean()\n",
    "plotly_df(windowed_ts, 'window = {}'.format(wind))"
   ]
  },
  {
   "cell_type": "code",
   "execution_count": null,
   "metadata": {
    "collapsed": true
   },
   "outputs": [],
   "source": [
    "def plot_mov_avg(vals, ts, wind):\n",
    "    rolling_mean = vals.rolling(window=wind).mean()\n",
    "\n",
    "    # При желании, можно строить и доверительные интервалы для сглаженных значений\n",
    "    rolling_std =  vals.rolling(window=wind).std()\n",
    "    upper_bond = rolling_mean+1.96*rolling_std\n",
    "    lower_bond = rolling_mean-1.96*rolling_std\n",
    "\n",
    "    plt.figure(figsize=(17,9))\n",
    "    plt.plot(upper_bond, \"r--\", label=\"Upper Bond / Lower Bond\")\n",
    "    plt.plot(lower_bond, \"r--\")\n",
    "    plt.plot(ts[wind:], label=\"Actual values\")\n",
    "    plt.title(\"Moving average\\n window size = {}\".format(wind))\n",
    "    plt.plot(rolling_mean, \"r\", label=\"Rolling mean trend\")\n",
    "    plt.legend(loc=\"upper left\")\n",
    "    plt.grid(True)"
   ]
  },
  {
   "cell_type": "code",
   "execution_count": null,
   "metadata": {
    "collapsed": true
   },
   "outputs": [],
   "source": [
    "plot_mov_avg(ts_cpu_inter, ts_cpu_inter, 40)"
   ]
  },
  {
   "cell_type": "markdown",
   "metadata": {},
   "source": [
    "Если попробовать взвешенное скользящее среднее. \n",
    "\n",
    "В том случае, когда нам нужно задать приоритет наблюдений.\n",
    "\n",
    "Например, больше важно что было вчера, чем неделю назад\n",
    "\n",
    "Последним значениям дается больший вес. В сумме все веса должны дать 1"
   ]
  },
  {
   "cell_type": "code",
   "execution_count": null,
   "metadata": {
    "collapsed": true
   },
   "outputs": [],
   "source": [
    "def weighted_avg(vals, weights):\n",
    "    result = 0.0\n",
    "    weights.reverse()\n",
    "    n = len(weights)\n",
    "    return np.average([v*w for v,w in zip(vals[-n:], weights)])\n",
    "\n",
    "weighted_avg(ts, [0.6, 0.2, 0.1, 0.07, 0.03])"
   ]
  },
  {
   "cell_type": "markdown",
   "metadata": {},
   "source": [
    "А что если взвешивать не последние n наблюдений и брать окно по ним, а взвешивать все доступные значения. НО по мере углубдения в \"историю\" вес уменьшать.\n",
    "\n",
    "alpha - коэффициент \"забывания\"\n",
    "\n",
    "Если ряд содержит тренд, то экспоненциальное сглаживание будет его лишь \"догонять\", никогда не приблизиться к нему"
   ]
  },
  {
   "cell_type": "code",
   "execution_count": null,
   "metadata": {
    "collapsed": true
   },
   "outputs": [],
   "source": [
    "def exp_smoothing(vals, alpha):\n",
    "    result = [vals[0]] # first value is same as series\n",
    "    for n in range(1, len(vals)):\n",
    "        result.append(alpha * vals[n] + (1 - alpha) * result[n-1])\n",
    "    return result"
   ]
  },
  {
   "cell_type": "code",
   "execution_count": null,
   "metadata": {
    "collapsed": true
   },
   "outputs": [],
   "source": [
    "r = exp_smoothing(ts_cpu, 0.3)"
   ]
  },
  {
   "cell_type": "code",
   "execution_count": null,
   "metadata": {
    "collapsed": true
   },
   "outputs": [],
   "source": [
    "with plt.style.context('seaborn-white'):    \n",
    "    plt.figure(figsize=(25, 15))\n",
    "    plt.plot(df.cpu.astype(float).values, \"c\", label = \"Actual\")\n",
    "    for alpha in [0.3, 0.05]:\n",
    "        plt.plot(exp_smoothing(ts_cpu, alpha), label=\"Alpha {}\".format(alpha))\n",
    "    plt.legend(loc=\"best\")\n",
    "    plt.axis('tight')\n",
    "    plt.title(\"Exponential Smoothing\")\n",
    "    plt.grid(True)"
   ]
  },
  {
   "cell_type": "markdown",
   "metadata": {},
   "source": [
    "Использование двойного экспоненциального сглаживания\n",
    "\n",
    "Для этого исходных ряд разбивается на две состовляющих: уровень и тренд\n",
    "\n",
    "Минус: не позволяет работать с рядом, в котором есть сезонность"
   ]
  },
  {
   "cell_type": "code",
   "execution_count": null,
   "metadata": {
    "collapsed": true
   },
   "outputs": [],
   "source": [
    "def double_exp_smoothing(series, alpha, beta):\n",
    "    result = [series[0]]\n",
    "    for n in range(1, len(series)+1):\n",
    "        if n == 1:\n",
    "            # уровень - первое значение ряда\n",
    "            # тренд - разница между между вторым и первым значениями ряда\n",
    "            level, trend = series[0], series[1] - series[0] \n",
    "        if n >= len(series): # прогнозируем\n",
    "            value = result[-1]\n",
    "        else:\n",
    "            # промежуточное значение\n",
    "            value = series[n]\n",
    "        # высчитываем предыдущий и настоящий уровень\n",
    "        last_level, level = level, alpha*value + (1-alpha)*(level+trend)\n",
    "        # высчитываем тренд\n",
    "        trend = beta*(level-last_level) + (1-beta)*trend\n",
    "        # результат - сумма уровня и тренда\n",
    "        result.append(level+trend)\n",
    "    return result"
   ]
  },
  {
   "cell_type": "code",
   "execution_count": null,
   "metadata": {
    "collapsed": true
   },
   "outputs": [],
   "source": [
    "with plt.style.context('seaborn-white'):    \n",
    "    plt.figure(figsize=(20, 8))\n",
    "    plt.plot(df.cpu.values, label = \"Actual\")\n",
    "    for alpha in [0.9, 0.02]:\n",
    "        for beta in [0.9, 0.02]:\n",
    "            plt.plot(double_exp_smoothing(ts, alpha, beta), label=\"Alpha {}, beta {}\".format(alpha, beta))\n",
    "    plt.legend(loc=\"best\")\n",
    "    plt.axis('tight')\n",
    "    plt.ylim([15,24])\n",
    "    plt.title(\"Double Exponential Smoothing\")\n",
    "    plt.grid(True)"
   ]
  },
  {
   "cell_type": "markdown",
   "metadata": {},
   "source": [
    "Модель Хольта - Винтерса. Тройное экспоненциальное сглаживание\n",
    "\n",
    "Учитывает три компоненты: уровень, тренд, сезонность\n",
    "\n",
    "Для определения коэффициента сезонности нужно взять среднее за сезон, который выделяем\n",
    "\n",
    "Метод Брутлага позволяет строить доверительные интервалы и на их основе находить аномалии"
   ]
  },
  {
   "cell_type": "code",
   "execution_count": null,
   "metadata": {
    "collapsed": true
   },
   "outputs": [],
   "source": [
    "class HoltWinters:\n",
    "\n",
    "    \"\"\"\n",
    "    Модель Хольта-Винтерса с методом Брутлага для детектирования аномалий\n",
    "    https://fedcsis.org/proceedings/2012/pliks/118.pdf\n",
    "\n",
    "    # series - исходный временной ряд\n",
    "    # slen - длина сезона\n",
    "    # alpha, beta, gamma - коэффициенты модели Хольта-Винтерса\n",
    "    # n_preds - горизонт предсказаний\n",
    "    # scaling_factor - задаёт ширину доверительного интервала по Брутлагу (обычно принимает значения от 2 до 3)\n",
    "\n",
    "    \"\"\"\n",
    "\n",
    "    def __init__(self, series, slen, alpha, beta, gamma, n_preds, scaling_factor=1.96):\n",
    "        self.series = series\n",
    "        self.slen = slen\n",
    "        self.alpha = alpha\n",
    "        self.beta = beta\n",
    "        self.gamma = gamma\n",
    "        self.n_preds = n_preds\n",
    "        self.scaling_factor = scaling_factor\n",
    "\n",
    "    def initial_trend(self):\n",
    "        sum = 0.0\n",
    "        for i in range(self.slen):\n",
    "            sum += float(self.series[i+self.slen] - self.series[i]) / self.slen\n",
    "        return sum / self.slen  \n",
    "\n",
    "    def initial_seasonal_components(self):\n",
    "        seasonals = {}\n",
    "        season_averages = []\n",
    "        n_seasons = int(len(self.series)/self.slen)\n",
    "        # вычисляем сезонные средние\n",
    "        for j in range(n_seasons):\n",
    "            season_averages.append(sum(self.series[self.slen*j:self.slen*j+self.slen])/float(self.slen))\n",
    "        # вычисляем начальные значения\n",
    "        for i in range(self.slen):\n",
    "            sum_of_vals_over_avg = 0.0\n",
    "            for j in range(n_seasons):\n",
    "                sum_of_vals_over_avg += self.series[self.slen*j+i]-season_averages[j]\n",
    "            seasonals[i] = sum_of_vals_over_avg/n_seasons\n",
    "        return seasonals   \n",
    "\n",
    "    def triple_exponential_smoothing(self):\n",
    "        self.result = []\n",
    "        self.Smooth = []\n",
    "        self.Season = []\n",
    "        self.Trend = []\n",
    "        self.PredictedDeviation = []\n",
    "        self.UpperBond = []\n",
    "        self.LowerBond = []\n",
    "\n",
    "        seasonals = self.initial_seasonal_components()\n",
    "\n",
    "        for i in range(len(self.series)+self.n_preds):\n",
    "            if i == 0: # инициализируем значения компонент\n",
    "                smooth = self.series[0]\n",
    "                trend = self.initial_trend()\n",
    "                self.result.append(self.series[0])\n",
    "                self.Smooth.append(smooth)\n",
    "                self.Trend.append(trend)\n",
    "                self.Season.append(seasonals[i%self.slen])\n",
    "\n",
    "                self.PredictedDeviation.append(0)\n",
    "\n",
    "                self.UpperBond.append(self.result[0] + \n",
    "                                      self.scaling_factor * \n",
    "                                      self.PredictedDeviation[0])\n",
    "\n",
    "                self.LowerBond.append(self.result[0] - \n",
    "                                      self.scaling_factor * \n",
    "                                      self.PredictedDeviation[0])\n",
    "\n",
    "                continue\n",
    "            if i >= len(self.series): # прогнозируем\n",
    "                m = i - len(self.series) + 1\n",
    "                self.result.append((smooth + m*trend) + seasonals[i%self.slen])\n",
    "\n",
    "                # во время прогноза с каждым шагом увеличиваем неопределенность\n",
    "                self.PredictedDeviation.append(self.PredictedDeviation[-1]*1.01) \n",
    "\n",
    "            else:\n",
    "                val = self.series[i]\n",
    "                last_smooth, smooth = smooth, self.alpha*(val-seasonals[i%self.slen]) + (1-self.alpha)*(smooth+trend)\n",
    "                trend = self.beta * (smooth-last_smooth) + (1-self.beta)*trend\n",
    "                seasonals[i%self.slen] = self.gamma*(val-smooth) + (1-self.gamma)*seasonals[i%self.slen]\n",
    "                self.result.append(smooth+trend+seasonals[i%self.slen])\n",
    "\n",
    "                # Отклонение рассчитывается в соответствии с алгоритмом Брутлага\n",
    "                self.PredictedDeviation.append(self.gamma * np.abs(self.series[i] - self.result[i]) \n",
    "                                               + (1-self.gamma)*self.PredictedDeviation[-1])\n",
    "\n",
    "            self.UpperBond.append(self.result[-1] + \n",
    "                                  self.scaling_factor * \n",
    "                                  self.PredictedDeviation[-1])\n",
    "\n",
    "            self.LowerBond.append(self.result[-1] - \n",
    "                                  self.scaling_factor * \n",
    "                                  self.PredictedDeviation[-1])\n",
    "\n",
    "            self.Smooth.append(smooth)\n",
    "            self.Trend.append(trend)\n",
    "            self.Season.append(seasonals[i % self.slen])"
   ]
  },
  {
   "cell_type": "markdown",
   "metadata": {},
   "source": [
    "Кросс-валидация на временных рядах.\n",
    "\n",
    "Она чуть отличается. Нельзя бить просто на random k-fold. Нельзя мешать данные, так как пропадает вся временная зависимость.\n",
    "Будем делать следующим образом:\n",
    "\n",
    "Берет для train интервал [1; t], а для test [t; t+n]. Затем\n",
    "Для следующемго train возьмем интервал [t; t+n], а для test [t+n, t + 2 * n] и так далее, пока не упремся в конец"
   ]
  },
  {
   "cell_type": "code",
   "execution_count": null,
   "metadata": {
    "collapsed": true
   },
   "outputs": [],
   "source": [
    "def timeseriesCVscore(x):\n",
    "    # вектор ошибок\n",
    "    errors = []\n",
    "\n",
    "    values = data.values\n",
    "    alpha, beta, gamma = x\n",
    "\n",
    "    # задаём число фолдов для кросс-валидации\n",
    "    tscv = TimeSeriesSplit(n_splits=3) \n",
    "\n",
    "    # идем по фолдам, на каждом обучаем модель, строим прогноз на отложенной выборке и считаем ошибку\n",
    "    for train, test in tscv.split(values):\n",
    "\n",
    "        model = HoltWinters(series=values[train], slen = 24, alpha=alpha, beta=beta, gamma=gamma, n_preds=len(test))\n",
    "        model.triple_exponential_smoothing()\n",
    "\n",
    "        predictions = model.result[-len(test):]\n",
    "        actual = values[test]\n",
    "        error = mean_squared_error(predictions, actual)\n",
    "        errors.append(error)\n",
    "\n",
    "    # Возвращаем средний квадрат ошибки по вектору ошибок \n",
    "    return np.mean(np.array(errors))"
   ]
  },
  {
   "cell_type": "code",
   "execution_count": null,
   "metadata": {},
   "outputs": [],
   "source": [
    "%%time\n",
    "data = cpu_ts[:-300]#df.cpu.astype(int)[:-500] # отложим часть данных для тестирования\n",
    "\n",
    "# инициализируем значения параметров\n",
    "x = [0, 0, 0] \n",
    "\n",
    "# Минимизируем функцию потерь с ограничениями на параметры\n",
    "opt = minimize(timeseriesCVscore, x0=x, method=\"TNC\", bounds = ((0, 1), (0, 1), (0, 1)))\n",
    "\n",
    "# Из оптимизатора берем оптимальное значение параметров\n",
    "alpha_final, beta_final, gamma_final = opt.x\n",
    "print(alpha_final, beta_final, gamma_final)"
   ]
  },
  {
   "cell_type": "code",
   "execution_count": null,
   "metadata": {
    "collapsed": true
   },
   "outputs": [],
   "source": [
    "# Передаем оптимальные значения модели, \n",
    "data = cpu_ts\n",
    "model = HoltWinters(data[:-128], slen = 24, alpha = alpha_final, beta = beta_final, gamma = gamma_final, n_preds = 128, scaling_factor = 2.56)\n",
    "model.triple_exponential_smoothing()"
   ]
  },
  {
   "cell_type": "code",
   "execution_count": null,
   "metadata": {},
   "outputs": [],
   "source": [
    "def plotHoltWinters():\n",
    "#     data = d[:100]\n",
    "    Anomalies = np.array([np.NaN]*len(data))\n",
    "    Anomalies[data.values<model.LowerBond] = data.values[data.values<model.LowerBond]\n",
    "    plt.figure(figsize=(25, 10))\n",
    "    plt.plot(model.result, label = \"Model\")\n",
    "    plt.plot(model.UpperBond, \"r--\", alpha=0.5, label = \"Up/Low confidence\")\n",
    "    plt.plot(model.LowerBond, \"r--\", alpha=0.5)\n",
    "    plt.fill_between(x=range(0,len(model.result)), y1=model.UpperBond, y2=model.LowerBond, alpha=0.5, color = \"grey\")\n",
    "    plt.plot(data.values, label = \"Actual\")\n",
    "    plt.plot(Anomalies, \"o\", markersize=10, label = \"Anomalies\")\n",
    "    plt.axvspan(len(data)-128, len(data), alpha=0.5, color='lightgrey')\n",
    "    plt.grid(True)\n",
    "    plt.axis('tight')\n",
    "    plt.legend(loc=\"best\", fontsize=13);\n",
    "\n",
    "plotHoltWinters()"
   ]
  },
  {
   "cell_type": "markdown",
   "metadata": {},
   "source": [
    "график отклонения"
   ]
  },
  {
   "cell_type": "code",
   "execution_count": null,
   "metadata": {},
   "outputs": [],
   "source": [
    "plt.figure(figsize=(25, 5))\n",
    "plt.plot(model.PredictedDeviation)\n",
    "plt.grid(True)\n",
    "plt.axis('tight')\n",
    "plt.title('Brutlag predicted deviation')"
   ]
  },
  {
   "cell_type": "markdown",
   "metadata": {},
   "source": [
    "# Эконометрический подход"
   ]
  },
  {
   "cell_type": "markdown",
   "metadata": {},
   "source": [
    "Для начала посмотрим на белый шум"
   ]
  },
  {
   "cell_type": "code",
   "execution_count": null,
   "metadata": {
    "collapsed": true
   },
   "outputs": [],
   "source": [
    "white_noise = np.random.normal(size=1000)\n",
    "with plt.style.context('bmh'):  \n",
    "    plt.figure(figsize=(15, 5))\n",
    "    plt.plot(white_noise)"
   ]
  },
  {
   "cell_type": "code",
   "execution_count": null,
   "metadata": {
    "collapsed": true
   },
   "outputs": [],
   "source": [
    "def plotProcess(n_samples=1000, rho=0):\n",
    "    x = w = np.random.normal(size=n_samples)\n",
    "    for t in range(n_samples):\n",
    "        x[t] = rho * x[t-1] + w[t]\n",
    "\n",
    "    with plt.style.context('bmh'):  \n",
    "        plt.figure(figsize=(10, 3))\n",
    "        plt.plot(x)\n",
    "        plt.title(\"Rho {}\\n Dickey-Fuller p-value: {}\".format(rho, round(sm.tsa.stattools.adfuller(x)[1], 3)))\n",
    "\n",
    "for rho in [0, 0.6, 0.9, 1]:\n",
    "    plotProcess(rho=rho)"
   ]
  },
  {
   "cell_type": "code",
   "execution_count": null,
   "metadata": {
    "collapsed": true
   },
   "outputs": [],
   "source": [
    "def tsplot(y, lags=None, figsize=(12, 7), style='bmh'):\n",
    "    if not isinstance(y, pd.Series):\n",
    "        y = pd.Series(y)\n",
    "    with plt.style.context(style):    \n",
    "        fig = plt.figure(figsize=figsize)\n",
    "        layout = (2, 2)\n",
    "        ts_ax = plt.subplot2grid(layout, (0, 0), colspan=2)\n",
    "        acf_ax = plt.subplot2grid(layout, (1, 0))\n",
    "        pacf_ax = plt.subplot2grid(layout, (1, 1))\n",
    "\n",
    "        y.plot(ax=ts_ax)\n",
    "        ts_ax.set_title('Time Series Analysis Plots')\n",
    "        smt.graphics.plot_acf(y, lags=lags, ax=acf_ax, alpha=0.5)\n",
    "        smt.graphics.plot_pacf(y, lags=lags, ax=pacf_ax, alpha=0.5)\n",
    "\n",
    "        print(\"Критерий Дики-Фуллера: p=%f\" % sm.tsa.stattools.adfuller(y)[1])\n",
    "\n",
    "        plt.tight_layout()\n",
    "    return \n",
    "\n",
    "tsplot(ts, lags=50)"
   ]
  },
  {
   "cell_type": "markdown",
   "metadata": {},
   "source": [
    "Попытка стабилизации дисперсии при помощи преобразования Бокса-Кокса"
   ]
  },
  {
   "cell_type": "code",
   "execution_count": null,
   "metadata": {},
   "outputs": [],
   "source": [
    "cpu_ts.plot()"
   ]
  },
  {
   "cell_type": "code",
   "execution_count": null,
   "metadata": {
    "collapsed": true
   },
   "outputs": [],
   "source": [
    "aa=scs.boxcox(cpu_ts.astype(float).values) "
   ]
  },
  {
   "cell_type": "code",
   "execution_count": null,
   "metadata": {},
   "outputs": [],
   "source": [
    "pd.Series(data = aa[0], index= cpu_ts.index.values).plot()"
   ]
  },
  {
   "cell_type": "code",
   "execution_count": null,
   "metadata": {
    "collapsed": true
   },
   "outputs": [],
   "source": [
    "def invboxcox(y,lmbda):\n",
    "    # обрабтное преобразование Бокса-Кокса\n",
    "    if lmbda == 0:\n",
    "        return(np.exp(y))\n",
    "    else:\n",
    "        return(np.exp(np.log(lmbda*y+1)/lmbda))\n",
    "\n",
    "# print(df.cpu.astype(float))\n",
    "new_ts, lmbda = scs.boxcox(df.cpu.astype(float).values) \n",
    "# tsplot(new_ts, lags=30)\n",
    "print(\"Оптимальный параметр преобразования Бокса-Кокса: %f\" % lmbda)"
   ]
  },
  {
   "cell_type": "markdown",
   "metadata": {},
   "source": [
    "Если ряд не стационарный, то можно находить разности ( интегрировать) и анализировать получившийся разностный ряд."
   ]
  },
  {
   "cell_type": "code",
   "execution_count": null,
   "metadata": {
    "collapsed": true
   },
   "outputs": [],
   "source": [
    "diff_ts = ts - ts.shift(1)\n",
    "diff2_ts = diff_ts - diff_ts.shift(1)\n",
    "diff3_ts = diff2_ts - diff2_ts.shift(1)\n",
    "# tsplot(diff3_ts, lags=30)"
   ]
  },
  {
   "cell_type": "code",
   "execution_count": null,
   "metadata": {
    "collapsed": true
   },
   "outputs": [],
   "source": [
    "ps = range(0, 5)\n",
    "d=1\n",
    "qs = range(0, 4)\n",
    "Ps = range(0, 5)\n",
    "D=1\n",
    "Qs = range(0, 1)\n",
    "\n",
    "from itertools import product\n",
    "\n",
    "parameters = product(ps, qs, Ps, Qs)\n",
    "parameters_list = list(parameters)\n",
    "len(parameters_list)"
   ]
  },
  {
   "cell_type": "markdown",
   "metadata": {},
   "source": [
    "SARIMA"
   ]
  },
  {
   "cell_type": "code",
   "execution_count": null,
   "metadata": {
    "collapsed": true
   },
   "outputs": [],
   "source": [
    "sm.tsa.statespace.SARIMAX"
   ]
  },
  {
   "cell_type": "code",
   "execution_count": null,
   "metadata": {
    "collapsed": true
   },
   "outputs": [],
   "source": [
    "%%time\n",
    "results = []\n",
    "best_aic = float(\"inf\")\n",
    "for param in tqdm.tqdm(parameters_list):\n",
    "    #try except нужен, потому что на некоторых наборах параметров модель не обучается\n",
    "    try:\n",
    "        model=sm.tsa.statespace.SARIMAX(ts, order=(param[0], d, param[1]), \n",
    "                                        seasonal_order=(param[2], D, param[3], 24*7)).fit(disp=-1)\n",
    "    #выводим параметры, на которых модель не обучается и переходим к следующему набору\n",
    "    except ValueError:\n",
    "        print('wrong parameters:', param)\n",
    "        continue\n",
    "    aic = model.aic\n",
    "    #сохраняем лучшую модель, aic, параметры\n",
    "    if aic < best_aic:\n",
    "        best_model = model\n",
    "        best_aic = aic\n",
    "        best_param = param\n",
    "    results.append([param, model.aic])\n",
    "\n",
    "warnings.filterwarnings('default')\n",
    "\n",
    "result_table = pd.DataFrame(results)\n",
    "result_table.columns = ['parameters', 'aic']\n",
    "print(result_table.sort_values(by = 'aic', ascending=True).head())"
   ]
  },
  {
   "cell_type": "markdown",
   "metadata": {},
   "source": [
    "Лучшие параметры загоняются в модель"
   ]
  },
  {
   "cell_type": "code",
   "execution_count": null,
   "metadata": {
    "collapsed": true
   },
   "outputs": [],
   "source": [
    "%%time\n",
    "best_model = sm.tsa.statespace.SARIMAX(data.Users_box, order=(4, d, 3), \n",
    "                                        seasonal_order=(4, D, 1, 24)).fit(disp=-1)\n",
    "print(best_model.summary()) "
   ]
  },
  {
   "cell_type": "code",
   "execution_count": null,
   "metadata": {
    "collapsed": true
   },
   "outputs": [],
   "source": [
    "Hts = ts.resample('W').mean()\n",
    "Sts = ts.resample('S').mean()"
   ]
  },
  {
   "cell_type": "code",
   "execution_count": null,
   "metadata": {
    "collapsed": true
   },
   "outputs": [],
   "source": [
    "plotly_df(Hts)"
   ]
  },
  {
   "cell_type": "code",
   "execution_count": null,
   "metadata": {
    "collapsed": true
   },
   "outputs": [],
   "source": [
    "# plotly_df(Sts)"
   ]
  },
  {
   "cell_type": "code",
   "execution_count": null,
   "metadata": {
    "collapsed": true
   },
   "outputs": [],
   "source": [
    "prediction = 30\n",
    "data = pd.DataFrame()\n",
    "data['ds'] = ts.index\n",
    "data['y'] = ts.reset_index(drop=True)\n",
    "\n",
    "data.tail()"
   ]
  },
  {
   "cell_type": "code",
   "execution_count": null,
   "metadata": {
    "collapsed": true
   },
   "outputs": [],
   "source": [
    "train_df = data#[:-prediction]"
   ]
  },
  {
   "cell_type": "code",
   "execution_count": null,
   "metadata": {
    "collapsed": true
   },
   "outputs": [],
   "source": [
    "from fbprophet import Prophet"
   ]
  },
  {
   "cell_type": "code",
   "execution_count": null,
   "metadata": {
    "collapsed": true
   },
   "outputs": [],
   "source": [
    "m = Prophet(yearly_seasonality=False)\n",
    "m.fit(train_df)"
   ]
  },
  {
   "cell_type": "code",
   "execution_count": null,
   "metadata": {
    "collapsed": true
   },
   "outputs": [],
   "source": [
    "train_df.shape"
   ]
  },
  {
   "cell_type": "code",
   "execution_count": null,
   "metadata": {
    "collapsed": true
   },
   "outputs": [],
   "source": [
    "interpol = m.predict(df=train_df)"
   ]
  },
  {
   "cell_type": "code",
   "execution_count": null,
   "metadata": {
    "collapsed": true
   },
   "outputs": [],
   "source": [
    "m.plot(interpol)"
   ]
  },
  {
   "cell_type": "code",
   "execution_count": null,
   "metadata": {
    "collapsed": true
   },
   "outputs": [],
   "source": [
    "m.plot_components(interpol)"
   ]
  },
  {
   "cell_type": "code",
   "execution_count": null,
   "metadata": {
    "collapsed": true
   },
   "outputs": [],
   "source": [
    "future = m.make_future_dataframe(periods=30)\n",
    "future.tail()"
   ]
  },
  {
   "cell_type": "code",
   "execution_count": null,
   "metadata": {
    "collapsed": true
   },
   "outputs": [],
   "source": [
    "forecast = m.predict(future)\n",
    "forecast.tail()"
   ]
  },
  {
   "cell_type": "code",
   "execution_count": null,
   "metadata": {
    "collapsed": true
   },
   "outputs": [],
   "source": [
    "m.plot(forecast)"
   ]
  },
  {
   "cell_type": "code",
   "execution_count": null,
   "metadata": {
    "collapsed": true
   },
   "outputs": [],
   "source": [
    "m.plot_components(forecast)"
   ]
  },
  {
   "cell_type": "code",
   "execution_count": null,
   "metadata": {
    "collapsed": true
   },
   "outputs": [],
   "source": []
  },
  {
   "cell_type": "code",
   "execution_count": null,
   "metadata": {
    "collapsed": true
   },
   "outputs": [],
   "source": []
  },
  {
   "cell_type": "code",
   "execution_count": null,
   "metadata": {
    "collapsed": true
   },
   "outputs": [],
   "source": [
    "from scipy.fftpack import fftshift, rfftfreq, rfft\n",
    "from scipy import fft, arange"
   ]
  },
  {
   "cell_type": "code",
   "execution_count": null,
   "metadata": {
    "collapsed": true
   },
   "outputs": [],
   "source": [
    "def plotSpectrum(y,Fs):\n",
    "    import math\n",
    "    n = len(y)\n",
    "    k = np.arange(n)\n",
    "    T = n/Fs\n",
    "    frq = k/T # two sides frequency range\n",
    "    frq = frq[range(int(n/2))] # one side frequency range\n",
    "\n",
    "    Y = fft(y)/n # fft computing and normalization\n",
    "    Y = Y[range(int(n/2))]\n",
    "\n",
    "    plt.plot(frq, abs(Y),'r') # plotting the spectrum\n",
    "    plt.xlabel('Freq (Hz)')\n",
    "    plt.ylabel('|Y(freq)|')\n",
    "\n",
    "    Fs = 150.0;  # sampling rate\n",
    "    Ts = 1.0/Fs; # sampling interval\n",
    "    t = arange(0,1,Ts) # time vector\n",
    "\n",
    "    ff = 5;   # frequency of the signal\n",
    "    y = np.sin(2*np.pi*ff*t)\n",
    "\n",
    "plt.subplot(1,2,1)\n",
    "ts.plot()\n",
    "plt.xlabel('Time')\n",
    "plt.ylabel('Amplitude')\n",
    "plt.subplot(1,2,2)\n",
    "plotSpectrum(ts,150.0)\n",
    "plt.show()"
   ]
  },
  {
   "cell_type": "code",
   "execution_count": null,
   "metadata": {
    "collapsed": true
   },
   "outputs": [],
   "source": []
  },
  {
   "cell_type": "code",
   "execution_count": null,
   "metadata": {
    "collapsed": true
   },
   "outputs": [],
   "source": []
  },
  {
   "cell_type": "code",
   "execution_count": null,
   "metadata": {
    "collapsed": true
   },
   "outputs": [],
   "source": []
  },
  {
   "cell_type": "code",
   "execution_count": null,
   "metadata": {
    "collapsed": true
   },
   "outputs": [],
   "source": []
  },
  {
   "cell_type": "code",
   "execution_count": null,
   "metadata": {
    "collapsed": true,
    "scrolled": false
   },
   "outputs": [],
   "source": [
    "i = 0\n",
    "for ip in cpuUtil.ip.unique():\n",
    "    df = cpuUtil[cpuUtil.ip == ip]\n",
    "    tf = memUtil[memUtil.ip == ip]\n",
    "    maxx = df.cpu.astype(int).values.max()\n",
    "    minn = df.cpu.astype(int).values.min()\n",
    "    \n",
    "    if True: #tf.mem.astype(float).values.shape[0]:\n",
    "        \n",
    "#         print('CPU')\n",
    "#         result = adfuller(df.cpu.astype(int).values)\n",
    "#         print('ADF Statistic: %f' % result[0])\n",
    "#         print('p-value: %f' % result[1])\n",
    "#         print('Critical Values:')\n",
    "#         for key, value in result[4].items():\n",
    "#             print('\\t%s: %.3f' % (key, value))\n",
    "        \n",
    "        ts = pd.Series(data=df.cpu.astype(int).values, index=df.date.values)\n",
    "        f, axes = plt.subplots(2, 2, figsize=(17,7))\n",
    "        axes[0,0].set_ylim([minn-1, maxx+1])\n",
    "        ts.plot(ax=axes[0,0])\n",
    "        axes[0,1].set_ylim([-1, 1])\n",
    "        autocorrelation_plot(df.cpu.astype(int).values, axes[0,1])\n",
    "  \n",
    "        ts1\n",
    "        \n",
    "#         ts1 = pd.Series(data=tf.mem.astype(float).values, index=tf.date.values)\n",
    "#         maxx = tf.mem.astype(float).values.max()\n",
    "#         minn = tf.mem.astype(float).values.min()\n",
    "#         axes[1,0].set_ylim([minn-1, maxx+1])\n",
    "#         ts1.plot(ax=axes[1,0])\n",
    "#         axes[1,1].set_ylim([-1, 1])\n",
    "#         autocorrelation_plot(tf.mem.astype(float).values, axes[1,1])\n",
    "        \n",
    "#         print('MEM')\n",
    "#         result = adfuller(tf.mem.astype(float).values)\n",
    "#         print('ADF Statistic: %f' % result[0])\n",
    "#         print('p-value: %f' % result[1])\n",
    "#         print('Critical Values:')\n",
    "#         for key, value in result[4].items():\n",
    "#             print('\\t%s: %.3f' % (key, value))\n",
    "        \n",
    "    else:\n",
    "        pass\n",
    "        \n",
    "#         print('CPU')\n",
    "#         result = adfuller(df.cpu.astype(int).values)\n",
    "#         print('ADF Statistic: %f' % result[0])\n",
    "#         print('p-value: %f' % result[1])\n",
    "#         print('Critical Values:')\n",
    "#         for key, value in result[4].items():\n",
    "#             print('\\t%s: %.3f' % (key, value))\n",
    "        \n",
    "#         ts = pd.Series(data=df.cpu.astype(int).values, index=df.date.values)\n",
    "#         f, axes = plt.subplots(1, 2, figsize=(17,7))\n",
    "#         axes[0].set_ylim([minn-1, maxx+1])\n",
    "#         ts.plot(ax=axes[0])\n",
    "#         axes[1].set_ylim([-1, 1])\n",
    "#         autocorrelation_plot(df.cpu.astype(int).values, axes[1])\n",
    "    \n",
    "    i += 1\n",
    "    \n",
    "    if i == 2:\n",
    "        break"
   ]
  },
  {
   "cell_type": "code",
   "execution_count": null,
   "metadata": {
    "collapsed": true
   },
   "outputs": [],
   "source": [
    "from statsmodels.tsa.seasonal import seasonal_decompose\n",
    "import statsmodels.api as sm"
   ]
  },
  {
   "cell_type": "code",
   "execution_count": null,
   "metadata": {
    "collapsed": true
   },
   "outputs": [],
   "source": [
    "df.reset_index(inplace=True)\n",
    "df['Date'] = pd.to_datetime(df['date'])\n",
    "df = df.set_index('date')"
   ]
  },
  {
   "cell_type": "code",
   "execution_count": null,
   "metadata": {
    "collapsed": true
   },
   "outputs": [],
   "source": [
    "type(df.index[0])"
   ]
  },
  {
   "cell_type": "code",
   "execution_count": null,
   "metadata": {
    "collapsed": true
   },
   "outputs": [],
   "source": [
    "df.head()"
   ]
  },
  {
   "cell_type": "code",
   "execution_count": null,
   "metadata": {
    "collapsed": true
   },
   "outputs": [],
   "source": [
    "print(df['cpu'].index)"
   ]
  },
  {
   "cell_type": "code",
   "execution_count": null,
   "metadata": {
    "collapsed": true
   },
   "outputs": [],
   "source": [
    "result = sm.tsa.seasonal_decompose(df.cpu)"
   ]
  },
  {
   "cell_type": "code",
   "execution_count": null,
   "metadata": {
    "collapsed": true
   },
   "outputs": [],
   "source": [
    "plt.figure(figsize=(20,20))\n",
    "shape = df.timestamp.shape[0]\n",
    "print(shape)\n",
    "x = range(1, shape+1)\n",
    "plt.xticks(x, list(df.date), rotation='vertical')\n",
    "plt.plot(x, list(df.cpu.values))"
   ]
  },
  {
   "cell_type": "code",
   "execution_count": null,
   "metadata": {
    "collapsed": true
   },
   "outputs": [],
   "source": [
    "subset = cpuUtil.ip.isin(cpuUtil.ip.unique()[:10])"
   ]
  },
  {
   "cell_type": "code",
   "execution_count": null,
   "metadata": {
    "collapsed": true
   },
   "outputs": [],
   "source": [
    "cpuUtil.ip.unique()[:10]"
   ]
  },
  {
   "cell_type": "code",
   "execution_count": null,
   "metadata": {
    "collapsed": true,
    "scrolled": false
   },
   "outputs": [],
   "source": [
    "g = sns.FacetGrid(cpuUtil[subset], row=\"ip\",  size=2)\n",
    "g.map(plt.plot_date, 'date', 'cpu').set_axis_labels(\"date\", \"cpu\")\n",
    "formatter = mpl.dates.DateFormatter('%d-%b-%y %I.%M.%S.%f')\n",
    "g.set_xticklabels(rotation=90)\n",
    "# g.set_major_formatter(formatter)"
   ]
  },
  {
   "cell_type": "code",
   "execution_count": null,
   "metadata": {
    "collapsed": true
   },
   "outputs": [],
   "source": []
  },
  {
   "cell_type": "code",
   "execution_count": null,
   "metadata": {
    "collapsed": true
   },
   "outputs": [],
   "source": [
    "root = './../Downloads/ciscoSwitch/interfacesSamples/'\n",
    "out_util = []\n",
    "in_util = []\n",
    "for file in os.listdir(root):\n",
    "    if os.path.isdir(os.path.join(root, file)):\n",
    "        ip = file\n",
    "        for fl in os.listdir(os.path.join(root, file)):\n",
    "            if fl.find('outUtil') != -1:\n",
    "                cols = ['timestamp', 'out_util']\n",
    "            else:\n",
    "                cols = ['timestamp', 'in_util']\n",
    "            \n",
    "            df = pd.read_csv(\n",
    "                os.path.join(root,file,fl),\n",
    "                sep=',',\n",
    "                encoding='utf-8',\n",
    "                dtype='str',\n",
    "                names=cols\n",
    "            )\n",
    "            df['ip'] = ip\n",
    "            if fl.find('outUtil') != -1:\n",
    "                out_util.append(df)\n",
    "            else:\n",
    "                in_util.append(df)\n",
    "            \n",
    "outUtil = pd.concat(out_util, ignore_index=True)\n",
    "inUtil = pd.concat(in_util, ignore_index=True)"
   ]
  },
  {
   "cell_type": "code",
   "execution_count": null,
   "metadata": {
    "collapsed": true
   },
   "outputs": [],
   "source": [
    "a_cpu = cpuUtil.groupby(by='ip').cpu.value_counts()"
   ]
  },
  {
   "cell_type": "code",
   "execution_count": null,
   "metadata": {
    "collapsed": true
   },
   "outputs": [],
   "source": [
    "a_cpu.head()"
   ]
  },
  {
   "cell_type": "code",
   "execution_count": null,
   "metadata": {
    "collapsed": true
   },
   "outputs": [],
   "source": [
    "a_time = cpuUtil.groupby(by='ip').timestamp.count()"
   ]
  },
  {
   "cell_type": "code",
   "execution_count": null,
   "metadata": {
    "collapsed": true
   },
   "outputs": [],
   "source": [
    "a = a_time.reset_index()"
   ]
  },
  {
   "cell_type": "code",
   "execution_count": null,
   "metadata": {
    "collapsed": true
   },
   "outputs": [],
   "source": [
    "a.head()"
   ]
  },
  {
   "cell_type": "code",
   "execution_count": null,
   "metadata": {
    "collapsed": true
   },
   "outputs": [],
   "source": [
    "a.timestamp.max()"
   ]
  },
  {
   "cell_type": "code",
   "execution_count": null,
   "metadata": {
    "collapsed": true
   },
   "outputs": [],
   "source": []
  },
  {
   "cell_type": "code",
   "execution_count": null,
   "metadata": {
    "collapsed": true
   },
   "outputs": [],
   "source": [
    "dd = pd.DataFrame(columns=['count_mesure', 'count_ip'])\n",
    "step = 1\n",
    "x = np.arange(0,2000,step)\n",
    "for i, val in enumerate(x):\n",
    "    dd.loc[i] = [i, a.loc[a.timestamp>i, 'ip'].count()]\n",
    "#     y.append(a.loc[a.timestamp>i, 'ip'].count())"
   ]
  },
  {
   "cell_type": "code",
   "execution_count": null,
   "metadata": {
    "collapsed": true
   },
   "outputs": [],
   "source": [
    "dd.head()"
   ]
  },
  {
   "cell_type": "code",
   "execution_count": null,
   "metadata": {
    "collapsed": true
   },
   "outputs": [],
   "source": [
    "sns.distplot(dd.count_ip, bins=40)"
   ]
  },
  {
   "cell_type": "code",
   "execution_count": null,
   "metadata": {
    "collapsed": true
   },
   "outputs": [],
   "source": [
    "sns.distplot(dd.count_mesure)"
   ]
  },
  {
   "cell_type": "code",
   "execution_count": null,
   "metadata": {
    "collapsed": true
   },
   "outputs": [],
   "source": [
    "all_ip = set(cpuUtil.ip.unique()) | set(memUtil.ip.unique()) | set(outUtil.ip.unique())  | set(inUtil.ip.unique())"
   ]
  },
  {
   "cell_type": "code",
   "execution_count": null,
   "metadata": {
    "collapsed": true
   },
   "outputs": [],
   "source": [
    "all_timestamp = set(cpuUtil.timestamp.unique()) | set(memUtil.timestamp.unique()) | set(outUtil.timestamp.unique())  | set(inUtil.timestamp.unique())"
   ]
  },
  {
   "cell_type": "code",
   "execution_count": null,
   "metadata": {
    "collapsed": true
   },
   "outputs": [],
   "source": [
    "aa = list(all_timestamp)\n",
    "all_ip = list(all_ip)"
   ]
  },
  {
   "cell_type": "code",
   "execution_count": null,
   "metadata": {
    "collapsed": true
   },
   "outputs": [],
   "source": [
    "res = []\n",
    "for ip in all_ip:\n",
    "#     print(ip)\n",
    "    df = pd.DataFrame()\n",
    "    df['timestamp'] = aa[:5000]\n",
    "    df['ip'] = ip\n",
    "    res.append(df)"
   ]
  },
  {
   "cell_type": "code",
   "execution_count": null,
   "metadata": {
    "collapsed": true
   },
   "outputs": [],
   "source": [
    "df = pd.concat(res, ignore_index=True)"
   ]
  },
  {
   "cell_type": "code",
   "execution_count": null,
   "metadata": {
    "collapsed": true
   },
   "outputs": [],
   "source": [
    "df.head()"
   ]
  },
  {
   "cell_type": "code",
   "execution_count": null,
   "metadata": {
    "collapsed": true
   },
   "outputs": [],
   "source": [
    "r = pd.merge(df, cpuUtil, on=['timestamp','ip'], how='left')\n",
    "r = pd.merge(r, memUtil, on=['timestamp','ip'], how='left')\n",
    "r = pd.merge(r, inUtil, on=['timestamp','ip'], how='left')\n",
    "r = pd.merge(r, outUtil, on=['timestamp','ip'], how='left')"
   ]
  },
  {
   "cell_type": "code",
   "execution_count": null,
   "metadata": {
    "collapsed": true
   },
   "outputs": [],
   "source": [
    "r.fillna(-1, inplace=True)"
   ]
  },
  {
   "cell_type": "code",
   "execution_count": null,
   "metadata": {
    "collapsed": true
   },
   "outputs": [],
   "source": [
    "r.head()"
   ]
  },
  {
   "cell_type": "code",
   "execution_count": null,
   "metadata": {
    "collapsed": true
   },
   "outputs": [],
   "source": [
    "df = r.copy(deep=True)"
   ]
  },
  {
   "cell_type": "code",
   "execution_count": null,
   "metadata": {
    "collapsed": true
   },
   "outputs": [],
   "source": [
    "df['date'] = df.timestamp.apply(lambda x: datetime.utcfromtimestamp(int(x)/1000000))"
   ]
  },
  {
   "cell_type": "code",
   "execution_count": null,
   "metadata": {
    "collapsed": true
   },
   "outputs": [],
   "source": [
    "df.date.iloc[0]"
   ]
  },
  {
   "cell_type": "code",
   "execution_count": null,
   "metadata": {
    "collapsed": true
   },
   "outputs": [],
   "source": [
    "df.date.iloc[0].year"
   ]
  },
  {
   "cell_type": "code",
   "execution_count": null,
   "metadata": {
    "collapsed": true
   },
   "outputs": [],
   "source": [
    "df['year'] = df.date.apply(lambda x: x.year)\n",
    "df['month'] = df.date.apply(lambda x: x.month)\n",
    "df['day'] = df.date.apply(lambda x: x.day)\n",
    "df['hour'] = df.date.apply(lambda x: x.hour)\n",
    "df['minute'] = df.date.apply(lambda x: x.minute)\n",
    "df['second'] = df.date.apply(lambda x: x.second)"
   ]
  },
  {
   "cell_type": "code",
   "execution_count": null,
   "metadata": {
    "collapsed": true
   },
   "outputs": [],
   "source": [
    "df.date = df.date.apply(lambda x: pd.Timestamp(x).to_pydatetime())"
   ]
  },
  {
   "cell_type": "code",
   "execution_count": null,
   "metadata": {
    "collapsed": true
   },
   "outputs": [],
   "source": [
    "mapping = {\n",
    "    0:'mon',\n",
    "    1:'tue',\n",
    "    2:'wed',\n",
    "    3:'thu',\n",
    "    4:'fri',\n",
    "    5:'sat',\n",
    "    6:'sun'\n",
    "}\n",
    "df['week_day'] = df.date.apply(lambda x: mapping[x.weekday()])"
   ]
  },
  {
   "cell_type": "code",
   "execution_count": null,
   "metadata": {
    "collapsed": true
   },
   "outputs": [],
   "source": [
    "df.ip.head()"
   ]
  },
  {
   "cell_type": "code",
   "execution_count": null,
   "metadata": {
    "collapsed": true
   },
   "outputs": [],
   "source": [
    "df['mask1'] = df.ip.apply(lambda x: x.split('.')[0])\n",
    "df['mask2'] = df.ip.apply(lambda x: '.'.join(x.split('.')[:2]))\n",
    "df['mask3'] = df.ip.apply(lambda x: '.'.join(x.split('.')[:3]))"
   ]
  },
  {
   "cell_type": "code",
   "execution_count": null,
   "metadata": {
    "collapsed": true
   },
   "outputs": [],
   "source": [
    "df.head()"
   ]
  },
  {
   "cell_type": "code",
   "execution_count": null,
   "metadata": {
    "collapsed": true
   },
   "outputs": [],
   "source": [
    "aggr_cpu = df[['ip','cpu']]"
   ]
  },
  {
   "cell_type": "code",
   "execution_count": null,
   "metadata": {
    "collapsed": true
   },
   "outputs": [],
   "source": [
    "a_cpu = aggr_cpu.groupby(by='ip').cpu.value_counts()"
   ]
  },
  {
   "cell_type": "code",
   "execution_count": null,
   "metadata": {
    "collapsed": true
   },
   "outputs": [],
   "source": [
    "a_cpu"
   ]
  },
  {
   "cell_type": "code",
   "execution_count": null,
   "metadata": {
    "collapsed": true
   },
   "outputs": [],
   "source": [
    "df.ip.unique()[:3]"
   ]
  },
  {
   "cell_type": "code",
   "execution_count": null,
   "metadata": {
    "collapsed": true
   },
   "outputs": [],
   "source": [
    "df.date.iloc[0]"
   ]
  },
  {
   "cell_type": "code",
   "execution_count": null,
   "metadata": {
    "collapsed": true
   },
   "outputs": [],
   "source": [
    "mask = df.ip =='10.10.90.3'\n",
    "# dates = mpl.dates.date2num(df.date[mask].apply(lambda x: pd.Timestamp(x).to_pydatetime()))\n",
    "plt.plot_date(df.date[mask], df.cpu[mask])"
   ]
  },
  {
   "cell_type": "code",
   "execution_count": null,
   "metadata": {
    "collapsed": true
   },
   "outputs": [],
   "source": [
    "# # sns.tsplot(data = df.cpu[mask], time = df.timestamp[mask].astype(int))\n",
    "dd = df[mask]\n",
    "print(dd.shape)\n",
    "fig, ax = plt.subplots()\n",
    "sns.tsplot(dd, time='date', value='cpu', ax=ax)"
   ]
  },
  {
   "cell_type": "code",
   "execution_count": null,
   "metadata": {
    "collapsed": true
   },
   "outputs": [],
   "source": [
    "pd.Timestamp(r).to_pydatetime()"
   ]
  },
  {
   "cell_type": "code",
   "execution_count": null,
   "metadata": {
    "collapsed": true
   },
   "outputs": [],
   "source": [
    "import time\n",
    "import datetime\n",
    "a = datetime.datetime.fromtimestamp(int(1506834915978982)/1000000)\n",
    "b = datetime.datetime.fromtimestamp(int(1506835215987004)/1000000)\n",
    "# human_uptime = str(datetime.timedelta(b-a))\n",
    "print((b-a).days)\n",
    "print((b-a).seconds)\n",
    "print((b-a).microseconds)\n",
    "b-a\n",
    "\n",
    "unshift = cpuUtil.date.values[:-1]\n",
    "shift_one = cpuUtil.date.values[1:]\n",
    "cpu = cpuUtil.values[:-1]\n",
    "timestamp = cpuUtil.timestamp[:-1]\n",
    "\n",
    "df = pd.DataFrame()\n",
    "df['timestamp'] = timestamp\n",
    "# df['cpu'] = cpu\n",
    "df['date1'] = unshift\n",
    "df['date2'] = shift_one\n",
    "df['diff'] = df.date2 - df.date1\n",
    "df['diff_days'] = df['diff'].apply(lambda x: x.days)\n",
    "df['diff_seconds'] = df['diff'].apply(lambda x: x.seconds)\n",
    "df['diff_microseconds'] = df['diff'].apply(lambda x: x.microseconds)\n",
    "\n",
    "\n",
    "print(len(cpu))"
   ]
  },
  {
   "cell_type": "code",
   "execution_count": null,
   "metadata": {
    "collapsed": true
   },
   "outputs": [],
   "source": [
    "df.shape"
   ]
  },
  {
   "cell_type": "code",
   "execution_count": null,
   "metadata": {
    "collapsed": true
   },
   "outputs": [],
   "source": [
    "df"
   ]
  },
  {
   "cell_type": "code",
   "execution_count": null,
   "metadata": {
    "collapsed": true
   },
   "outputs": [],
   "source": [
    "plt.figure(figsize=(12,12))\n",
    "plt.plot_date(cpuUtil.timestamp.astype(int)/1000000000, cpuUtil.cpu)"
   ]
  }
 ],
 "metadata": {
  "kernelspec": {
   "display_name": "Python 3",
   "language": "python",
   "name": "python3"
  },
  "language_info": {
   "codemirror_mode": {
    "name": "ipython",
    "version": 3
   },
   "file_extension": ".py",
   "mimetype": "text/x-python",
   "name": "python",
   "nbconvert_exporter": "python",
   "pygments_lexer": "ipython3",
   "version": "3.6.2"
  }
 },
 "nbformat": 4,
 "nbformat_minor": 2
}
