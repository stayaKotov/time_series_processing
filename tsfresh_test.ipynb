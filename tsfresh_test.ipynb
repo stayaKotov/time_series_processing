{
 "cells": [
  {
   "cell_type": "code",
   "execution_count": 1,
   "metadata": {},
   "outputs": [
    {
     "name": "stderr",
     "output_type": "stream",
     "text": [
      "/anaconda3/lib/python3.6/site-packages/statsmodels/compat/pandas.py:56: FutureWarning: The pandas.core.datetools module is deprecated and will be removed in a future version. Please use the pandas.tseries module instead.\n",
      "  from pandas.core import datetools\n"
     ]
    }
   ],
   "source": [
    "import tsfresh"
   ]
  },
  {
   "cell_type": "code",
   "execution_count": 9,
   "metadata": {
    "collapsed": true
   },
   "outputs": [],
   "source": [
    "tsfresh.extract_features?"
   ]
  },
  {
   "cell_type": "code",
   "execution_count": 13,
   "metadata": {},
   "outputs": [
    {
     "name": "stderr",
     "output_type": "stream",
     "text": [
      "Feature Extraction: 100%|██████████| 10/10 [01:10<00:00,  7.05s/it]\n"
     ]
    }
   ],
   "source": [
    "from tsfresh.examples import robot_execution_failures\n",
    "from tsfresh.examples import load_robot_execution_failures\n",
    "from tsfresh import extract_features\n",
    "df, _ = load_robot_execution_failures()\n",
    "X = extract_features(df, column_id='id', column_sort='time')"
   ]
  },
  {
   "cell_type": "code",
   "execution_count": 12,
   "metadata": {
    "collapsed": true
   },
   "outputs": [],
   "source": [
    "robot_execution_failures.download_robot_execution_failures()"
   ]
  },
  {
   "cell_type": "code",
   "execution_count": 2,
   "metadata": {
    "collapsed": true
   },
   "outputs": [],
   "source": [
    "import pandas as pd"
   ]
  },
  {
   "cell_type": "code",
   "execution_count": 7,
   "metadata": {},
   "outputs": [
    {
     "data": {
      "text/plain": [
       "['ABCSeries',\n",
       " 'AmbiguousTimeError',\n",
       " 'BDay',\n",
       " 'BMonthBegin',\n",
       " 'BMonthEnd',\n",
       " 'BQuarterBegin',\n",
       " 'BQuarterEnd',\n",
       " 'BYearBegin',\n",
       " 'BYearEnd',\n",
       " 'CDay',\n",
       " 'DAYS',\n",
       " 'DateOffset',\n",
       " 'Day',\n",
       " 'FreqGroup',\n",
       " 'Hour',\n",
       " 'MONTHS',\n",
       " 'Micro',\n",
       " 'Milli',\n",
       " 'Minute',\n",
       " 'MonthBegin',\n",
       " 'MonthEnd',\n",
       " 'Nano',\n",
       " 'QuarterBegin',\n",
       " 'QuarterEnd',\n",
       " 'RESO_DAY',\n",
       " 'RESO_HR',\n",
       " 'RESO_MIN',\n",
       " 'RESO_MS',\n",
       " 'RESO_NS',\n",
       " 'RESO_SEC',\n",
       " 'RESO_US',\n",
       " 'Resolution',\n",
       " 'Second',\n",
       " 'Timedelta',\n",
       " 'Week',\n",
       " 'YearBegin',\n",
       " 'YearEnd',\n",
       " '_FrequencyInferer',\n",
       " '_INVALID_FREQ_ERROR',\n",
       " '_ONE_DAY',\n",
       " '_ONE_HOUR',\n",
       " '_ONE_MICRO',\n",
       " '_ONE_MILLI',\n",
       " '_ONE_MINUTE',\n",
       " '_ONE_SECOND',\n",
       " '_TimedeltaFrequencyInferer',\n",
       " '__builtins__',\n",
       " '__cached__',\n",
       " '__doc__',\n",
       " '__file__',\n",
       " '__loader__',\n",
       " '__name__',\n",
       " '__package__',\n",
       " '__prefix',\n",
       " '__spec__',\n",
       " '_alias',\n",
       " '_base_and_stride',\n",
       " '_d',\n",
       " '_days',\n",
       " '_dont_uppercase',\n",
       " '_get_freq_str',\n",
       " '_get_rule_month',\n",
       " '_is_annual',\n",
       " '_is_monthly',\n",
       " '_is_multiple',\n",
       " '_is_quarterly',\n",
       " '_is_weekly',\n",
       " '_lite_rule_alias',\n",
       " '_m',\n",
       " '_maybe_add_count',\n",
       " '_maybe_coerce_freq',\n",
       " '_month_aliases',\n",
       " '_month_numbers',\n",
       " '_name_to_offset_map',\n",
       " '_offset_map',\n",
       " '_offset_to_period_map',\n",
       " '_period_code_map',\n",
       " '_period_str_to_code',\n",
       " '_quarter_months_conform',\n",
       " '_reverse_period_code_map',\n",
       " '_weekday_rule_aliases',\n",
       " 'algos',\n",
       " 'cache_readonly',\n",
       " 'cday',\n",
       " 'compat',\n",
       " 'deprecate_kwarg',\n",
       " 'getOffset',\n",
       " 'get_base_alias',\n",
       " 'get_freq',\n",
       " 'get_freq_code',\n",
       " 'get_freq_group',\n",
       " 'get_offset',\n",
       " 'get_period_alias',\n",
       " 'get_standard_freq',\n",
       " 'get_to_timestamp_base',\n",
       " 'infer_freq',\n",
       " 'is_datetime64_dtype',\n",
       " 'is_period_arraylike',\n",
       " 'is_subperiod',\n",
       " 'is_superperiod',\n",
       " 'is_timedelta64_dtype',\n",
       " 'lib',\n",
       " 'long',\n",
       " 'need_suffix',\n",
       " 'np',\n",
       " 'offsets',\n",
       " 'opattern',\n",
       " 'prefix_mapping',\n",
       " 're',\n",
       " 'timedelta',\n",
       " 'to_offset',\n",
       " 'tslib',\n",
       " 'unique',\n",
       " 'warnings',\n",
       " 'zip']"
      ]
     },
     "execution_count": 7,
     "metadata": {},
     "output_type": "execute_result"
    }
   ],
   "source": [
    "dir(pd.tseries.frequencies)"
   ]
  }
 ],
 "metadata": {
  "kernelspec": {
   "display_name": "Python 3",
   "language": "python",
   "name": "python3"
  },
  "language_info": {
   "codemirror_mode": {
    "name": "ipython",
    "version": 3
   },
   "file_extension": ".py",
   "mimetype": "text/x-python",
   "name": "python",
   "nbconvert_exporter": "python",
   "pygments_lexer": "ipython3",
   "version": "3.6.2"
  }
 },
 "nbformat": 4,
 "nbformat_minor": 2
}
