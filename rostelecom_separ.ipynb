{
 "cells": [
  {
   "cell_type": "code",
   "execution_count": null,
   "metadata": {},
   "outputs": [],
   "source": [
    "%matplotlib inline\n",
    "import pandas as pd\n",
    "import numpy as np\n",
    "import matplotlib as mpl\n",
    "import matplotlib.pyplot as plt\n",
    "import seaborn as sns\n",
    "import matplotlib.pylab as pylab\n",
    "from datetime import datetime\n",
    "import datetime as datet\n",
    "import os\n",
    "import sys\n",
    "from pandas.plotting import autocorrelation_plot\n",
    "from statsmodels.tsa.stattools import adfuller\n",
    "\n",
    "import astropy.stats as ast_stats\n",
    "\n",
    "import pyflux as pf\n",
    "\n",
    "import traces\n",
    "\n",
    "import warnings\n",
    "warnings.filterwarnings('ignore')\n",
    "import tqdm\n",
    "\n",
    "from sklearn.metrics import mean_absolute_error, mean_squared_error\n",
    "\n",
    "import statsmodels.formula.api as smf\n",
    "import statsmodels.tsa.api as smt\n",
    "import statsmodels.api as sm\n",
    "import scipy.stats as scs\n",
    "from scipy.optimize import minimize\n",
    "\n",
    "\n",
    "from pykalman import KalmanFilter\n",
    "\n",
    "from plotly.offline import download_plotlyjs, init_notebook_mode, plot, iplot\n",
    "from plotly import graph_objs as go\n",
    "init_notebook_mode(connected = True)\n",
    "\n",
    "from sklearn.model_selection import TimeSeriesSplit\n",
    "\n",
    "from scipy import integrate\n",
    "\n",
    "from numpy import array, arange, abs as np_abs\n",
    "from numpy.fft import rfft, rfftfreq\n",
    "\n",
    "import stldecompose\n",
    "\n",
    "plt.rcParams['figure.figsize'] = (10, 8)\n",
    "\n",
    "import scipy"
   ]
  },
  {
   "cell_type": "code",
   "execution_count": null,
   "metadata": {
    "collapsed": true
   },
   "outputs": [],
   "source": [
    "def plotly_df(df, title = ''):\n",
    "    data = []\n",
    "    column = 'cpu'\n",
    "    trace = go.Scatter(\n",
    "        x = df.index,\n",
    "        y = df.values,\n",
    "        mode = 'lines',\n",
    "        name = column\n",
    "    )\n",
    "    data.append(trace)\n",
    "\n",
    "    layout = dict(title = title)\n",
    "    fig = dict(data = data, layout = layout)\n",
    "    iplot(fig, show_link=False)"
   ]
  },
  {
   "cell_type": "code",
   "execution_count": null,
   "metadata": {
    "collapsed": true
   },
   "outputs": [],
   "source": [
    "def load_files_from_folder(files_name, col_name, root='./../../Downloads/ciscoSwitch/attributes/'):\n",
    "    datas = []\n",
    "    for file in os.listdir(root):\n",
    "        if os.path.isdir(os.path.join(root, file)):\n",
    "            ip = file\n",
    "            for fl in os.listdir(os.path.join(root, file)):\n",
    "                cols = ['timestamp', col_name]\n",
    "                if files_name in fl:\n",
    "                    df = pd.read_csv(\n",
    "                        os.path.join(root,file,fl),\n",
    "                        sep=',',\n",
    "                        encoding='utf-8',\n",
    "                        dtype='str',\n",
    "                        names=cols\n",
    "                    )\n",
    "                    df['ip'] = ip\n",
    "                    datas.append(df)\n",
    "    return pd.concat(datas, ignore_index=True, axis=0)"
   ]
  },
  {
   "cell_type": "code",
   "execution_count": null,
   "metadata": {
    "collapsed": true
   },
   "outputs": [],
   "source": [
    "def split_date_and_set_week(df, col_name):\n",
    "    mapping = {0:'mon', 1:'tue', 2:'wed', 3:'thu', 4:'fri', 5:'sat', 6:'sun'}\n",
    "    weeknum_mapping = {\n",
    "        range(1,8):'0',\n",
    "        range(8,15):'1',\n",
    "        range(15,22):'2',\n",
    "        range(22,29):'3',\n",
    "        range(29,33):'4'\n",
    "    }\n",
    "    \n",
    "    def set_weeknum(day):\n",
    "        for k,v in weeknum_mapping.items():\n",
    "            if day in k:\n",
    "                return v\n",
    "    \n",
    "    df.timestamp = df.timestamp.astype(int)\n",
    "    df['date'] = df.timestamp.apply(lambda x: datetime.fromtimestamp(x/1000000))\n",
    "    df['year'] = df.date.apply(lambda x: x.year)\n",
    "    df['month'] = df.date.apply(lambda x: x.month)\n",
    "    df['day'] = df.date.apply(lambda x: x.day)\n",
    "    df['hour'] = df.date.apply(lambda x: x.hour)\n",
    "    df['minute'] = df.date.apply(lambda x: x.minute)\n",
    "    df['second'] = df.date.apply(lambda x: x.second)\n",
    "    df['weekday'] = df.date.apply(lambda x: mapping[x.weekday()])\n",
    "    df['weeknum'] = df.day.apply(set_weeknum)\n",
    "    df['weekend'] = df.weekday.apply(lambda x: 1 if x == 'sat' or x == 'sun' else 0)\n",
    "    df['busy'] = df.hour.apply(lambda x: 1 if 9<=x<18 else 0)\n",
    "    try:\n",
    "        df[col_name] = df[col_name].astype(int)\n",
    "    except:\n",
    "        df[col_name] = df[col_name].astype(float)\n",
    "    return df"
   ]
  },
  {
   "cell_type": "code",
   "execution_count": null,
   "metadata": {
    "collapsed": true
   },
   "outputs": [],
   "source": [
    "def select_data(files_name, col_name):\n",
    "    df = load_files_from_folder(files_name=files_name, col_name=col_name)\n",
    "    df = split_date_and_set_week(df, col_name)\n",
    "    return df"
   ]
  },
  {
   "cell_type": "code",
   "execution_count": null,
   "metadata": {},
   "outputs": [],
   "source": [
    "df = select_data('cpuUtil', 'cpu')"
   ]
  },
  {
   "cell_type": "code",
   "execution_count": null,
   "metadata": {},
   "outputs": [],
   "source": [
    "df.head()"
   ]
  },
  {
   "cell_type": "code",
   "execution_count": null,
   "metadata": {
    "collapsed": true
   },
   "outputs": [],
   "source": [
    "cc = df[df.ip == '10.10.245.12']"
   ]
  },
  {
   "cell_type": "code",
   "execution_count": null,
   "metadata": {
    "collapsed": true
   },
   "outputs": [],
   "source": [
    "ts = pd.Series(data = cc['cpu'].values, index=cc['date'].values)"
   ]
  },
  {
   "cell_type": "code",
   "execution_count": null,
   "metadata": {},
   "outputs": [],
   "source": [
    "ts.head(20)"
   ]
  },
  {
   "cell_type": "code",
   "execution_count": null,
   "metadata": {
    "collapsed": true
   },
   "outputs": [],
   "source": [
    "ts_resampled_15 = ts.resample('1T')"
   ]
  },
  {
   "cell_type": "code",
   "execution_count": null,
   "metadata": {},
   "outputs": [],
   "source": [
    "ts_resampled_15.shape"
   ]
  },
  {
   "cell_type": "code",
   "execution_count": null,
   "metadata": {},
   "outputs": [],
   "source": [
    "ts_resampled_15.isnull().sum()"
   ]
  },
  {
   "cell_type": "code",
   "execution_count": null,
   "metadata": {},
   "outputs": [],
   "source": [
    "ts_resampled_15.head(10)"
   ]
  },
  {
   "cell_type": "code",
   "execution_count": null,
   "metadata": {},
   "outputs": [],
   "source": [
    "mn = ts_resampled_15.index.min()\n",
    "mx = ts_resampled_15.index.max()"
   ]
  },
  {
   "cell_type": "code",
   "execution_count": null,
   "metadata": {},
   "outputs": [],
   "source": [
    "ts_resampled_15.shape"
   ]
  },
  {
   "cell_type": "code",
   "execution_count": null,
   "metadata": {
    "collapsed": true
   },
   "outputs": [],
   "source": []
  },
  {
   "cell_type": "code",
   "execution_count": null,
   "metadata": {},
   "outputs": [],
   "source": [
    "60*24"
   ]
  },
  {
   "cell_type": "code",
   "execution_count": null,
   "metadata": {},
   "outputs": [],
   "source": [
    "mn + datet.timedelta(days=1)"
   ]
  },
  {
   "cell_type": "code",
   "execution_count": null,
   "metadata": {
    "collapsed": true
   },
   "outputs": [],
   "source": [
    "st = pd.DataFrame()\n",
    "st['date'] = ts_resampled_15.index.values\n",
    "st['val'] = ts_resampled_15.values"
   ]
  },
  {
   "cell_type": "code",
   "execution_count": null,
   "metadata": {},
   "outputs": [],
   "source": [
    "# st.head(10)"
   ]
  },
  {
   "cell_type": "code",
   "execution_count": null,
   "metadata": {},
   "outputs": [],
   "source": [
    "beg = mn\n",
    "end = mx\n",
    "counter = mn + datet.timedelta(days=1)\n",
    "fd = pd.DataFrame()\n",
    "cols = []\n",
    "cnt = []\n",
    "while counter < mx:\n",
    "    cols.append('{}-{}'.format(beg, counter))\n",
    "    cnt.append(st.loc[\n",
    "        (st.date >= beg)&\n",
    "        (st.date < counter), 'val'].isnull().sum())\n",
    "    beg = counter\n",
    "    counter +=  datet.timedelta(days=1)"
   ]
  },
  {
   "cell_type": "code",
   "execution_count": null,
   "metadata": {
    "collapsed": true
   },
   "outputs": [],
   "source": [
    "fd['day'] = cols\n",
    "fd['nan_count'] = cnt"
   ]
  },
  {
   "cell_type": "code",
   "execution_count": null,
   "metadata": {},
   "outputs": [],
   "source": [
    "fd.head()"
   ]
  },
  {
   "cell_type": "code",
   "execution_count": null,
   "metadata": {
    "collapsed": true
   },
   "outputs": [],
   "source": [
    "tt = fd"
   ]
  },
  {
   "cell_type": "code",
   "execution_count": null,
   "metadata": {},
   "outputs": [],
   "source": [
    "plt.figure(figsize=(17,9))\n",
    "plt.plot(tt.nan_count)\n",
    "plt.xticks(range(len(tt.day)), tt.day, rotation=90);"
   ]
  },
  {
   "cell_type": "code",
   "execution_count": null,
   "metadata": {},
   "outputs": [],
   "source": [
    "tt = fd.sort_values(by='nan_count',ascending=False).reset_index(drop=True)"
   ]
  },
  {
   "cell_type": "code",
   "execution_count": null,
   "metadata": {},
   "outputs": [],
   "source": [
    "plt.plot(tt.nan_count)"
   ]
  },
  {
   "cell_type": "code",
   "execution_count": null,
   "metadata": {
    "collapsed": true
   },
   "outputs": [],
   "source": []
  },
  {
   "cell_type": "code",
   "execution_count": null,
   "metadata": {
    "collapsed": true
   },
   "outputs": [],
   "source": []
  },
  {
   "cell_type": "code",
   "execution_count": null,
   "metadata": {},
   "outputs": [],
   "source": [
    "date = cc['date']"
   ]
  },
  {
   "cell_type": "code",
   "execution_count": null,
   "metadata": {},
   "outputs": [],
   "source": [
    "date.head()"
   ]
  },
  {
   "cell_type": "code",
   "execution_count": null,
   "metadata": {
    "collapsed": true
   },
   "outputs": [],
   "source": [
    "def aggregate_nan_by_week(df, col):\n",
    "    \n",
    "    "
   ]
  },
  {
   "cell_type": "code",
   "execution_count": null,
   "metadata": {},
   "outputs": [],
   "source": [
    "df.ip.unique()[:5]"
   ]
  },
  {
   "cell_type": "code",
   "execution_count": null,
   "metadata": {
    "collapsed": true
   },
   "outputs": [],
   "source": [
    "sub_df = df[df.ip == '10.10.245.12']"
   ]
  },
  {
   "cell_type": "code",
   "execution_count": null,
   "metadata": {
    "collapsed": true
   },
   "outputs": [],
   "source": [
    "ts = pd.Series(data=sub_df.cpu.values, index=sub_df['date'].values)"
   ]
  },
  {
   "cell_type": "code",
   "execution_count": null,
   "metadata": {},
   "outputs": [],
   "source": [
    "print(ts.index[0])\n",
    "print(ts.index[-1])"
   ]
  },
  {
   "cell_type": "code",
   "execution_count": null,
   "metadata": {},
   "outputs": [],
   "source": [
    "plt.scatter(ts.index.values, ts.values)"
   ]
  },
  {
   "cell_type": "code",
   "execution_count": null,
   "metadata": {},
   "outputs": [],
   "source": [
    "ts.value_counts()"
   ]
  },
  {
   "cell_type": "code",
   "execution_count": null,
   "metadata": {},
   "outputs": [],
   "source": [
    "autocorrelation_plot(ts)"
   ]
  },
  {
   "cell_type": "code",
   "execution_count": null,
   "metadata": {
    "collapsed": true
   },
   "outputs": [],
   "source": [
    "ts_mean_3 = ts.rolling(50).mean()"
   ]
  },
  {
   "cell_type": "code",
   "execution_count": null,
   "metadata": {},
   "outputs": [],
   "source": [
    "autocorrelation_plot(ts_mean_3.dropna()[:1000])"
   ]
  },
  {
   "cell_type": "markdown",
   "metadata": {},
   "source": [
    "# Посмотрим на количество измерений и уникальность значений в измерениях"
   ]
  },
  {
   "cell_type": "code",
   "execution_count": null,
   "metadata": {
    "collapsed": true
   },
   "outputs": [],
   "source": [
    "def get_unique_stat(df, col_name):\n",
    "    ip = []\n",
    "    n = []\n",
    "    nunique = []\n",
    "    for k,v in df.groupby(['ip']):\n",
    "        ip.append(k)\n",
    "        n.append(v['timestamp'].count())\n",
    "        nunique.append(v[col_name].unique().shape[0])\n",
    "\n",
    "    unique_stat = pd.DataFrame()\n",
    "    unique_stat['ip'] = ip\n",
    "    unique_stat['n'] = n\n",
    "    unique_stat['nunique'] = nunique\n",
    "    unique_stat['ratio'] = unique_stat['nunique']/unique_stat['n']\n",
    "    return unique_stat"
   ]
  },
  {
   "cell_type": "code",
   "execution_count": null,
   "metadata": {
    "collapsed": true
   },
   "outputs": [],
   "source": [
    "un = get_unique_stat(df, 'out')"
   ]
  },
  {
   "cell_type": "code",
   "execution_count": null,
   "metadata": {},
   "outputs": [],
   "source": [
    "un.head()"
   ]
  },
  {
   "cell_type": "code",
   "execution_count": null,
   "metadata": {},
   "outputs": [],
   "source": [
    "sns.distplot(un['ratio'].values)"
   ]
  },
  {
   "cell_type": "code",
   "execution_count": null,
   "metadata": {
    "collapsed": true
   },
   "outputs": [],
   "source": [
    "def plot_valid_invalid(un):\n",
    "    print(un['nunique'].median())\n",
    "    print(un['nunique'].mean())\n",
    "    print()\n",
    "    print(un['n'].median())\n",
    "    print(un['n'].mean())\n",
    "\n",
    "    clazz = (un['n'] >= un['n'].quantile(.25)) & \\\n",
    "            (un['nunique'] >= un['nunique'].quantile(.25)) & \\\n",
    "            (un['n'] <= un['n'].quantile(.75)) & \\\n",
    "            (un['nunique'] <= un['nunique'].quantile(.75))\n",
    "    unn = un.copy(deep=True)\n",
    "    unn['class'] = clazz.astype(int).values\n",
    "\n",
    "    sns.lmplot(data=unn, x='n', y='nunique', hue='class', size=8, aspect=2, legend=False, scatter=True, logistic=False)\n",
    "    plt.xlabel(u'Количество измерений')\n",
    "    plt.ylabel(u'Количество уникальных значений в измерениях')\n",
    "    plt.axvline(un['n'].quantile(.25), color='g', linestyle='--', label='n quantile(.25)')\n",
    "    plt.axvline(un['n'].quantile(.75), color='g', linestyle='--', label='n quantile(.75)')\n",
    "    plt.axhline(un['nunique'].quantile(.25), color='r', linestyle='--', label='nunique quantile(.25)')\n",
    "    plt.axhline(un['nunique'].quantile(.75), color='r', linestyle='--', label='nunique quantile(.75)')\n",
    "    plt.legend()\n",
    "    \n",
    "    return unn"
   ]
  },
  {
   "cell_type": "code",
   "execution_count": null,
   "metadata": {},
   "outputs": [],
   "source": [
    "unn = plot_valid_invalid(un)"
   ]
  },
  {
   "cell_type": "code",
   "execution_count": null,
   "metadata": {},
   "outputs": [],
   "source": [
    "g = sns.JointGrid(x=un['nunique'], y=un['n'], size=8)\n",
    "g.fig.suptitle('Совместный график распределения уникальных значений и количества показаний по атрибуту outUtil')\n",
    "\n",
    "g = g.plot_joint(plt.scatter, edgecolor=\"white\", color='b', alpha=.4)\n",
    "_ = g.ax_marg_x.hist(un['nunique'], color='r', bins=30, alpha=.2)\n",
    "_ = g.ax_marg_y.hist(un['n'],  orientation=\"horizontal\", bins=30, color='g', alpha=.2)\n",
    "# g = g.annotate(scipy.stats.pearsonr)\n",
    "g.savefig('./../Desktop/memUtil_2.png')"
   ]
  },
  {
   "cell_type": "markdown",
   "metadata": {},
   "source": [
    "## Если посмотреть на процент значений больше или меньше определенных квантилей по всем устройствам"
   ]
  },
  {
   "cell_type": "code",
   "execution_count": null,
   "metadata": {
    "collapsed": true
   },
   "outputs": [],
   "source": [
    "def high_and_low_quantile(df, col_name):\n",
    "    ix = []\n",
    "    val = []\n",
    "    for k, v in df.groupby(['ip']):\n",
    "        vv = v.loc[v[col_name] > v[col_name].quantile(.75), col_name].count()/v[col_name].count()*100\n",
    "        ix.append(k)\n",
    "        val.append(vv)\n",
    "\n",
    "    quantile_75 = pd.Series(data=val, index=ix)\n",
    "\n",
    "    plt.figure(figsize=(17,8))\n",
    "    plt.title(u'Процент значений больше квантиля в .75 по каждому устройству на всем времени съема показаний')\n",
    "    quantile_75.sort_values().plot(label=u'значения в процентах')\n",
    "    n = quantile_75.count()\n",
    "    plt.grid(True)\n",
    "    plt.axhline(y=quantile_75.mean()+1.96*quantile_75.std(), color='green', linestyle='--')\n",
    "    plt.axhline(y=quantile_75.mean()-1.96*quantile_75.std(), color='green', linestyle='--')\n",
    "\n",
    "    threshold = quantile_75.mean()+1.96*quantile_75.std()\n",
    "    plt.axvline(x =n -(quantile_75.sort_values() > threshold).sum(),\n",
    "            linestyle='--')\n",
    "\n",
    "    plt.legend()\n",
    "\n",
    "    print(n -(quantile_75.sort_values() > threshold).sum())\n",
    "    \n",
    "    \n",
    "    ix = []\n",
    "    val = []\n",
    "    for k, v in df.groupby(['ip']):\n",
    "        vv = v.loc[v[col_name] < v[col_name].quantile(.25), col_name].count()/v[col_name].count()*100\n",
    "        ix.append(k)\n",
    "        val.append(vv)\n",
    "\n",
    "    quantile_25 = pd.Series(data=val, index=ix)\n",
    "    n = quantile_25.count()\n",
    "    plt.figure(figsize=(17,8))\n",
    "    plt.title(u'Процент значений меньше квантиля в .25 по каждому устройству на всем времени съема показаний')\n",
    "    quantile_25.sort_values().plot(label=u'значения в процентах')\n",
    "    plt.grid(True)\n",
    "    plt.axhline(y=quantile_25.mean()+1.96*quantile_25.std(), color='green', linestyle='--')\n",
    "    plt.axhline(y=quantile_25.mean()-1.96*quantile_25.std(), color='green', linestyle='--')\n",
    "    threshold = quantile_25.mean()+1.96*quantile_25.std()\n",
    "    plt.axvline(x =n -(quantile_25.sort_values() > threshold).sum(),\n",
    "            linestyle='--')\n",
    "    plt.legend()\n",
    "\n",
    "    print(n -(quantile_25.sort_values() > threshold).sum())\n",
    "    \n",
    "    return quantile_25, quantile_75"
   ]
  },
  {
   "cell_type": "code",
   "execution_count": null,
   "metadata": {
    "collapsed": true
   },
   "outputs": [],
   "source": [
    "# quantile_25, quantile_75 = high_and_low_quantile(df, 'cpu')"
   ]
  },
  {
   "cell_type": "code",
   "execution_count": null,
   "metadata": {
    "collapsed": true
   },
   "outputs": [],
   "source": [
    "# dd = pd.DataFrame()\n",
    "# dd['< quantile(.25), %'] = quantile_25.values\n",
    "# dd['> quantile(.75), %'] = quantile_75.values"
   ]
  },
  {
   "cell_type": "code",
   "execution_count": null,
   "metadata": {
    "collapsed": true
   },
   "outputs": [],
   "source": [
    "# sns.jointplot(data=dd, x='< quantile(.25), %', y='> quantile(.75), %', kind='kde', size=8, aspect=2)"
   ]
  },
  {
   "cell_type": "code",
   "execution_count": null,
   "metadata": {
    "collapsed": true
   },
   "outputs": [],
   "source": [
    "# quantiles = pd.DataFrame()\n",
    "# quantiles['q25'] = quantile_25.values\n",
    "# quantiles['q75'] = quantile_75.values\n",
    "# quantiles['ip'] = quantile_25.index"
   ]
  },
  {
   "cell_type": "code",
   "execution_count": null,
   "metadata": {
    "collapsed": true
   },
   "outputs": [],
   "source": [
    "# sns.regplot(data=quantiles, x='q25', y='q75')"
   ]
  },
  {
   "cell_type": "markdown",
   "metadata": {},
   "source": [
    "## Выделим валидные и невалидные ip по отношению к квантилям"
   ]
  },
  {
   "cell_type": "code",
   "execution_count": null,
   "metadata": {
    "collapsed": true
   },
   "outputs": [],
   "source": [
    "valid_ip = unn[unn['class'] == 1]\n",
    "invalid_ip = unn[unn['class'] == 0]"
   ]
  },
  {
   "cell_type": "code",
   "execution_count": null,
   "metadata": {},
   "outputs": [],
   "source": [
    "invalid_ip.shape"
   ]
  },
  {
   "cell_type": "code",
   "execution_count": null,
   "metadata": {},
   "outputs": [],
   "source": [
    "valid_ip.shape"
   ]
  },
  {
   "cell_type": "code",
   "execution_count": null,
   "metadata": {},
   "outputs": [],
   "source": [
    "valid_ip.sort_values(by='nunique', ascending=False).head()"
   ]
  },
  {
   "cell_type": "code",
   "execution_count": null,
   "metadata": {},
   "outputs": [],
   "source": [
    "fig = plt.figure(figsize=(17,9))\n",
    "fig.suptitle(u'Распределение статистик для атрибута inUnit в разрезе разделенных на две части ip', fontsize=16)\n",
    "plt.subplot(231)\n",
    "sns.distplot(invalid_ip['nunique'])\n",
    "plt.subplot(232)\n",
    "sns.distplot(invalid_ip['n'])\n",
    "plt.subplot(233)\n",
    "sns.distplot(invalid_ip['ratio'])\n",
    "plt.subplot(234)\n",
    "sns.distplot(valid_ip['n'])\n",
    "plt.subplot(235)\n",
    "sns.distplot(valid_ip['nunique'])\n",
    "plt.subplot(236)\n",
    "sns.distplot(valid_ip['ratio'])"
   ]
  },
  {
   "cell_type": "markdown",
   "metadata": {},
   "source": [
    "## Выделим ip  в группы"
   ]
  },
  {
   "cell_type": "code",
   "execution_count": null,
   "metadata": {
    "collapsed": true
   },
   "outputs": [],
   "source": [
    "un.head(2)"
   ]
  },
  {
   "cell_type": "code",
   "execution_count": null,
   "metadata": {
    "collapsed": true
   },
   "outputs": [],
   "source": [
    "ips_backets = pd.DataFrame()\n",
    "ns = []\n",
    "mean_ns = []\n",
    "std_ns = []\n",
    "median_ns = []\n",
    "count_ns = []\n",
    "\n",
    "nun = []\n",
    "mean_nun = []\n",
    "std_nun = []\n",
    "median_nun = []\n",
    "count_nun = []\n",
    "\n",
    "nr = []\n",
    "mean_nr = []\n",
    "std_nr = []\n",
    "median_nr = []\n",
    "\n",
    "nns = np.linspace(1,un['n'].max(),50)\n",
    "nuns = np.linspace(1,un['nunique'].max(),10)\n",
    "indexs = []\n",
    "for ix, nn in enumerate(nns[:-1]):\n",
    "    for jx, nu in enumerate(nuns[:-1]):\n",
    "        mask = (un['n'].isin(range(int(nns[ix]), int(nns[ix+1])))) & \\\n",
    "                (un['nunique'].isin(range(int(nuns[jx]), int(nuns[jx+1]))))\n",
    "        indexs.append('{}-{}; {}-{}'.format(int(nns[ix]), int(nns[ix+1]), int(nuns[jx]), int(nuns[jx+1])))\n",
    "        \n",
    "        ns.append(un.loc[mask, 'n'].count())\n",
    "        count_ns.append(un.loc[mask, 'n'].unique().shape[0])\n",
    "        mean_ns.append(np.mean(un.loc[mask, 'n'].unique()))\n",
    "        std_ns.append(np.std(un.loc[mask, 'n'].unique()))\n",
    "        median_ns.append(np.median(un.loc[mask, 'n'].unique()))\n",
    "        \n",
    "        nun.append(un.loc[mask, 'nunique'].count())\n",
    "        count_nun.append(un.loc[mask, 'nunique'].unique().shape[0])\n",
    "        mean_nun.append(np.mean(un.loc[mask, 'nunique'].unique()))\n",
    "        std_nun.append(np.std(un.loc[mask, 'nunique'].unique()))\n",
    "        median_nun.append(np.median(un.loc[mask, 'nunique'].unique()))\n",
    "        \n",
    "#         nr.append(un.loc[mask, 'ratio'].count())\n",
    "        mean_nr.append(np.mean(un.loc[mask, 'ratio'].unique()))\n",
    "        std_nr.append(np.std(un.loc[mask, 'ratio'].unique()))\n",
    "        median_nr.append(np.median(un.loc[mask, 'ratio'].unique()))\n",
    "\n",
    "ips_backets['bucket'] = indexs\n",
    "ips_backets['bucket_n'] = ips_backets['bucket'].apply(lambda x: x.split('; ')[0])\n",
    "ips_backets['bucket_nun'] = ips_backets['bucket'].apply(lambda x: x.split('; ')[1])\n",
    "        \n",
    "\n",
    "ips_backets['n'] = ns    \n",
    "ips_backets['unique_n'] = count_ns\n",
    "ips_backets['mean_n'] = mean_ns\n",
    "ips_backets['std_n'] = std_ns\n",
    "ips_backets['median_n'] = median_ns\n",
    "\n",
    "ips_backets['count_nunique'] = count_nun\n",
    "ips_backets['mean_nunique'] = mean_nun\n",
    "ips_backets['std_nunique'] = std_nun\n",
    "ips_backets['median_nunique'] = median_nun\n",
    "\n",
    "\n",
    "ips_backets['mean_ratio'] = mean_nr\n",
    "ips_backets['std_ratio'] = std_nr\n",
    "ips_backets['median_ratio'] = median_nr\n",
    "\n",
    "ips_backets.drop('bucket', axis=1, inplace=True)\n",
    "\n",
    "# ips_backets.index = indexs"
   ]
  },
  {
   "cell_type": "code",
   "execution_count": null,
   "metadata": {},
   "outputs": [],
   "source": [
    "ips_backets.shape"
   ]
  },
  {
   "cell_type": "code",
   "execution_count": null,
   "metadata": {},
   "outputs": [],
   "source": [
    "ips_backets.head(48)"
   ]
  },
  {
   "cell_type": "markdown",
   "metadata": {},
   "source": [
    "## Интерполируем данные на равномерную сетку"
   ]
  },
  {
   "cell_type": "code",
   "execution_count": null,
   "metadata": {
    "collapsed": true
   },
   "outputs": [],
   "source": [
    "def create_traces_ts(ts_cpu):\n",
    "    import datetime as dd\n",
    "    ii = ts_cpu.index\n",
    "    return traces.TimeSeries([\n",
    "        (\n",
    "            dd.datetime(ii[i].year, ii[i].month, ii[i].day, ii[i].hour, ii[i].minute, ii[i].second), \n",
    "            ts_cpu[i]\n",
    "        ) for i in range(ts_cpu.shape[0])])\n",
    "\n",
    "def interpolate_ts(ts, interval=30):\n",
    "    import datetime as dd\n",
    "    ii = ts.index\n",
    "    ts = create_traces_ts(ts)\n",
    "    begin = ii[0]\n",
    "    print(begin)\n",
    "    end = ii[-1]\n",
    "    print(end)\n",
    "    ss = ts.sample(\n",
    "        sampling_period=dd.timedelta(minutes=interval),\n",
    "        start=dd.datetime(begin.year, begin.month, begin.day, begin.hour),\n",
    "        end=dd.datetime(end.year, end.month, end.day, end.hour),\n",
    "        interpolate='linear',\n",
    "    )\n",
    "    return pd.Series(data=[i[1] for i in ss] , index=[i[0] for i in ss])"
   ]
  },
  {
   "cell_type": "code",
   "execution_count": null,
   "metadata": {},
   "outputs": [],
   "source": [
    "valid_ip.ip.head(2)"
   ]
  },
  {
   "cell_type": "code",
   "execution_count": null,
   "metadata": {},
   "outputs": [],
   "source": [
    "df.head()"
   ]
  },
  {
   "cell_type": "code",
   "execution_count": null,
   "metadata": {
    "collapsed": true
   },
   "outputs": [],
   "source": [
    "ip = valid_ip.ip.sample(36)"
   ]
  },
  {
   "cell_type": "code",
   "execution_count": null,
   "metadata": {
    "collapsed": true
   },
   "outputs": [],
   "source": [
    "subset = df[df['ip'].isin(ip)]"
   ]
  },
  {
   "cell_type": "code",
   "execution_count": null,
   "metadata": {},
   "outputs": [],
   "source": [
    "subset.head()"
   ]
  },
  {
   "cell_type": "code",
   "execution_count": null,
   "metadata": {},
   "outputs": [],
   "source": [
    "fig = plt.figure(figsize=(18,10))\n",
    "\n",
    "# fig.suptitle(u'Характерный вид данных для cpuUtil')\n",
    "for ix, i in enumerate(ip[:9]):\n",
    "    ts = pd.Series(subset.loc[subset['ip'] ==i, 'out'].values, index=subset.loc[subset['ip'] == i, 'date'].values)\n",
    "    m = ts.mean()\n",
    "    d = ts.std()\n",
    "    pylab.title(u'ip = {}; E={}; std={}'.format(i, round(m,3), round(d,3)))\n",
    "    pylab.subplot(3,3,ix+1)\n",
    "    plt.scatter(ts.index.values, ts.values)\n",
    "    plt.xticks(rotation=40)\n",
    "#     ts.plot(figsize=(18,13))\n",
    "    plt.tight_layout()\n",
    "\n",
    "# plt.plot()"
   ]
  },
  {
   "cell_type": "code",
   "execution_count": null,
   "metadata": {
    "collapsed": true
   },
   "outputs": [],
   "source": [
    "ip = '10.10.137.77'"
   ]
  },
  {
   "cell_type": "code",
   "execution_count": null,
   "metadata": {
    "collapsed": true
   },
   "outputs": [],
   "source": [
    "tt = pd.Series(subset.loc[subset['ip'] ==i, 'cpu'].values, index=subset.loc[subset['ip'] == i, 'date'].values)"
   ]
  },
  {
   "cell_type": "code",
   "execution_count": null,
   "metadata": {},
   "outputs": [],
   "source": [
    "sns.distplot(tt)"
   ]
  },
  {
   "cell_type": "code",
   "execution_count": null,
   "metadata": {},
   "outputs": [],
   "source": [
    "plt.scatter(tt.index.values, tt.values)\n",
    "plt.xticks(rotation=70)"
   ]
  },
  {
   "cell_type": "code",
   "execution_count": null,
   "metadata": {},
   "outputs": [],
   "source": [
    "tt.tail()"
   ]
  },
  {
   "cell_type": "code",
   "execution_count": null,
   "metadata": {},
   "outputs": [],
   "source": [
    "tt[:1300].plot()"
   ]
  },
  {
   "cell_type": "code",
   "execution_count": null,
   "metadata": {},
   "outputs": [],
   "source": [
    "tt.head(1)"
   ]
  },
  {
   "cell_type": "code",
   "execution_count": null,
   "metadata": {},
   "outputs": [],
   "source": [
    "ts.tail(1)"
   ]
  },
  {
   "cell_type": "code",
   "execution_count": null,
   "metadata": {},
   "outputs": [],
   "source": [
    "ts_inter = interpolate_ts(ts)"
   ]
  },
  {
   "cell_type": "code",
   "execution_count": null,
   "metadata": {},
   "outputs": [],
   "source": [
    "ts_inter.plot()"
   ]
  },
  {
   "cell_type": "code",
   "execution_count": null,
   "metadata": {},
   "outputs": [],
   "source": [
    "i"
   ]
  },
  {
   "cell_type": "code",
   "execution_count": null,
   "metadata": {},
   "outputs": [],
   "source": [
    "ts_inter.index[:3]"
   ]
  },
  {
   "cell_type": "code",
   "execution_count": null,
   "metadata": {},
   "outputs": [],
   "source": [
    "ts_inter.plot()"
   ]
  },
  {
   "cell_type": "code",
   "execution_count": null,
   "metadata": {},
   "outputs": [],
   "source": [
    "def invboxcox(y,lmbda):\n",
    "    # обрабтное преобразование Бокса-Кокса\n",
    "    if lmbda == 0:\n",
    "        return(np.exp(y))\n",
    "    else:\n",
    "        return(np.exp(np.log(lmbda*y+1)/lmbda))\n",
    "\n",
    "# print(df.cpu.astype(float))\n",
    "new_ts, lmbda = scs.boxcox(ts_inter) \n",
    "plt.plot(new_ts)\n",
    "print(\"Оптимальный параметр преобразования Бокса-Кокса: %f\" % lmbda)"
   ]
  },
  {
   "cell_type": "code",
   "execution_count": null,
   "metadata": {
    "collapsed": true
   },
   "outputs": [],
   "source": [
    "new_ts = pd.Series(new_ts, index=ts_inter.index.values)"
   ]
  },
  {
   "cell_type": "code",
   "execution_count": null,
   "metadata": {
    "collapsed": true
   },
   "outputs": [],
   "source": [
    "def exp_smoothing(vals, alpha):\n",
    "    result = [vals[0]] # first value is same as series\n",
    "    for n in range(1, len(vals)):\n",
    "        result.append(alpha * vals[n] + (1 - alpha) * result[n-1])\n",
    "    return result"
   ]
  },
  {
   "cell_type": "code",
   "execution_count": null,
   "metadata": {
    "collapsed": true
   },
   "outputs": [],
   "source": [
    "rr = exp_smoothing(new_ts,0.5)"
   ]
  },
  {
   "cell_type": "code",
   "execution_count": null,
   "metadata": {},
   "outputs": [],
   "source": [
    "plt.plot(rr[:100])"
   ]
  },
  {
   "cell_type": "code",
   "execution_count": null,
   "metadata": {
    "collapsed": true
   },
   "outputs": [],
   "source": [
    "d = adfuller(x=new_ts)"
   ]
  },
  {
   "cell_type": "code",
   "execution_count": null,
   "metadata": {},
   "outputs": [],
   "source": [
    "result = adfuller(x=new_ts)\n",
    "print('ADF Statistic: %f' % result[0])\n",
    "print('p-value: %f' % result[1])\n",
    "print('Critical Values:')\n",
    "for key, value in result[4].items():\n",
    "    print('\\t%s: %.3f' % (key, value))"
   ]
  },
  {
   "cell_type": "code",
   "execution_count": null,
   "metadata": {
    "collapsed": true
   },
   "outputs": [],
   "source": [
    "new_ts = pd.Series(new_ts, index=ts_inter.index.values)"
   ]
  },
  {
   "cell_type": "code",
   "execution_count": null,
   "metadata": {
    "collapsed": true
   },
   "outputs": [],
   "source": []
  },
  {
   "cell_type": "code",
   "execution_count": null,
   "metadata": {},
   "outputs": [],
   "source": [
    "new_ts.head()"
   ]
  },
  {
   "cell_type": "code",
   "execution_count": null,
   "metadata": {},
   "outputs": [],
   "source": [
    "new_ts.rolling(window=24).mean().plot()"
   ]
  },
  {
   "cell_type": "code",
   "execution_count": null,
   "metadata": {
    "collapsed": true
   },
   "outputs": [],
   "source": [
    "ts_internal_48 = exp_smoothing(ts_inter, 0.3)"
   ]
  },
  {
   "cell_type": "code",
   "execution_count": null,
   "metadata": {},
   "outputs": [],
   "source": [
    "plt.plot(ts_internal_48[:])"
   ]
  },
  {
   "cell_type": "code",
   "execution_count": null,
   "metadata": {
    "collapsed": true
   },
   "outputs": [],
   "source": [
    "t = subset.loc[subset['ip'] ==i, 'timestamp'].astype(int).values\n",
    "y = ts.values\n",
    "\n",
    "# frequency, power = ast_stats.LombScargle(t=t, y=y).autopower()"
   ]
  },
  {
   "cell_type": "code",
   "execution_count": null,
   "metadata": {},
   "outputs": [],
   "source": [
    "frequency, power = ast_stats.LombScargle(y=ts_inter).autopower()"
   ]
  },
  {
   "cell_type": "code",
   "execution_count": null,
   "metadata": {},
   "outputs": [],
   "source": [
    "frequency[:5]"
   ]
  },
  {
   "cell_type": "code",
   "execution_count": null,
   "metadata": {},
   "outputs": [],
   "source": [
    "plt.plot(frequency, power)"
   ]
  },
  {
   "cell_type": "code",
   "execution_count": null,
   "metadata": {},
   "outputs": [],
   "source": [
    "rr[:3]"
   ]
  },
  {
   "cell_type": "code",
   "execution_count": null,
   "metadata": {
    "collapsed": true
   },
   "outputs": [],
   "source": []
  }
 ],
 "metadata": {
  "kernelspec": {
   "display_name": "Python 3",
   "language": "python",
   "name": "python3"
  },
  "language_info": {
   "codemirror_mode": {
    "name": "ipython",
    "version": 3
   },
   "file_extension": ".py",
   "mimetype": "text/x-python",
   "name": "python",
   "nbconvert_exporter": "python",
   "pygments_lexer": "ipython3",
   "version": "3.6.2"
  }
 },
 "nbformat": 4,
 "nbformat_minor": 2
}
